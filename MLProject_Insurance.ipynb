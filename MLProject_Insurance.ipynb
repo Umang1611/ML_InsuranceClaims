{
  "nbformat": 4,
  "nbformat_minor": 0,
  "metadata": {
    "colab": {
      "name": "MLProject_Insurance.ipynb",
      "provenance": []
    },
    "kernelspec": {
      "name": "python3",
      "display_name": "Python 3"
    },
    "accelerator": "GPU"
  },
  "cells": [
    {
      "cell_type": "markdown",
      "metadata": {
        "id": "e1n-4tw00lfG",
        "colab_type": "text"
      },
      "source": [
        "# Load Libraries "
      ]
    },
    {
      "cell_type": "code",
      "metadata": {
        "id": "rDhe6RamWhE8",
        "colab_type": "code",
        "colab": {
          "base_uri": "https://localhost:8080/",
          "height": 139
        },
        "outputId": "2e83921e-37f0-4421-e073-22202a7221d6"
      },
      "source": [
        "import pandas as pd\n",
        "import numpy as np\n",
        "import seaborn as sns\n",
        "from sklearn import metrics\n",
        "from imblearn.over_sampling import SMOTE\n",
        "from imblearn.under_sampling import RandomUnderSampler\n",
        "from sklearn.model_selection import train_test_split\n",
        "import matplotlib.pyplot as plt  \n",
        "from sklearn.preprocessing import StandardScaler\n",
        "from xgboost.sklearn import XGBClassifier\n",
        "from sklearn.model_selection import GridSearchCV\n",
        "from sklearn.ensemble import AdaBoostClassifier\n",
        "from sklearn.ensemble import RandomForestClassifier"
      ],
      "execution_count": 2,
      "outputs": [
        {
          "output_type": "stream",
          "text": [
            "/usr/local/lib/python3.6/dist-packages/statsmodels/tools/_testing.py:19: FutureWarning: pandas.util.testing is deprecated. Use the functions in the public API at pandas.testing instead.\n",
            "  import pandas.util.testing as tm\n",
            "/usr/local/lib/python3.6/dist-packages/sklearn/externals/six.py:31: FutureWarning: The module is deprecated in version 0.21 and will be removed in version 0.23 since we've dropped support for Python 2.7. Please rely on the official version of six (https://pypi.org/project/six/).\n",
            "  \"(https://pypi.org/project/six/).\", FutureWarning)\n",
            "/usr/local/lib/python3.6/dist-packages/sklearn/utils/deprecation.py:144: FutureWarning: The sklearn.neighbors.base module is  deprecated in version 0.22 and will be removed in version 0.24. The corresponding classes / functions should instead be imported from sklearn.neighbors. Anything that cannot be imported from sklearn.neighbors is now part of the private API.\n",
            "  warnings.warn(message, FutureWarning)\n"
          ],
          "name": "stderr"
        }
      ]
    },
    {
      "cell_type": "code",
      "metadata": {
        "id": "N-Ui8fM6nqyv",
        "colab_type": "code",
        "colab": {}
      },
      "source": [
        "from sklearn.linear_model import LogisticRegression\n",
        "#from sklearn.neighbors import NeighborhoodComponentAnalysis\n",
        "from sklearn.decomposition import PCA"
      ],
      "execution_count": 3,
      "outputs": []
    },
    {
      "cell_type": "markdown",
      "metadata": {
        "id": "5nIY5oaH3x5g",
        "colab_type": "text"
      },
      "source": [
        "# Reading unclean data"
      ]
    },
    {
      "cell_type": "code",
      "metadata": {
        "id": "_dFQJqEJ32gE",
        "colab_type": "code",
        "colab": {}
      },
      "source": [
        "d = pd.read_csv('D:\\\\ishan\\\\pythonproject\\\\Final project\\\\Insurence\\\\train2.csv', na_values = [-1])"
      ],
      "execution_count": null,
      "outputs": []
    },
    {
      "cell_type": "markdown",
      "metadata": {
        "id": "GgC9bcuB5CCv",
        "colab_type": "text"
      },
      "source": [
        "missing values"
      ]
    },
    {
      "cell_type": "code",
      "metadata": {
        "id": "g0GLifgv3_2o",
        "colab_type": "code",
        "colab": {}
      },
      "source": [
        "# missing values - ps_ind_02_cat,ps_ind_04_cat,ps_ind_05_cat,ps_reg_03,ps_car_01_cat,ps_car_03_cat(411231),ps_car_05_cat(266551)\n",
        "#ps_car_07_cat,ps_car_09_cat,ps_car_11,ps_car_14"
      ],
      "execution_count": null,
      "outputs": []
    },
    {
      "cell_type": "markdown",
      "metadata": {
        "id": "p6pN7An54L9J",
        "colab_type": "text"
      },
      "source": [
        "co relation between interval variables"
      ]
    },
    {
      "cell_type": "code",
      "metadata": {
        "id": "2jlZxP3T4Gch",
        "colab_type": "code",
        "colab": {}
      },
      "source": [
        "col1 = ['ps_ind_01','ps_ind_03','ps_ind_14','ps_ind_15','ps_reg_01','ps_reg_02','ps_reg_03','ps_car_11','ps_car_12','ps_car_13','ps_car_14','ps_car_15','ps_calc_01','ps_calc_02','ps_calc_03','ps_calc_04','ps_calc_05','ps_calc_06','ps_calc_07','ps_calc_08','ps_calc_09','ps_calc_10','ps_calc_11','ps_calc_12','ps_calc_13','ps_calc_14','ps_calc_15']\n",
        "l = len(internal_array[0])\n",
        "for i in range (0,l):\n",
        "    m = internal_array[0][i]\n",
        "    n = internal_array[1][i]\n",
        "    if not col1[m] == col1[n]:\n",
        "        print((col1[m],col1[n])) # co relation between interval variables"
      ],
      "execution_count": null,
      "outputs": []
    },
    {
      "cell_type": "markdown",
      "metadata": {
        "id": "p47fzDYm4X6-",
        "colab_type": "text"
      },
      "source": [
        " co relation between ordinal variables"
      ]
    },
    {
      "cell_type": "code",
      "metadata": {
        "id": "8jCCzjQg4H3Y",
        "colab_type": "code",
        "colab": {}
      },
      "source": [
        "col2 = ['ps_ind_02_cat','ps_ind_04_cat','ps_ind_08_cat','ps_car_01_cat','ps_car_02_cat','ps_car_03_cat','ps_car_04_cat','ps_car_05_cat','ps_car_06_cat','ps_car_07_cat','ps_car_08_cat','ps_car_09_cat','ps_car_10_cat','ps_car_11_cat']\n",
        "l = len(ordinal_array[0])\n",
        "for i in range (0,l):\n",
        "    m = ordinal_array[0][i]\n",
        "    n = ordinal_array[1][i]\n",
        "    if not col2[m] == col2[n]:\n",
        "        print((col2[m],col2[n])) # co relation between ordinal variables"
      ],
      "execution_count": null,
      "outputs": []
    },
    {
      "cell_type": "code",
      "metadata": {
        "id": "F7-CG0fA-HpP",
        "colab_type": "code",
        "colab": {}
      },
      "source": [
        "continuous=df.dtypes[(df.dtypes=='int64')|(df.dtypes == 'float64')].index\n",
        "\n",
        "fig=plt.figure(figsize=(20,15))\n",
        "for i in range(0,len(continuous)):\n",
        "    ax=fig.add_subplot(6,10,i+1)\n",
        "    sns.boxplot(y=df[continuous[i]])\n",
        "    ax.set_title(df.columns[i],color='Blue')\n",
        "    plt.grid()\n",
        "plt.tight_layout()"
      ],
      "execution_count": null,
      "outputs": []
    },
    {
      "cell_type": "markdown",
      "metadata": {
        "id": "g8A2JAmt4eqi",
        "colab_type": "text"
      },
      "source": [
        "Outliters detection\n",
        "![alt text](https://drive.google.com/uc?export=view&id=1Fz5AzfF6cXRt53u-aZo50BpeBq0fwof4)"
      ]
    },
    {
      "cell_type": "code",
      "metadata": {
        "id": "Nck8STxT4cOM",
        "colab_type": "code",
        "colab": {}
      },
      "source": [
        ""
      ],
      "execution_count": null,
      "outputs": []
    },
    {
      "cell_type": "markdown",
      "metadata": {
        "id": "rqJojfcq4u2d",
        "colab_type": "text"
      },
      "source": [
        "Corelation matrix"
      ]
    },
    {
      "cell_type": "code",
      "metadata": {
        "id": "rhuujAZM4p_q",
        "colab_type": "code",
        "colab": {}
      },
      "source": [
        "corr_matrix = corr_matrix.iloc[:,:].astype(np.float64)\n",
        "corr_matrix = pd.DataFrame(columns = data.columns , index = data.columns)\n",
        "for i in range(0,59):\n",
        "    #print(col[i])\n",
        "    for j in range(0,59):\n",
        "        #print(np.corrcoef(data.iloc[:,i:(i+1)],data.iloc[:,j:(j+1)],rowvar =0)[0][1])\n",
        "        corr_matrix.iloc[j:(j+1),i:(i+1)]= np.corrcoef(data.iloc[:,i:(i+1)],data.iloc[:,j:(j+1)],rowvar =0)[0][1]"
      ],
      "execution_count": null,
      "outputs": []
    },
    {
      "cell_type": "markdown",
      "metadata": {
        "id": "NU98gQnnyI2l",
        "colab_type": "text"
      },
      "source": [
        "#Load file from Google Drive"
      ]
    },
    {
      "cell_type": "code",
      "metadata": {
        "id": "SnppFGp_yQ7N",
        "colab_type": "code",
        "colab": {
          "base_uri": "https://localhost:8080/",
          "height": 122
        },
        "outputId": "6ce42c57-4a12-4d34-dbc6-a8fa703d70ce"
      },
      "source": [
        "from google.colab import drive\n",
        "drive.mount('/content/drive')\n",
        "path = '/content/drive/My Drive/Colab Notebooks/'"
      ],
      "execution_count": 4,
      "outputs": [
        {
          "output_type": "stream",
          "text": [
            "Go to this URL in a browser: https://accounts.google.com/o/oauth2/auth?client_id=947318989803-6bn6qk8qdgf4n4g3pfee6491hc0brc4i.apps.googleusercontent.com&redirect_uri=urn%3aietf%3awg%3aoauth%3a2.0%3aoob&response_type=code&scope=email%20https%3a%2f%2fwww.googleapis.com%2fauth%2fdocs.test%20https%3a%2f%2fwww.googleapis.com%2fauth%2fdrive%20https%3a%2f%2fwww.googleapis.com%2fauth%2fdrive.photos.readonly%20https%3a%2f%2fwww.googleapis.com%2fauth%2fpeopleapi.readonly\n",
            "\n",
            "Enter your authorization code:\n",
            "··········\n",
            "Mounted at /content/drive\n"
          ],
          "name": "stdout"
        }
      ]
    },
    {
      "cell_type": "markdown",
      "metadata": {
        "id": "F6A8lsnnyuYP",
        "colab_type": "text"
      },
      "source": [
        "# Read Clean CSV \n",
        "\n",
        "---\n",
        "\n",
        "\n",
        "\n",
        "1.   Imputed missing values\n",
        "2.   Dropped two features with heighest missing data\n",
        "3.   Treated Outliers\n",
        "4.   Checked for duplicate data rows not present   \n",
        "\n"
      ]
    },
    {
      "cell_type": "code",
      "metadata": {
        "id": "fYM9Wb8_nq5Z",
        "colab_type": "code",
        "colab": {}
      },
      "source": [
        "df = pd.read_csv(path+'/clean_data.csv')\n",
        "df = df.drop('id', axis =1)"
      ],
      "execution_count": 5,
      "outputs": []
    },
    {
      "cell_type": "code",
      "metadata": {
        "id": "S6QaVMAnzHY5",
        "colab_type": "code",
        "colab": {
          "base_uri": "https://localhost:8080/",
          "height": 224
        },
        "outputId": "705b76c8-cb04-457e-f003-e65b68a2edbf"
      },
      "source": [
        "df.head()"
      ],
      "execution_count": 6,
      "outputs": [
        {
          "output_type": "execute_result",
          "data": {
            "text/html": [
              "<div>\n",
              "<style scoped>\n",
              "    .dataframe tbody tr th:only-of-type {\n",
              "        vertical-align: middle;\n",
              "    }\n",
              "\n",
              "    .dataframe tbody tr th {\n",
              "        vertical-align: top;\n",
              "    }\n",
              "\n",
              "    .dataframe thead th {\n",
              "        text-align: right;\n",
              "    }\n",
              "</style>\n",
              "<table border=\"1\" class=\"dataframe\">\n",
              "  <thead>\n",
              "    <tr style=\"text-align: right;\">\n",
              "      <th></th>\n",
              "      <th>target</th>\n",
              "      <th>ps_ind_01</th>\n",
              "      <th>ps_ind_02_cat</th>\n",
              "      <th>ps_ind_03</th>\n",
              "      <th>ps_ind_04_cat</th>\n",
              "      <th>ps_ind_05_cat</th>\n",
              "      <th>ps_ind_06_bin</th>\n",
              "      <th>ps_ind_07_bin</th>\n",
              "      <th>ps_ind_08_bin</th>\n",
              "      <th>ps_ind_09_bin</th>\n",
              "      <th>ps_ind_10_bin</th>\n",
              "      <th>ps_ind_11_bin</th>\n",
              "      <th>ps_ind_12_bin</th>\n",
              "      <th>ps_ind_13_bin</th>\n",
              "      <th>ps_ind_14</th>\n",
              "      <th>ps_ind_15</th>\n",
              "      <th>ps_ind_16_bin</th>\n",
              "      <th>ps_ind_17_bin</th>\n",
              "      <th>ps_ind_18_bin</th>\n",
              "      <th>ps_reg_01</th>\n",
              "      <th>ps_reg_02</th>\n",
              "      <th>ps_reg_03</th>\n",
              "      <th>ps_car_01_cat</th>\n",
              "      <th>ps_car_02_cat</th>\n",
              "      <th>ps_car_04_cat</th>\n",
              "      <th>ps_car_06_cat</th>\n",
              "      <th>ps_car_07_cat</th>\n",
              "      <th>ps_car_08_cat</th>\n",
              "      <th>ps_car_09_cat</th>\n",
              "      <th>ps_car_10_cat</th>\n",
              "      <th>ps_car_11_cat</th>\n",
              "      <th>ps_car_11</th>\n",
              "      <th>ps_car_12</th>\n",
              "      <th>ps_car_13</th>\n",
              "      <th>ps_car_14</th>\n",
              "      <th>ps_car_15</th>\n",
              "      <th>ps_calc_01</th>\n",
              "      <th>ps_calc_02</th>\n",
              "      <th>ps_calc_03</th>\n",
              "      <th>ps_calc_04</th>\n",
              "      <th>ps_calc_05</th>\n",
              "      <th>ps_calc_06</th>\n",
              "      <th>ps_calc_07</th>\n",
              "      <th>ps_calc_08</th>\n",
              "      <th>ps_calc_09</th>\n",
              "      <th>ps_calc_10</th>\n",
              "      <th>ps_calc_11</th>\n",
              "      <th>ps_calc_12</th>\n",
              "      <th>ps_calc_13</th>\n",
              "      <th>ps_calc_14</th>\n",
              "      <th>ps_calc_15_bin</th>\n",
              "      <th>ps_calc_16_bin</th>\n",
              "      <th>ps_calc_17_bin</th>\n",
              "      <th>ps_calc_18_bin</th>\n",
              "      <th>ps_calc_19_bin</th>\n",
              "      <th>ps_calc_20_bin</th>\n",
              "    </tr>\n",
              "  </thead>\n",
              "  <tbody>\n",
              "    <tr>\n",
              "      <th>0</th>\n",
              "      <td>0</td>\n",
              "      <td>2</td>\n",
              "      <td>2.0</td>\n",
              "      <td>5</td>\n",
              "      <td>1.0</td>\n",
              "      <td>0.0</td>\n",
              "      <td>0</td>\n",
              "      <td>1</td>\n",
              "      <td>0</td>\n",
              "      <td>0</td>\n",
              "      <td>0</td>\n",
              "      <td>0</td>\n",
              "      <td>0</td>\n",
              "      <td>0</td>\n",
              "      <td>0</td>\n",
              "      <td>11</td>\n",
              "      <td>0</td>\n",
              "      <td>1</td>\n",
              "      <td>0</td>\n",
              "      <td>0.7</td>\n",
              "      <td>0.2</td>\n",
              "      <td>0.718070</td>\n",
              "      <td>10.0</td>\n",
              "      <td>1</td>\n",
              "      <td>0</td>\n",
              "      <td>4</td>\n",
              "      <td>1.0</td>\n",
              "      <td>0</td>\n",
              "      <td>0.0</td>\n",
              "      <td>1</td>\n",
              "      <td>12</td>\n",
              "      <td>2.0</td>\n",
              "      <td>0.400000</td>\n",
              "      <td>0.883679</td>\n",
              "      <td>0.370810</td>\n",
              "      <td>3.605551</td>\n",
              "      <td>0.6</td>\n",
              "      <td>0.5</td>\n",
              "      <td>0.2</td>\n",
              "      <td>3</td>\n",
              "      <td>1</td>\n",
              "      <td>10</td>\n",
              "      <td>1</td>\n",
              "      <td>10</td>\n",
              "      <td>1</td>\n",
              "      <td>5</td>\n",
              "      <td>9</td>\n",
              "      <td>1</td>\n",
              "      <td>5</td>\n",
              "      <td>8</td>\n",
              "      <td>0</td>\n",
              "      <td>1</td>\n",
              "      <td>1</td>\n",
              "      <td>0</td>\n",
              "      <td>0</td>\n",
              "      <td>1</td>\n",
              "    </tr>\n",
              "    <tr>\n",
              "      <th>1</th>\n",
              "      <td>0</td>\n",
              "      <td>1</td>\n",
              "      <td>1.0</td>\n",
              "      <td>7</td>\n",
              "      <td>0.0</td>\n",
              "      <td>0.0</td>\n",
              "      <td>0</td>\n",
              "      <td>0</td>\n",
              "      <td>1</td>\n",
              "      <td>0</td>\n",
              "      <td>0</td>\n",
              "      <td>0</td>\n",
              "      <td>0</td>\n",
              "      <td>0</td>\n",
              "      <td>0</td>\n",
              "      <td>3</td>\n",
              "      <td>0</td>\n",
              "      <td>0</td>\n",
              "      <td>1</td>\n",
              "      <td>0.8</td>\n",
              "      <td>0.4</td>\n",
              "      <td>0.766078</td>\n",
              "      <td>11.0</td>\n",
              "      <td>1</td>\n",
              "      <td>0</td>\n",
              "      <td>11</td>\n",
              "      <td>1.0</td>\n",
              "      <td>1</td>\n",
              "      <td>2.0</td>\n",
              "      <td>1</td>\n",
              "      <td>19</td>\n",
              "      <td>3.0</td>\n",
              "      <td>0.316228</td>\n",
              "      <td>0.618817</td>\n",
              "      <td>0.388716</td>\n",
              "      <td>2.449490</td>\n",
              "      <td>0.3</td>\n",
              "      <td>0.1</td>\n",
              "      <td>0.3</td>\n",
              "      <td>2</td>\n",
              "      <td>1</td>\n",
              "      <td>9</td>\n",
              "      <td>5</td>\n",
              "      <td>8</td>\n",
              "      <td>1</td>\n",
              "      <td>7</td>\n",
              "      <td>3</td>\n",
              "      <td>1</td>\n",
              "      <td>1</td>\n",
              "      <td>9</td>\n",
              "      <td>0</td>\n",
              "      <td>1</td>\n",
              "      <td>1</td>\n",
              "      <td>0</td>\n",
              "      <td>1</td>\n",
              "      <td>0</td>\n",
              "    </tr>\n",
              "    <tr>\n",
              "      <th>2</th>\n",
              "      <td>0</td>\n",
              "      <td>5</td>\n",
              "      <td>4.0</td>\n",
              "      <td>9</td>\n",
              "      <td>1.0</td>\n",
              "      <td>0.0</td>\n",
              "      <td>0</td>\n",
              "      <td>0</td>\n",
              "      <td>1</td>\n",
              "      <td>0</td>\n",
              "      <td>0</td>\n",
              "      <td>0</td>\n",
              "      <td>0</td>\n",
              "      <td>0</td>\n",
              "      <td>0</td>\n",
              "      <td>12</td>\n",
              "      <td>1</td>\n",
              "      <td>0</td>\n",
              "      <td>0</td>\n",
              "      <td>0.0</td>\n",
              "      <td>0.0</td>\n",
              "      <td>0.890000</td>\n",
              "      <td>7.0</td>\n",
              "      <td>1</td>\n",
              "      <td>0</td>\n",
              "      <td>14</td>\n",
              "      <td>1.0</td>\n",
              "      <td>1</td>\n",
              "      <td>2.0</td>\n",
              "      <td>1</td>\n",
              "      <td>60</td>\n",
              "      <td>1.0</td>\n",
              "      <td>0.316228</td>\n",
              "      <td>0.641586</td>\n",
              "      <td>0.347275</td>\n",
              "      <td>3.316625</td>\n",
              "      <td>0.5</td>\n",
              "      <td>0.7</td>\n",
              "      <td>0.1</td>\n",
              "      <td>2</td>\n",
              "      <td>2</td>\n",
              "      <td>9</td>\n",
              "      <td>1</td>\n",
              "      <td>8</td>\n",
              "      <td>2</td>\n",
              "      <td>7</td>\n",
              "      <td>4</td>\n",
              "      <td>2</td>\n",
              "      <td>7</td>\n",
              "      <td>7</td>\n",
              "      <td>0</td>\n",
              "      <td>1</td>\n",
              "      <td>1</td>\n",
              "      <td>0</td>\n",
              "      <td>1</td>\n",
              "      <td>0</td>\n",
              "    </tr>\n",
              "    <tr>\n",
              "      <th>3</th>\n",
              "      <td>0</td>\n",
              "      <td>0</td>\n",
              "      <td>1.0</td>\n",
              "      <td>2</td>\n",
              "      <td>0.0</td>\n",
              "      <td>0.0</td>\n",
              "      <td>1</td>\n",
              "      <td>0</td>\n",
              "      <td>0</td>\n",
              "      <td>0</td>\n",
              "      <td>0</td>\n",
              "      <td>0</td>\n",
              "      <td>0</td>\n",
              "      <td>0</td>\n",
              "      <td>0</td>\n",
              "      <td>8</td>\n",
              "      <td>1</td>\n",
              "      <td>0</td>\n",
              "      <td>0</td>\n",
              "      <td>0.9</td>\n",
              "      <td>0.2</td>\n",
              "      <td>0.580948</td>\n",
              "      <td>7.0</td>\n",
              "      <td>1</td>\n",
              "      <td>0</td>\n",
              "      <td>11</td>\n",
              "      <td>1.0</td>\n",
              "      <td>1</td>\n",
              "      <td>3.0</td>\n",
              "      <td>1</td>\n",
              "      <td>104</td>\n",
              "      <td>1.0</td>\n",
              "      <td>0.374166</td>\n",
              "      <td>0.542949</td>\n",
              "      <td>0.294958</td>\n",
              "      <td>2.000000</td>\n",
              "      <td>0.6</td>\n",
              "      <td>0.9</td>\n",
              "      <td>0.1</td>\n",
              "      <td>2</td>\n",
              "      <td>4</td>\n",
              "      <td>7</td>\n",
              "      <td>1</td>\n",
              "      <td>8</td>\n",
              "      <td>4</td>\n",
              "      <td>2</td>\n",
              "      <td>2</td>\n",
              "      <td>2</td>\n",
              "      <td>4</td>\n",
              "      <td>9</td>\n",
              "      <td>0</td>\n",
              "      <td>0</td>\n",
              "      <td>0</td>\n",
              "      <td>0</td>\n",
              "      <td>0</td>\n",
              "      <td>0</td>\n",
              "    </tr>\n",
              "    <tr>\n",
              "      <th>4</th>\n",
              "      <td>0</td>\n",
              "      <td>0</td>\n",
              "      <td>2.0</td>\n",
              "      <td>0</td>\n",
              "      <td>1.0</td>\n",
              "      <td>0.0</td>\n",
              "      <td>1</td>\n",
              "      <td>0</td>\n",
              "      <td>0</td>\n",
              "      <td>0</td>\n",
              "      <td>0</td>\n",
              "      <td>0</td>\n",
              "      <td>0</td>\n",
              "      <td>0</td>\n",
              "      <td>0</td>\n",
              "      <td>9</td>\n",
              "      <td>1</td>\n",
              "      <td>0</td>\n",
              "      <td>0</td>\n",
              "      <td>0.7</td>\n",
              "      <td>0.6</td>\n",
              "      <td>0.840759</td>\n",
              "      <td>11.0</td>\n",
              "      <td>1</td>\n",
              "      <td>0</td>\n",
              "      <td>14</td>\n",
              "      <td>1.0</td>\n",
              "      <td>1</td>\n",
              "      <td>2.0</td>\n",
              "      <td>1</td>\n",
              "      <td>82</td>\n",
              "      <td>3.0</td>\n",
              "      <td>0.316070</td>\n",
              "      <td>0.565832</td>\n",
              "      <td>0.365103</td>\n",
              "      <td>2.000000</td>\n",
              "      <td>0.4</td>\n",
              "      <td>0.6</td>\n",
              "      <td>0.0</td>\n",
              "      <td>2</td>\n",
              "      <td>2</td>\n",
              "      <td>6</td>\n",
              "      <td>3</td>\n",
              "      <td>10</td>\n",
              "      <td>2</td>\n",
              "      <td>12</td>\n",
              "      <td>3</td>\n",
              "      <td>1</td>\n",
              "      <td>1</td>\n",
              "      <td>3</td>\n",
              "      <td>0</td>\n",
              "      <td>0</td>\n",
              "      <td>0</td>\n",
              "      <td>1</td>\n",
              "      <td>1</td>\n",
              "      <td>0</td>\n",
              "    </tr>\n",
              "  </tbody>\n",
              "</table>\n",
              "</div>"
            ],
            "text/plain": [
              "   target  ps_ind_01  ...  ps_calc_19_bin  ps_calc_20_bin\n",
              "0       0          2  ...               0               1\n",
              "1       0          1  ...               1               0\n",
              "2       0          5  ...               1               0\n",
              "3       0          0  ...               0               0\n",
              "4       0          0  ...               1               0\n",
              "\n",
              "[5 rows x 56 columns]"
            ]
          },
          "metadata": {
            "tags": []
          },
          "execution_count": 6
        }
      ]
    },
    {
      "cell_type": "code",
      "metadata": {
        "id": "O1mWuPJeo-q9",
        "colab_type": "code",
        "colab": {
          "base_uri": "https://localhost:8080/",
          "height": 34
        },
        "outputId": "2d911fed-17df-458f-da94-ab5d5eb4925d"
      },
      "source": [
        "df.shape"
      ],
      "execution_count": 8,
      "outputs": [
        {
          "output_type": "execute_result",
          "data": {
            "text/plain": [
              "(595212, 56)"
            ]
          },
          "metadata": {
            "tags": []
          },
          "execution_count": 8
        }
      ]
    },
    {
      "cell_type": "markdown",
      "metadata": {
        "id": "djL8PoOYRDac",
        "colab_type": "text"
      },
      "source": [
        "# Scaling - df"
      ]
    },
    {
      "cell_type": "code",
      "metadata": {
        "id": "07muNdt6RGzO",
        "colab_type": "code",
        "colab": {}
      },
      "source": [
        "stdScaler = StandardScaler()\n",
        "c = ['ps_ind_01','ps_ind_03','ps_ind_14','ps_ind_15','ps_reg_02','ps_reg_03','ps_car_11','ps_car_13','ps_car_15','ps_calc_04','ps_calc_05','ps_calc_06','ps_calc_07','ps_calc_08','ps_calc_09','ps_calc_10','ps_calc_11','ps_calc_12','ps_calc_13','ps_calc_14']\n",
        "\n",
        "df.loc[:,c] = stdScaler.fit_transform(df.loc[:,c])"
      ],
      "execution_count": 7,
      "outputs": []
    },
    {
      "cell_type": "code",
      "metadata": {
        "id": "GcBLi5iCSiqk",
        "colab_type": "code",
        "colab": {
          "base_uri": "https://localhost:8080/",
          "height": 224
        },
        "outputId": "06648e07-c6b6-4e31-b009-7cdc814fdcd8"
      },
      "source": [
        "df.head()"
      ],
      "execution_count": 10,
      "outputs": [
        {
          "output_type": "execute_result",
          "data": {
            "text/html": [
              "<div>\n",
              "<style scoped>\n",
              "    .dataframe tbody tr th:only-of-type {\n",
              "        vertical-align: middle;\n",
              "    }\n",
              "\n",
              "    .dataframe tbody tr th {\n",
              "        vertical-align: top;\n",
              "    }\n",
              "\n",
              "    .dataframe thead th {\n",
              "        text-align: right;\n",
              "    }\n",
              "</style>\n",
              "<table border=\"1\" class=\"dataframe\">\n",
              "  <thead>\n",
              "    <tr style=\"text-align: right;\">\n",
              "      <th></th>\n",
              "      <th>target</th>\n",
              "      <th>ps_ind_01</th>\n",
              "      <th>ps_ind_02_cat</th>\n",
              "      <th>ps_ind_03</th>\n",
              "      <th>ps_ind_04_cat</th>\n",
              "      <th>ps_ind_05_cat</th>\n",
              "      <th>ps_ind_06_bin</th>\n",
              "      <th>ps_ind_07_bin</th>\n",
              "      <th>ps_ind_08_bin</th>\n",
              "      <th>ps_ind_09_bin</th>\n",
              "      <th>ps_ind_10_bin</th>\n",
              "      <th>ps_ind_11_bin</th>\n",
              "      <th>ps_ind_12_bin</th>\n",
              "      <th>ps_ind_13_bin</th>\n",
              "      <th>ps_ind_14</th>\n",
              "      <th>ps_ind_15</th>\n",
              "      <th>ps_ind_16_bin</th>\n",
              "      <th>ps_ind_17_bin</th>\n",
              "      <th>ps_ind_18_bin</th>\n",
              "      <th>ps_reg_01</th>\n",
              "      <th>ps_reg_02</th>\n",
              "      <th>ps_reg_03</th>\n",
              "      <th>ps_car_01_cat</th>\n",
              "      <th>ps_car_02_cat</th>\n",
              "      <th>ps_car_04_cat</th>\n",
              "      <th>ps_car_06_cat</th>\n",
              "      <th>ps_car_07_cat</th>\n",
              "      <th>ps_car_08_cat</th>\n",
              "      <th>ps_car_09_cat</th>\n",
              "      <th>ps_car_10_cat</th>\n",
              "      <th>ps_car_11_cat</th>\n",
              "      <th>ps_car_11</th>\n",
              "      <th>ps_car_12</th>\n",
              "      <th>ps_car_13</th>\n",
              "      <th>ps_car_14</th>\n",
              "      <th>ps_car_15</th>\n",
              "      <th>ps_calc_01</th>\n",
              "      <th>ps_calc_02</th>\n",
              "      <th>ps_calc_03</th>\n",
              "      <th>ps_calc_04</th>\n",
              "      <th>ps_calc_05</th>\n",
              "      <th>ps_calc_06</th>\n",
              "      <th>ps_calc_07</th>\n",
              "      <th>ps_calc_08</th>\n",
              "      <th>ps_calc_09</th>\n",
              "      <th>ps_calc_10</th>\n",
              "      <th>ps_calc_11</th>\n",
              "      <th>ps_calc_12</th>\n",
              "      <th>ps_calc_13</th>\n",
              "      <th>ps_calc_14</th>\n",
              "      <th>ps_calc_15_bin</th>\n",
              "      <th>ps_calc_16_bin</th>\n",
              "      <th>ps_calc_17_bin</th>\n",
              "      <th>ps_calc_18_bin</th>\n",
              "      <th>ps_calc_19_bin</th>\n",
              "      <th>ps_calc_20_bin</th>\n",
              "    </tr>\n",
              "  </thead>\n",
              "  <tbody>\n",
              "    <tr>\n",
              "      <th>0</th>\n",
              "      <td>0</td>\n",
              "      <td>0.050218</td>\n",
              "      <td>2.0</td>\n",
              "      <td>0.213594</td>\n",
              "      <td>1.0</td>\n",
              "      <td>0.0</td>\n",
              "      <td>0</td>\n",
              "      <td>1</td>\n",
              "      <td>0</td>\n",
              "      <td>0</td>\n",
              "      <td>0</td>\n",
              "      <td>0</td>\n",
              "      <td>0</td>\n",
              "      <td>0</td>\n",
              "      <td>-0.097621</td>\n",
              "      <td>1.043440</td>\n",
              "      <td>0</td>\n",
              "      <td>1</td>\n",
              "      <td>0</td>\n",
              "      <td>0.7</td>\n",
              "      <td>-0.591654</td>\n",
              "      <td>-0.560629</td>\n",
              "      <td>10.0</td>\n",
              "      <td>1</td>\n",
              "      <td>0</td>\n",
              "      <td>4</td>\n",
              "      <td>1.0</td>\n",
              "      <td>0</td>\n",
              "      <td>0.0</td>\n",
              "      <td>1</td>\n",
              "      <td>12</td>\n",
              "      <td>-0.415746</td>\n",
              "      <td>0.400000</td>\n",
              "      <td>0.313526</td>\n",
              "      <td>0.370810</td>\n",
              "      <td>0.737869</td>\n",
              "      <td>0.6</td>\n",
              "      <td>0.5</td>\n",
              "      <td>0.2</td>\n",
              "      <td>0.562038</td>\n",
              "      <td>-0.780567</td>\n",
              "      <td>1.731646</td>\n",
              "      <td>-1.417981</td>\n",
              "      <td>0.530322</td>\n",
              "      <td>-1.073849</td>\n",
              "      <td>-1.182124</td>\n",
              "      <td>1.525425</td>\n",
              "      <td>-0.367359</td>\n",
              "      <td>1.255372</td>\n",
              "      <td>0.167831</td>\n",
              "      <td>0</td>\n",
              "      <td>1</td>\n",
              "      <td>1</td>\n",
              "      <td>0</td>\n",
              "      <td>0</td>\n",
              "      <td>1</td>\n",
              "    </tr>\n",
              "    <tr>\n",
              "      <th>1</th>\n",
              "      <td>0</td>\n",
              "      <td>-0.453868</td>\n",
              "      <td>1.0</td>\n",
              "      <td>0.954362</td>\n",
              "      <td>0.0</td>\n",
              "      <td>0.0</td>\n",
              "      <td>0</td>\n",
              "      <td>0</td>\n",
              "      <td>1</td>\n",
              "      <td>0</td>\n",
              "      <td>0</td>\n",
              "      <td>0</td>\n",
              "      <td>0</td>\n",
              "      <td>0</td>\n",
              "      <td>-0.097621</td>\n",
              "      <td>-1.212598</td>\n",
              "      <td>0</td>\n",
              "      <td>0</td>\n",
              "      <td>1</td>\n",
              "      <td>0.8</td>\n",
              "      <td>-0.096928</td>\n",
              "      <td>-0.407047</td>\n",
              "      <td>11.0</td>\n",
              "      <td>1</td>\n",
              "      <td>0</td>\n",
              "      <td>11</td>\n",
              "      <td>1.0</td>\n",
              "      <td>1</td>\n",
              "      <td>2.0</td>\n",
              "      <td>1</td>\n",
              "      <td>19</td>\n",
              "      <td>0.785466</td>\n",
              "      <td>0.316228</td>\n",
              "      <td>-0.865800</td>\n",
              "      <td>0.388716</td>\n",
              "      <td>-0.842820</td>\n",
              "      <td>0.3</td>\n",
              "      <td>0.1</td>\n",
              "      <td>0.3</td>\n",
              "      <td>-0.333042</td>\n",
              "      <td>-0.780567</td>\n",
              "      <td>0.982196</td>\n",
              "      <td>1.409748</td>\n",
              "      <td>-0.839850</td>\n",
              "      <td>-1.073849</td>\n",
              "      <td>-0.493559</td>\n",
              "      <td>-1.046515</td>\n",
              "      <td>-0.367359</td>\n",
              "      <td>-1.104669</td>\n",
              "      <td>0.531911</td>\n",
              "      <td>0</td>\n",
              "      <td>1</td>\n",
              "      <td>1</td>\n",
              "      <td>0</td>\n",
              "      <td>1</td>\n",
              "      <td>0</td>\n",
              "    </tr>\n",
              "    <tr>\n",
              "      <th>2</th>\n",
              "      <td>0</td>\n",
              "      <td>1.562477</td>\n",
              "      <td>4.0</td>\n",
              "      <td>1.695130</td>\n",
              "      <td>1.0</td>\n",
              "      <td>0.0</td>\n",
              "      <td>0</td>\n",
              "      <td>0</td>\n",
              "      <td>1</td>\n",
              "      <td>0</td>\n",
              "      <td>0</td>\n",
              "      <td>0</td>\n",
              "      <td>0</td>\n",
              "      <td>0</td>\n",
              "      <td>-0.097621</td>\n",
              "      <td>1.325445</td>\n",
              "      <td>1</td>\n",
              "      <td>0</td>\n",
              "      <td>0</td>\n",
              "      <td>0.0</td>\n",
              "      <td>-1.086380</td>\n",
              "      <td>-0.010604</td>\n",
              "      <td>7.0</td>\n",
              "      <td>1</td>\n",
              "      <td>0</td>\n",
              "      <td>14</td>\n",
              "      <td>1.0</td>\n",
              "      <td>1</td>\n",
              "      <td>2.0</td>\n",
              "      <td>1</td>\n",
              "      <td>60</td>\n",
              "      <td>-1.616957</td>\n",
              "      <td>0.316228</td>\n",
              "      <td>-0.764418</td>\n",
              "      <td>0.347275</td>\n",
              "      <td>0.342818</td>\n",
              "      <td>0.5</td>\n",
              "      <td>0.7</td>\n",
              "      <td>0.1</td>\n",
              "      <td>-0.333042</td>\n",
              "      <td>0.100547</td>\n",
              "      <td>0.982196</td>\n",
              "      <td>-1.417981</td>\n",
              "      <td>-0.839850</td>\n",
              "      <td>-0.271891</td>\n",
              "      <td>-0.493559</td>\n",
              "      <td>-0.617858</td>\n",
              "      <td>0.463923</td>\n",
              "      <td>2.435393</td>\n",
              "      <td>-0.196249</td>\n",
              "      <td>0</td>\n",
              "      <td>1</td>\n",
              "      <td>1</td>\n",
              "      <td>0</td>\n",
              "      <td>1</td>\n",
              "      <td>0</td>\n",
              "    </tr>\n",
              "    <tr>\n",
              "      <th>3</th>\n",
              "      <td>0</td>\n",
              "      <td>-0.957955</td>\n",
              "      <td>1.0</td>\n",
              "      <td>-0.897559</td>\n",
              "      <td>0.0</td>\n",
              "      <td>0.0</td>\n",
              "      <td>1</td>\n",
              "      <td>0</td>\n",
              "      <td>0</td>\n",
              "      <td>0</td>\n",
              "      <td>0</td>\n",
              "      <td>0</td>\n",
              "      <td>0</td>\n",
              "      <td>0</td>\n",
              "      <td>-0.097621</td>\n",
              "      <td>0.197425</td>\n",
              "      <td>1</td>\n",
              "      <td>0</td>\n",
              "      <td>0</td>\n",
              "      <td>0.9</td>\n",
              "      <td>-0.591654</td>\n",
              "      <td>-0.999302</td>\n",
              "      <td>7.0</td>\n",
              "      <td>1</td>\n",
              "      <td>0</td>\n",
              "      <td>11</td>\n",
              "      <td>1.0</td>\n",
              "      <td>1</td>\n",
              "      <td>3.0</td>\n",
              "      <td>1</td>\n",
              "      <td>104</td>\n",
              "      <td>-1.616957</td>\n",
              "      <td>0.374166</td>\n",
              "      <td>-1.203608</td>\n",
              "      <td>0.294958</td>\n",
              "      <td>-1.457410</td>\n",
              "      <td>0.6</td>\n",
              "      <td>0.9</td>\n",
              "      <td>0.1</td>\n",
              "      <td>-0.333042</td>\n",
              "      <td>1.862777</td>\n",
              "      <td>-0.516705</td>\n",
              "      <td>-1.417981</td>\n",
              "      <td>-0.839850</td>\n",
              "      <td>1.332025</td>\n",
              "      <td>-2.214970</td>\n",
              "      <td>-1.475171</td>\n",
              "      <td>0.463923</td>\n",
              "      <td>0.665362</td>\n",
              "      <td>0.531911</td>\n",
              "      <td>0</td>\n",
              "      <td>0</td>\n",
              "      <td>0</td>\n",
              "      <td>0</td>\n",
              "      <td>0</td>\n",
              "      <td>0</td>\n",
              "    </tr>\n",
              "    <tr>\n",
              "      <th>4</th>\n",
              "      <td>0</td>\n",
              "      <td>-0.957955</td>\n",
              "      <td>2.0</td>\n",
              "      <td>-1.638327</td>\n",
              "      <td>1.0</td>\n",
              "      <td>0.0</td>\n",
              "      <td>1</td>\n",
              "      <td>0</td>\n",
              "      <td>0</td>\n",
              "      <td>0</td>\n",
              "      <td>0</td>\n",
              "      <td>0</td>\n",
              "      <td>0</td>\n",
              "      <td>0</td>\n",
              "      <td>-0.097621</td>\n",
              "      <td>0.479430</td>\n",
              "      <td>1</td>\n",
              "      <td>0</td>\n",
              "      <td>0</td>\n",
              "      <td>0.7</td>\n",
              "      <td>0.397799</td>\n",
              "      <td>-0.168133</td>\n",
              "      <td>11.0</td>\n",
              "      <td>1</td>\n",
              "      <td>0</td>\n",
              "      <td>14</td>\n",
              "      <td>1.0</td>\n",
              "      <td>1</td>\n",
              "      <td>2.0</td>\n",
              "      <td>1</td>\n",
              "      <td>82</td>\n",
              "      <td>0.785466</td>\n",
              "      <td>0.316070</td>\n",
              "      <td>-1.101721</td>\n",
              "      <td>0.365103</td>\n",
              "      <td>-1.457410</td>\n",
              "      <td>0.4</td>\n",
              "      <td>0.6</td>\n",
              "      <td>0.0</td>\n",
              "      <td>-0.333042</td>\n",
              "      <td>0.100547</td>\n",
              "      <td>-1.266155</td>\n",
              "      <td>-0.004117</td>\n",
              "      <td>0.530322</td>\n",
              "      <td>-0.271891</td>\n",
              "      <td>1.227851</td>\n",
              "      <td>-1.046515</td>\n",
              "      <td>-0.367359</td>\n",
              "      <td>-1.104669</td>\n",
              "      <td>-1.652569</td>\n",
              "      <td>0</td>\n",
              "      <td>0</td>\n",
              "      <td>0</td>\n",
              "      <td>1</td>\n",
              "      <td>1</td>\n",
              "      <td>0</td>\n",
              "    </tr>\n",
              "  </tbody>\n",
              "</table>\n",
              "</div>"
            ],
            "text/plain": [
              "   target  ps_ind_01  ...  ps_calc_19_bin  ps_calc_20_bin\n",
              "0       0   0.050218  ...               0               1\n",
              "1       0  -0.453868  ...               1               0\n",
              "2       0   1.562477  ...               1               0\n",
              "3       0  -0.957955  ...               0               0\n",
              "4       0  -0.957955  ...               1               0\n",
              "\n",
              "[5 rows x 56 columns]"
            ]
          },
          "metadata": {
            "tags": []
          },
          "execution_count": 10
        }
      ]
    },
    {
      "cell_type": "code",
      "metadata": {
        "id": "rrKvdSvkSo6J",
        "colab_type": "code",
        "colab": {}
      },
      "source": [
        "#xx_train_data_smote = pd.DataFrame(xx_train_data_smote, columns = colx)\n",
        "#yy_train_data_smote = pd.DataFrame(y_train_scaled_data, columns = ['target'])"
      ],
      "execution_count": 11,
      "outputs": []
    },
    {
      "cell_type": "markdown",
      "metadata": {
        "id": "Ift7tLYOmolb",
        "colab_type": "text"
      },
      "source": [
        "# split in X and Y"
      ]
    },
    {
      "cell_type": "code",
      "metadata": {
        "id": "LYcAVaQXmrKW",
        "colab_type": "code",
        "colab": {}
      },
      "source": [
        "X = df.iloc[:,1:]\n",
        "Y = df.iloc[:, :1]"
      ],
      "execution_count": 6,
      "outputs": []
    },
    {
      "cell_type": "markdown",
      "metadata": {
        "id": "mrSJPTammCEp",
        "colab_type": "text"
      },
      "source": [
        "# Feature engineering\n",
        "\n",
        "---\n",
        "\n",
        "selecting top 20 cols"
      ]
    },
    {
      "cell_type": "code",
      "metadata": {
        "id": "6FtgEqK2mFUG",
        "colab_type": "code",
        "colab": {}
      },
      "source": [
        "cols = ['target','ps_car_13','ps_ind_03','ps_car_14','ps_reg_03','ps_ind_05_cat','ps_reg_01','ps_ind_01','ps_ind_15','ps_car_01_cat','ps_car_11_cat','ps_car_09_cat','ps_ind_17_bin','ps_reg_02','ps_calc_14','ps_car_07_cat','ps_car_15','ps_car_06_cat','ps_car_11','ps_ind_06_bin','ps_calc_05','ps_calc_10','ps_car_12','ps_calc_06','ps_ind_16_bin','ps_calc_03','ps_ind_09_bin','ps_calc_11','ps_calc_04']#,'ps_calc_08','ps_calc_01','ps_car_04_cat','ps_calc_13','ps_ind_07_bin']\n",
        "c = df.columns\n"
      ],
      "execution_count": 43,
      "outputs": []
    },
    {
      "cell_type": "code",
      "metadata": {
        "id": "T0mC-42umVmz",
        "colab_type": "code",
        "colab": {}
      },
      "source": [
        "for cc in c:\n",
        "  if cc not in cols:\n",
        "    df.drop(columns=cc, axis=1, inplace=True)"
      ],
      "execution_count": 44,
      "outputs": []
    },
    {
      "cell_type": "code",
      "metadata": {
        "id": "diB_R5nimshb",
        "colab_type": "code",
        "colab": {
          "base_uri": "https://localhost:8080/",
          "height": 34
        },
        "outputId": "a21125f3-ef5c-48b2-ac27-6abc9759e747"
      },
      "source": [
        "df.shape"
      ],
      "execution_count": 237,
      "outputs": [
        {
          "output_type": "execute_result",
          "data": {
            "text/plain": [
              "(595212, 29)"
            ]
          },
          "metadata": {
            "tags": []
          },
          "execution_count": 237
        }
      ]
    },
    {
      "cell_type": "markdown",
      "metadata": {
        "id": "0dlONHGWL1JB",
        "colab_type": "text"
      },
      "source": [
        "# One Hot Encoding"
      ]
    },
    {
      "cell_type": "code",
      "metadata": {
        "id": "IyMfGa2LMYD2",
        "colab_type": "code",
        "colab": {}
      },
      "source": [
        "c = ['ps_ind_04_cat','ps_ind_05_cat','ps_ind_02_cat','ps_car_01_cat','ps_car_02_cat','ps_car_04_cat','ps_car_06_cat','ps_car_07_cat','ps_car_08_cat','ps_car_09_cat','ps_car_10_cat']"
      ],
      "execution_count": 78,
      "outputs": []
    },
    {
      "cell_type": "code",
      "metadata": {
        "id": "PKUuTZrQL4wW",
        "colab_type": "code",
        "colab": {}
      },
      "source": [
        "df_1hot = pd.get_dummies(df, columns= c)"
      ],
      "execution_count": 79,
      "outputs": []
    },
    {
      "cell_type": "code",
      "metadata": {
        "id": "J348Yho9JgOe",
        "colab_type": "code",
        "colab": {
          "base_uri": "https://localhost:8080/",
          "height": 0
        },
        "outputId": "c37de010-9822-453e-d6b3-c579dbcd1ac4"
      },
      "source": [
        "df_1hot.shape"
      ],
      "execution_count": 80,
      "outputs": [
        {
          "output_type": "execute_result",
          "data": {
            "text/plain": [
              "(595212, 112)"
            ]
          },
          "metadata": {
            "tags": []
          },
          "execution_count": 80
        }
      ]
    },
    {
      "cell_type": "markdown",
      "metadata": {
        "id": "aw_8zNk1QPCc",
        "colab_type": "text"
      },
      "source": [
        "#Set 1-  Test/Train Data\n",
        "---\n",
        "\n",
        "for good \"1\" prediction- x_train, x_test, y_train, y_test"
      ]
    },
    {
      "cell_type": "code",
      "metadata": {
        "id": "JuVaxNOoQXFm",
        "colab_type": "code",
        "colab": {}
      },
      "source": [
        "df_zeros = df[df.target == 0] \n",
        "df_ones = df[df.target == 1]\n",
        "x_0 = df_zeros.iloc[:,1:]\n",
        "x_1 = df_ones.iloc[:,1:]\n",
        "y_0 = df_zeros.iloc[:,0:1]\n",
        "y_1 = df_ones.iloc[:,0:1]"
      ],
      "execution_count": 8,
      "outputs": []
    },
    {
      "cell_type": "code",
      "metadata": {
        "id": "gF_3zWQBRfXF",
        "colab_type": "code",
        "colab": {}
      },
      "source": [
        "x_0_train, x_0_test, y_0_train, y_0_test = train_test_split(x_0, y_0, test_size=0.99, random_state=42)"
      ],
      "execution_count": 9,
      "outputs": []
    },
    {
      "cell_type": "code",
      "metadata": {
        "id": "LHGv3lWnR4UI",
        "colab_type": "code",
        "colab": {}
      },
      "source": [
        "x_1_train, x_1_test, y_1_train, y_1_test = train_test_split(x_1, y_1, test_size=0.5, random_state=42)"
      ],
      "execution_count": 10,
      "outputs": []
    },
    {
      "cell_type": "code",
      "metadata": {
        "id": "p2LiTCAPkzf8",
        "colab_type": "code",
        "colab": {}
      },
      "source": [
        "train_0 = pd.DataFrame(x_0_train)\n",
        "train_0['target'] = y_0_train"
      ],
      "execution_count": 11,
      "outputs": []
    },
    {
      "cell_type": "code",
      "metadata": {
        "id": "YjPw_aPomCir",
        "colab_type": "code",
        "colab": {}
      },
      "source": [
        "train_1 = pd.DataFrame(x_1_train)\n",
        "train_1['target'] = y_1_train"
      ],
      "execution_count": 12,
      "outputs": []
    },
    {
      "cell_type": "code",
      "metadata": {
        "id": "qoKQde7LmQO7",
        "colab_type": "code",
        "colab": {}
      },
      "source": [
        "df_train = train_1.append(train_0)"
      ],
      "execution_count": 13,
      "outputs": []
    },
    {
      "cell_type": "code",
      "metadata": {
        "id": "OzGEKw4Xmb5A",
        "colab_type": "code",
        "colab": {}
      },
      "source": [
        "test_0 = pd.DataFrame(x_0_test)\n",
        "test_0['target'] = y_0_test"
      ],
      "execution_count": 14,
      "outputs": []
    },
    {
      "cell_type": "code",
      "metadata": {
        "id": "JFZzewOvmcFl",
        "colab_type": "code",
        "colab": {}
      },
      "source": [
        "test_1 = pd.DataFrame(x_1_test)\n",
        "test_1['target'] = y_1_test"
      ],
      "execution_count": 15,
      "outputs": []
    },
    {
      "cell_type": "code",
      "metadata": {
        "id": "475_1btVmdYD",
        "colab_type": "code",
        "colab": {}
      },
      "source": [
        "df_test = test_1.append(test_0)"
      ],
      "execution_count": 16,
      "outputs": []
    },
    {
      "cell_type": "code",
      "metadata": {
        "colab_type": "code",
        "id": "zqDx14cKSFjr",
        "colab": {}
      },
      "source": [
        "x_train = df_train.iloc[:,0:55]\n",
        "y_train = df_train.iloc[:,55:]"
      ],
      "execution_count": 17,
      "outputs": []
    },
    {
      "cell_type": "code",
      "metadata": {
        "colab_type": "code",
        "id": "GDhOGXvlSFj1",
        "colab": {}
      },
      "source": [
        "x_test = df_test.iloc[:,0:55]\n",
        "y_test = df_test.iloc[:,55:]"
      ],
      "execution_count": 18,
      "outputs": []
    },
    {
      "cell_type": "code",
      "metadata": {
        "colab_type": "code",
        "id": "DCFwJU5snU24",
        "colab": {}
      },
      "source": [
        "x_train = df_train.iloc[:,0:28]\n",
        "y_train = df_train.iloc[:,28:]"
      ],
      "execution_count": 56,
      "outputs": []
    },
    {
      "cell_type": "code",
      "metadata": {
        "colab_type": "code",
        "id": "piHXFEADnU29",
        "colab": {}
      },
      "source": [
        "x_test = df_test.iloc[:,0:28]\n",
        "y_test = df_test.iloc[:,28:]"
      ],
      "execution_count": 57,
      "outputs": []
    },
    {
      "cell_type": "code",
      "metadata": {
        "id": "O5x8QmDmnkCm",
        "colab_type": "code",
        "colab": {
          "base_uri": "https://localhost:8080/",
          "height": 34
        },
        "outputId": "88000229-cd78-4b2b-b258-c3d0b824b24e"
      },
      "source": [
        "x_0_train.shape"
      ],
      "execution_count": 58,
      "outputs": [
        {
          "output_type": "execute_result",
          "data": {
            "text/plain": [
              "(5735, 29)"
            ]
          },
          "metadata": {
            "tags": []
          },
          "execution_count": 58
        }
      ]
    },
    {
      "cell_type": "code",
      "metadata": {
        "id": "M4XqYlR8ui_j",
        "colab_type": "code",
        "colab": {
          "base_uri": "https://localhost:8080/",
          "height": 204
        },
        "outputId": "6fc144d5-7a07-47d3-f72c-7d98a678b9e0"
      },
      "source": [
        "y_train.head()"
      ],
      "execution_count": 59,
      "outputs": [
        {
          "output_type": "execute_result",
          "data": {
            "text/html": [
              "<div>\n",
              "<style scoped>\n",
              "    .dataframe tbody tr th:only-of-type {\n",
              "        vertical-align: middle;\n",
              "    }\n",
              "\n",
              "    .dataframe tbody tr th {\n",
              "        vertical-align: top;\n",
              "    }\n",
              "\n",
              "    .dataframe thead th {\n",
              "        text-align: right;\n",
              "    }\n",
              "</style>\n",
              "<table border=\"1\" class=\"dataframe\">\n",
              "  <thead>\n",
              "    <tr style=\"text-align: right;\">\n",
              "      <th></th>\n",
              "      <th>target</th>\n",
              "    </tr>\n",
              "  </thead>\n",
              "  <tbody>\n",
              "    <tr>\n",
              "      <th>311392</th>\n",
              "      <td>1</td>\n",
              "    </tr>\n",
              "    <tr>\n",
              "      <th>298463</th>\n",
              "      <td>1</td>\n",
              "    </tr>\n",
              "    <tr>\n",
              "      <th>422789</th>\n",
              "      <td>1</td>\n",
              "    </tr>\n",
              "    <tr>\n",
              "      <th>65658</th>\n",
              "      <td>1</td>\n",
              "    </tr>\n",
              "    <tr>\n",
              "      <th>8096</th>\n",
              "      <td>1</td>\n",
              "    </tr>\n",
              "  </tbody>\n",
              "</table>\n",
              "</div>"
            ],
            "text/plain": [
              "        target\n",
              "311392       1\n",
              "298463       1\n",
              "422789       1\n",
              "65658        1\n",
              "8096         1"
            ]
          },
          "metadata": {
            "tags": []
          },
          "execution_count": 59
        }
      ]
    },
    {
      "cell_type": "markdown",
      "metadata": {
        "id": "O0VFJhSdounX",
        "colab_type": "text"
      },
      "source": [
        "# Set 2 -Test Data/Train data(balanced)\n",
        "\n",
        "---\n",
        " x_test, x_train, y_test, y_train\n"
      ]
    },
    {
      "cell_type": "code",
      "metadata": {
        "id": "wrBfMnZHo-D3",
        "colab_type": "code",
        "colab": {}
      },
      "source": [
        "# seperate 'o' and '1'"
      ],
      "execution_count": null,
      "outputs": []
    },
    {
      "cell_type": "code",
      "metadata": {
        "id": "r42X-b3Ao-PQ",
        "colab_type": "code",
        "colab": {}
      },
      "source": [
        "df_zeros = df[df.target == 0] \n",
        "df_ones = df[df.target == 1]"
      ],
      "execution_count": 42,
      "outputs": []
    },
    {
      "cell_type": "code",
      "metadata": {
        "id": "43G0MThep4Hq",
        "colab_type": "code",
        "colab": {}
      },
      "source": [
        "# df_zeros_test, df_zeros_train\n"
      ],
      "execution_count": null,
      "outputs": []
    },
    {
      "cell_type": "code",
      "metadata": {
        "id": "FKNH-mrdqBPb",
        "colab_type": "code",
        "colab": {
          "base_uri": "https://localhost:8080/",
          "height": 34
        },
        "outputId": "c2b09766-9ce4-4d34-fcd8-16dc46d29363"
      },
      "source": [
        "df_zeros.shape"
      ],
      "execution_count": 43,
      "outputs": [
        {
          "output_type": "execute_result",
          "data": {
            "text/plain": [
              "(573518, 56)"
            ]
          },
          "metadata": {
            "tags": []
          },
          "execution_count": 43
        }
      ]
    },
    {
      "cell_type": "code",
      "metadata": {
        "id": "7d32GJr2qBWF",
        "colab_type": "code",
        "colab": {}
      },
      "source": [
        "from sklearn.utils import shuffle\n",
        "df_zeros = shuffle(df_zeros)\n",
        "df_zeros_train = df_zeros.iloc[:286759,:]\n",
        "df_zeros_test = df_zeros.iloc[286759:,:]"
      ],
      "execution_count": 44,
      "outputs": []
    },
    {
      "cell_type": "code",
      "metadata": {
        "id": "KOJGXe38qBUS",
        "colab_type": "code",
        "colab": {
          "base_uri": "https://localhost:8080/",
          "height": 34
        },
        "outputId": "99b69336-0758-4a94-ace5-9530665efef9"
      },
      "source": [
        "df_zeros_train.shape"
      ],
      "execution_count": 18,
      "outputs": [
        {
          "output_type": "execute_result",
          "data": {
            "text/plain": [
              "(286759, 56)"
            ]
          },
          "metadata": {
            "tags": []
          },
          "execution_count": 18
        }
      ]
    },
    {
      "cell_type": "code",
      "metadata": {
        "id": "fAhtyu6yqBNl",
        "colab_type": "code",
        "colab": {}
      },
      "source": [
        "from sklearn.utils import shuffle\n",
        "df_ones = shuffle(df_ones)\n",
        "df_ones_train = df_ones.iloc[:10847,:]\n",
        "df_ones_test = df_ones.iloc[10847:,:]"
      ],
      "execution_count": 45,
      "outputs": []
    },
    {
      "cell_type": "code",
      "metadata": {
        "id": "VfzK9AFVqBJw",
        "colab_type": "code",
        "colab": {
          "base_uri": "https://localhost:8080/",
          "height": 34
        },
        "outputId": "71086ecb-817b-4b83-f10a-0d2baefe2714"
      },
      "source": [
        "df_ones_test.shape"
      ],
      "execution_count": 30,
      "outputs": [
        {
          "output_type": "execute_result",
          "data": {
            "text/plain": [
              "(10847, 56)"
            ]
          },
          "metadata": {
            "tags": []
          },
          "execution_count": 30
        }
      ]
    },
    {
      "cell_type": "code",
      "metadata": {
        "id": "4jj30qFvypnK",
        "colab_type": "code",
        "colab": {}
      },
      "source": [
        "\n",
        "df_train = df_ones_train.append(df_zeros_train)\n",
        "df_test = df_ones_test.append(df_zeros_test)"
      ],
      "execution_count": 46,
      "outputs": []
    },
    {
      "cell_type": "code",
      "metadata": {
        "id": "LfFj8VYBzE3S",
        "colab_type": "code",
        "colab": {
          "base_uri": "https://localhost:8080/",
          "height": 217
        },
        "outputId": "90209910-ec55-4d65-dfd2-296a2f246a46"
      },
      "source": [
        "df_train.head() #ok? -yes"
      ],
      "execution_count": null,
      "outputs": [
        {
          "output_type": "execute_result",
          "data": {
            "text/html": [
              "<div>\n",
              "<style scoped>\n",
              "    .dataframe tbody tr th:only-of-type {\n",
              "        vertical-align: middle;\n",
              "    }\n",
              "\n",
              "    .dataframe tbody tr th {\n",
              "        vertical-align: top;\n",
              "    }\n",
              "\n",
              "    .dataframe thead th {\n",
              "        text-align: right;\n",
              "    }\n",
              "</style>\n",
              "<table border=\"1\" class=\"dataframe\">\n",
              "  <thead>\n",
              "    <tr style=\"text-align: right;\">\n",
              "      <th></th>\n",
              "      <th>target</th>\n",
              "      <th>ps_ind_01</th>\n",
              "      <th>ps_ind_02_cat</th>\n",
              "      <th>ps_ind_03</th>\n",
              "      <th>ps_ind_04_cat</th>\n",
              "      <th>ps_ind_05_cat</th>\n",
              "      <th>ps_ind_06_bin</th>\n",
              "      <th>ps_ind_07_bin</th>\n",
              "      <th>ps_ind_08_bin</th>\n",
              "      <th>ps_ind_09_bin</th>\n",
              "      <th>ps_ind_10_bin</th>\n",
              "      <th>ps_ind_11_bin</th>\n",
              "      <th>ps_ind_12_bin</th>\n",
              "      <th>ps_ind_13_bin</th>\n",
              "      <th>ps_ind_14</th>\n",
              "      <th>ps_ind_15</th>\n",
              "      <th>ps_ind_16_bin</th>\n",
              "      <th>ps_ind_17_bin</th>\n",
              "      <th>ps_ind_18_bin</th>\n",
              "      <th>ps_reg_01</th>\n",
              "      <th>ps_reg_02</th>\n",
              "      <th>ps_reg_03</th>\n",
              "      <th>ps_car_01_cat</th>\n",
              "      <th>ps_car_02_cat</th>\n",
              "      <th>ps_car_04_cat</th>\n",
              "      <th>ps_car_06_cat</th>\n",
              "      <th>ps_car_07_cat</th>\n",
              "      <th>ps_car_08_cat</th>\n",
              "      <th>ps_car_09_cat</th>\n",
              "      <th>ps_car_10_cat</th>\n",
              "      <th>ps_car_11_cat</th>\n",
              "      <th>ps_car_11</th>\n",
              "      <th>ps_car_12</th>\n",
              "      <th>ps_car_13</th>\n",
              "      <th>ps_car_14</th>\n",
              "      <th>ps_car_15</th>\n",
              "      <th>ps_calc_01</th>\n",
              "      <th>ps_calc_02</th>\n",
              "      <th>ps_calc_03</th>\n",
              "      <th>ps_calc_04</th>\n",
              "      <th>ps_calc_05</th>\n",
              "      <th>ps_calc_06</th>\n",
              "      <th>ps_calc_07</th>\n",
              "      <th>ps_calc_08</th>\n",
              "      <th>ps_calc_09</th>\n",
              "      <th>ps_calc_10</th>\n",
              "      <th>ps_calc_11</th>\n",
              "      <th>ps_calc_12</th>\n",
              "      <th>ps_calc_13</th>\n",
              "      <th>ps_calc_14</th>\n",
              "      <th>ps_calc_15_bin</th>\n",
              "      <th>ps_calc_16_bin</th>\n",
              "      <th>ps_calc_17_bin</th>\n",
              "      <th>ps_calc_18_bin</th>\n",
              "      <th>ps_calc_19_bin</th>\n",
              "      <th>ps_calc_20_bin</th>\n",
              "    </tr>\n",
              "  </thead>\n",
              "  <tbody>\n",
              "    <tr>\n",
              "      <th>187756</th>\n",
              "      <td>1</td>\n",
              "      <td>5</td>\n",
              "      <td>2.0</td>\n",
              "      <td>2</td>\n",
              "      <td>0.0</td>\n",
              "      <td>0.0</td>\n",
              "      <td>0</td>\n",
              "      <td>1</td>\n",
              "      <td>0</td>\n",
              "      <td>0</td>\n",
              "      <td>0</td>\n",
              "      <td>0</td>\n",
              "      <td>0</td>\n",
              "      <td>0</td>\n",
              "      <td>0</td>\n",
              "      <td>6</td>\n",
              "      <td>1</td>\n",
              "      <td>0</td>\n",
              "      <td>0</td>\n",
              "      <td>0.5</td>\n",
              "      <td>0.6</td>\n",
              "      <td>1.211662</td>\n",
              "      <td>8.0</td>\n",
              "      <td>1</td>\n",
              "      <td>2</td>\n",
              "      <td>0</td>\n",
              "      <td>1.0</td>\n",
              "      <td>0</td>\n",
              "      <td>2.0</td>\n",
              "      <td>1</td>\n",
              "      <td>100</td>\n",
              "      <td>0.0</td>\n",
              "      <td>0.400000</td>\n",
              "      <td>1.002765</td>\n",
              "      <td>0.319374</td>\n",
              "      <td>3.741657</td>\n",
              "      <td>0.7</td>\n",
              "      <td>0.6</td>\n",
              "      <td>0.1</td>\n",
              "      <td>1</td>\n",
              "      <td>1</td>\n",
              "      <td>8</td>\n",
              "      <td>1</td>\n",
              "      <td>10</td>\n",
              "      <td>2</td>\n",
              "      <td>5</td>\n",
              "      <td>4</td>\n",
              "      <td>0</td>\n",
              "      <td>4</td>\n",
              "      <td>9</td>\n",
              "      <td>1</td>\n",
              "      <td>0</td>\n",
              "      <td>1</td>\n",
              "      <td>1</td>\n",
              "      <td>0</td>\n",
              "      <td>0</td>\n",
              "    </tr>\n",
              "    <tr>\n",
              "      <th>576894</th>\n",
              "      <td>1</td>\n",
              "      <td>5</td>\n",
              "      <td>2.0</td>\n",
              "      <td>1</td>\n",
              "      <td>0.0</td>\n",
              "      <td>0.0</td>\n",
              "      <td>0</td>\n",
              "      <td>0</td>\n",
              "      <td>0</td>\n",
              "      <td>1</td>\n",
              "      <td>0</td>\n",
              "      <td>0</td>\n",
              "      <td>0</td>\n",
              "      <td>0</td>\n",
              "      <td>0</td>\n",
              "      <td>7</td>\n",
              "      <td>1</td>\n",
              "      <td>0</td>\n",
              "      <td>0</td>\n",
              "      <td>0.6</td>\n",
              "      <td>0.6</td>\n",
              "      <td>0.932068</td>\n",
              "      <td>11.0</td>\n",
              "      <td>1</td>\n",
              "      <td>0</td>\n",
              "      <td>0</td>\n",
              "      <td>1.0</td>\n",
              "      <td>1</td>\n",
              "      <td>0.0</td>\n",
              "      <td>1</td>\n",
              "      <td>88</td>\n",
              "      <td>3.0</td>\n",
              "      <td>0.399875</td>\n",
              "      <td>0.649968</td>\n",
              "      <td>0.328938</td>\n",
              "      <td>2.236068</td>\n",
              "      <td>0.9</td>\n",
              "      <td>0.8</td>\n",
              "      <td>0.5</td>\n",
              "      <td>4</td>\n",
              "      <td>2</td>\n",
              "      <td>7</td>\n",
              "      <td>4</td>\n",
              "      <td>10</td>\n",
              "      <td>2</td>\n",
              "      <td>7</td>\n",
              "      <td>7</td>\n",
              "      <td>1</td>\n",
              "      <td>3</td>\n",
              "      <td>5</td>\n",
              "      <td>0</td>\n",
              "      <td>1</td>\n",
              "      <td>1</td>\n",
              "      <td>0</td>\n",
              "      <td>0</td>\n",
              "      <td>0</td>\n",
              "    </tr>\n",
              "    <tr>\n",
              "      <th>352285</th>\n",
              "      <td>1</td>\n",
              "      <td>0</td>\n",
              "      <td>3.0</td>\n",
              "      <td>6</td>\n",
              "      <td>1.0</td>\n",
              "      <td>0.0</td>\n",
              "      <td>0</td>\n",
              "      <td>0</td>\n",
              "      <td>1</td>\n",
              "      <td>0</td>\n",
              "      <td>0</td>\n",
              "      <td>0</td>\n",
              "      <td>0</td>\n",
              "      <td>0</td>\n",
              "      <td>0</td>\n",
              "      <td>10</td>\n",
              "      <td>0</td>\n",
              "      <td>0</td>\n",
              "      <td>0</td>\n",
              "      <td>0.6</td>\n",
              "      <td>0.9</td>\n",
              "      <td>1.042833</td>\n",
              "      <td>11.0</td>\n",
              "      <td>0</td>\n",
              "      <td>0</td>\n",
              "      <td>7</td>\n",
              "      <td>1.0</td>\n",
              "      <td>0</td>\n",
              "      <td>2.0</td>\n",
              "      <td>1</td>\n",
              "      <td>104</td>\n",
              "      <td>2.0</td>\n",
              "      <td>0.447214</td>\n",
              "      <td>1.219419</td>\n",
              "      <td>0.438406</td>\n",
              "      <td>3.741657</td>\n",
              "      <td>0.5</td>\n",
              "      <td>0.7</td>\n",
              "      <td>0.2</td>\n",
              "      <td>2</td>\n",
              "      <td>1</td>\n",
              "      <td>9</td>\n",
              "      <td>1</td>\n",
              "      <td>10</td>\n",
              "      <td>2</td>\n",
              "      <td>4</td>\n",
              "      <td>10</td>\n",
              "      <td>0</td>\n",
              "      <td>4</td>\n",
              "      <td>7</td>\n",
              "      <td>0</td>\n",
              "      <td>1</td>\n",
              "      <td>0</td>\n",
              "      <td>1</td>\n",
              "      <td>1</td>\n",
              "      <td>1</td>\n",
              "    </tr>\n",
              "    <tr>\n",
              "      <th>475404</th>\n",
              "      <td>1</td>\n",
              "      <td>3</td>\n",
              "      <td>1.0</td>\n",
              "      <td>4</td>\n",
              "      <td>0.0</td>\n",
              "      <td>0.0</td>\n",
              "      <td>1</td>\n",
              "      <td>0</td>\n",
              "      <td>0</td>\n",
              "      <td>0</td>\n",
              "      <td>0</td>\n",
              "      <td>0</td>\n",
              "      <td>0</td>\n",
              "      <td>0</td>\n",
              "      <td>0</td>\n",
              "      <td>8</td>\n",
              "      <td>1</td>\n",
              "      <td>0</td>\n",
              "      <td>0</td>\n",
              "      <td>0.9</td>\n",
              "      <td>0.3</td>\n",
              "      <td>0.741620</td>\n",
              "      <td>7.0</td>\n",
              "      <td>1</td>\n",
              "      <td>1</td>\n",
              "      <td>3</td>\n",
              "      <td>1.0</td>\n",
              "      <td>1</td>\n",
              "      <td>2.0</td>\n",
              "      <td>1</td>\n",
              "      <td>59</td>\n",
              "      <td>3.0</td>\n",
              "      <td>0.316228</td>\n",
              "      <td>0.715949</td>\n",
              "      <td>0.309677</td>\n",
              "      <td>3.464102</td>\n",
              "      <td>0.2</td>\n",
              "      <td>0.1</td>\n",
              "      <td>0.2</td>\n",
              "      <td>1</td>\n",
              "      <td>1</td>\n",
              "      <td>10</td>\n",
              "      <td>4</td>\n",
              "      <td>12</td>\n",
              "      <td>3</td>\n",
              "      <td>11</td>\n",
              "      <td>4</td>\n",
              "      <td>1</td>\n",
              "      <td>4</td>\n",
              "      <td>4</td>\n",
              "      <td>0</td>\n",
              "      <td>1</td>\n",
              "      <td>1</td>\n",
              "      <td>1</td>\n",
              "      <td>1</td>\n",
              "      <td>0</td>\n",
              "    </tr>\n",
              "    <tr>\n",
              "      <th>160883</th>\n",
              "      <td>1</td>\n",
              "      <td>2</td>\n",
              "      <td>1.0</td>\n",
              "      <td>1</td>\n",
              "      <td>1.0</td>\n",
              "      <td>0.0</td>\n",
              "      <td>0</td>\n",
              "      <td>0</td>\n",
              "      <td>0</td>\n",
              "      <td>1</td>\n",
              "      <td>0</td>\n",
              "      <td>0</td>\n",
              "      <td>0</td>\n",
              "      <td>0</td>\n",
              "      <td>0</td>\n",
              "      <td>10</td>\n",
              "      <td>0</td>\n",
              "      <td>0</td>\n",
              "      <td>1</td>\n",
              "      <td>0.9</td>\n",
              "      <td>0.6</td>\n",
              "      <td>1.054158</td>\n",
              "      <td>10.0</td>\n",
              "      <td>1</td>\n",
              "      <td>0</td>\n",
              "      <td>1</td>\n",
              "      <td>1.0</td>\n",
              "      <td>1</td>\n",
              "      <td>0.0</td>\n",
              "      <td>1</td>\n",
              "      <td>74</td>\n",
              "      <td>2.0</td>\n",
              "      <td>0.400000</td>\n",
              "      <td>0.805816</td>\n",
              "      <td>0.378418</td>\n",
              "      <td>3.464102</td>\n",
              "      <td>0.7</td>\n",
              "      <td>0.6</td>\n",
              "      <td>0.6</td>\n",
              "      <td>2</td>\n",
              "      <td>0</td>\n",
              "      <td>6</td>\n",
              "      <td>3</td>\n",
              "      <td>11</td>\n",
              "      <td>1</td>\n",
              "      <td>8</td>\n",
              "      <td>2</td>\n",
              "      <td>0</td>\n",
              "      <td>1</td>\n",
              "      <td>5</td>\n",
              "      <td>0</td>\n",
              "      <td>1</td>\n",
              "      <td>1</td>\n",
              "      <td>0</td>\n",
              "      <td>1</td>\n",
              "      <td>0</td>\n",
              "    </tr>\n",
              "  </tbody>\n",
              "</table>\n",
              "</div>"
            ],
            "text/plain": [
              "        target  ps_ind_01  ...  ps_calc_19_bin  ps_calc_20_bin\n",
              "187756       1          5  ...               0               0\n",
              "576894       1          5  ...               0               0\n",
              "352285       1          0  ...               1               1\n",
              "475404       1          3  ...               1               0\n",
              "160883       1          2  ...               1               0\n",
              "\n",
              "[5 rows x 56 columns]"
            ]
          },
          "metadata": {
            "tags": []
          },
          "execution_count": 30
        }
      ]
    },
    {
      "cell_type": "code",
      "metadata": {
        "id": "h5kEqp-U0jug",
        "colab_type": "code",
        "colab": {}
      },
      "source": [
        "# devide data into X and Y"
      ],
      "execution_count": null,
      "outputs": []
    },
    {
      "cell_type": "code",
      "metadata": {
        "id": "hJCjICxt1LKg",
        "colab_type": "code",
        "colab": {}
      },
      "source": [
        "x_train = df_train.iloc[:,1:]\n",
        "y_train = df_train.iloc[:,:1]"
      ],
      "execution_count": 47,
      "outputs": []
    },
    {
      "cell_type": "code",
      "metadata": {
        "id": "IkkWkBeX1zDO",
        "colab_type": "code",
        "colab": {}
      },
      "source": [
        "x_test = df_test.iloc[:,1:]\n",
        "y_test = df_test.iloc[:,:1]"
      ],
      "execution_count": 48,
      "outputs": []
    },
    {
      "cell_type": "markdown",
      "metadata": {
        "colab_type": "text",
        "id": "FV8zHA2e1vOa"
      },
      "source": [
        "# data for Q8- x_test, x_train, y_test, y_train"
      ]
    },
    {
      "cell_type": "code",
      "metadata": {
        "colab_type": "code",
        "id": "GqiifV421vOe",
        "colab": {}
      },
      "source": [
        "# seperate 'o' and '1'"
      ],
      "execution_count": null,
      "outputs": []
    },
    {
      "cell_type": "code",
      "metadata": {
        "colab_type": "code",
        "id": "MmTFc3jE1vOm",
        "colab": {}
      },
      "source": [
        "df_zeros = df[df.target == 0] \n",
        "df_ones = df[df.target == 1]"
      ],
      "execution_count": 54,
      "outputs": []
    },
    {
      "cell_type": "code",
      "metadata": {
        "colab_type": "code",
        "id": "gJMlu4U71vOr",
        "colab": {}
      },
      "source": [
        "# df_zeros_test, df_zeros_train\n"
      ],
      "execution_count": null,
      "outputs": []
    },
    {
      "cell_type": "code",
      "metadata": {
        "colab_type": "code",
        "id": "OhquoDry1vOw",
        "colab": {
          "base_uri": "https://localhost:8080/",
          "height": 34
        },
        "outputId": "c2b09766-9ce4-4d34-fcd8-16dc46d29363"
      },
      "source": [
        "df_zeros.shape"
      ],
      "execution_count": null,
      "outputs": [
        {
          "output_type": "execute_result",
          "data": {
            "text/plain": [
              "(573518, 56)"
            ]
          },
          "metadata": {
            "tags": []
          },
          "execution_count": 43
        }
      ]
    },
    {
      "cell_type": "code",
      "metadata": {
        "colab_type": "code",
        "id": "kWh6gZXm1vO6",
        "colab": {}
      },
      "source": [
        "from sklearn.utils import shuffle\n",
        "df_zeros = shuffle(df_zeros)\n",
        "df_zeros_train = df_zeros.iloc[:70000,:]\n",
        "df_zeros_test = df_zeros.iloc[70000:,:]"
      ],
      "execution_count": 55,
      "outputs": []
    },
    {
      "cell_type": "code",
      "metadata": {
        "colab_type": "code",
        "id": "e8BYTA6R1vPG",
        "colab": {
          "base_uri": "https://localhost:8080/",
          "height": 34
        },
        "outputId": "99b69336-0758-4a94-ace5-9530665efef9"
      },
      "source": [
        "df_zeros_train.shape"
      ],
      "execution_count": null,
      "outputs": [
        {
          "output_type": "execute_result",
          "data": {
            "text/plain": [
              "(286759, 56)"
            ]
          },
          "metadata": {
            "tags": []
          },
          "execution_count": 18
        }
      ]
    },
    {
      "cell_type": "code",
      "metadata": {
        "colab_type": "code",
        "id": "waYHtNBQ1vPT",
        "colab": {}
      },
      "source": [
        "from sklearn.utils import shuffle\n",
        "df_ones = shuffle(df_ones)\n",
        "df_ones_train = df_ones.iloc[:10847,:]\n",
        "df_ones_test = df_ones.iloc[10847:,:]"
      ],
      "execution_count": 56,
      "outputs": []
    },
    {
      "cell_type": "code",
      "metadata": {
        "colab_type": "code",
        "id": "ikWlg-Gm1vPa",
        "colab": {
          "base_uri": "https://localhost:8080/",
          "height": 34
        },
        "outputId": "71086ecb-817b-4b83-f10a-0d2baefe2714"
      },
      "source": [
        "df_ones_test.shape"
      ],
      "execution_count": null,
      "outputs": [
        {
          "output_type": "execute_result",
          "data": {
            "text/plain": [
              "(10847, 56)"
            ]
          },
          "metadata": {
            "tags": []
          },
          "execution_count": 30
        }
      ]
    },
    {
      "cell_type": "code",
      "metadata": {
        "colab_type": "code",
        "id": "5DuAXbxW1vPn",
        "colab": {}
      },
      "source": [
        "\n",
        "df_train = df_ones_train.append(df_zeros_train)\n",
        "df_test = df_ones_test.append(df_zeros_test)"
      ],
      "execution_count": 57,
      "outputs": []
    },
    {
      "cell_type": "code",
      "metadata": {
        "colab_type": "code",
        "id": "30F0A6Bb1vPu",
        "colab": {
          "base_uri": "https://localhost:8080/",
          "height": 217
        },
        "outputId": "90209910-ec55-4d65-dfd2-296a2f246a46"
      },
      "source": [
        "df_train.head() #ok? -yes"
      ],
      "execution_count": null,
      "outputs": [
        {
          "output_type": "execute_result",
          "data": {
            "text/html": [
              "<div>\n",
              "<style scoped>\n",
              "    .dataframe tbody tr th:only-of-type {\n",
              "        vertical-align: middle;\n",
              "    }\n",
              "\n",
              "    .dataframe tbody tr th {\n",
              "        vertical-align: top;\n",
              "    }\n",
              "\n",
              "    .dataframe thead th {\n",
              "        text-align: right;\n",
              "    }\n",
              "</style>\n",
              "<table border=\"1\" class=\"dataframe\">\n",
              "  <thead>\n",
              "    <tr style=\"text-align: right;\">\n",
              "      <th></th>\n",
              "      <th>target</th>\n",
              "      <th>ps_ind_01</th>\n",
              "      <th>ps_ind_02_cat</th>\n",
              "      <th>ps_ind_03</th>\n",
              "      <th>ps_ind_04_cat</th>\n",
              "      <th>ps_ind_05_cat</th>\n",
              "      <th>ps_ind_06_bin</th>\n",
              "      <th>ps_ind_07_bin</th>\n",
              "      <th>ps_ind_08_bin</th>\n",
              "      <th>ps_ind_09_bin</th>\n",
              "      <th>ps_ind_10_bin</th>\n",
              "      <th>ps_ind_11_bin</th>\n",
              "      <th>ps_ind_12_bin</th>\n",
              "      <th>ps_ind_13_bin</th>\n",
              "      <th>ps_ind_14</th>\n",
              "      <th>ps_ind_15</th>\n",
              "      <th>ps_ind_16_bin</th>\n",
              "      <th>ps_ind_17_bin</th>\n",
              "      <th>ps_ind_18_bin</th>\n",
              "      <th>ps_reg_01</th>\n",
              "      <th>ps_reg_02</th>\n",
              "      <th>ps_reg_03</th>\n",
              "      <th>ps_car_01_cat</th>\n",
              "      <th>ps_car_02_cat</th>\n",
              "      <th>ps_car_04_cat</th>\n",
              "      <th>ps_car_06_cat</th>\n",
              "      <th>ps_car_07_cat</th>\n",
              "      <th>ps_car_08_cat</th>\n",
              "      <th>ps_car_09_cat</th>\n",
              "      <th>ps_car_10_cat</th>\n",
              "      <th>ps_car_11_cat</th>\n",
              "      <th>ps_car_11</th>\n",
              "      <th>ps_car_12</th>\n",
              "      <th>ps_car_13</th>\n",
              "      <th>ps_car_14</th>\n",
              "      <th>ps_car_15</th>\n",
              "      <th>ps_calc_01</th>\n",
              "      <th>ps_calc_02</th>\n",
              "      <th>ps_calc_03</th>\n",
              "      <th>ps_calc_04</th>\n",
              "      <th>ps_calc_05</th>\n",
              "      <th>ps_calc_06</th>\n",
              "      <th>ps_calc_07</th>\n",
              "      <th>ps_calc_08</th>\n",
              "      <th>ps_calc_09</th>\n",
              "      <th>ps_calc_10</th>\n",
              "      <th>ps_calc_11</th>\n",
              "      <th>ps_calc_12</th>\n",
              "      <th>ps_calc_13</th>\n",
              "      <th>ps_calc_14</th>\n",
              "      <th>ps_calc_15_bin</th>\n",
              "      <th>ps_calc_16_bin</th>\n",
              "      <th>ps_calc_17_bin</th>\n",
              "      <th>ps_calc_18_bin</th>\n",
              "      <th>ps_calc_19_bin</th>\n",
              "      <th>ps_calc_20_bin</th>\n",
              "    </tr>\n",
              "  </thead>\n",
              "  <tbody>\n",
              "    <tr>\n",
              "      <th>187756</th>\n",
              "      <td>1</td>\n",
              "      <td>5</td>\n",
              "      <td>2.0</td>\n",
              "      <td>2</td>\n",
              "      <td>0.0</td>\n",
              "      <td>0.0</td>\n",
              "      <td>0</td>\n",
              "      <td>1</td>\n",
              "      <td>0</td>\n",
              "      <td>0</td>\n",
              "      <td>0</td>\n",
              "      <td>0</td>\n",
              "      <td>0</td>\n",
              "      <td>0</td>\n",
              "      <td>0</td>\n",
              "      <td>6</td>\n",
              "      <td>1</td>\n",
              "      <td>0</td>\n",
              "      <td>0</td>\n",
              "      <td>0.5</td>\n",
              "      <td>0.6</td>\n",
              "      <td>1.211662</td>\n",
              "      <td>8.0</td>\n",
              "      <td>1</td>\n",
              "      <td>2</td>\n",
              "      <td>0</td>\n",
              "      <td>1.0</td>\n",
              "      <td>0</td>\n",
              "      <td>2.0</td>\n",
              "      <td>1</td>\n",
              "      <td>100</td>\n",
              "      <td>0.0</td>\n",
              "      <td>0.400000</td>\n",
              "      <td>1.002765</td>\n",
              "      <td>0.319374</td>\n",
              "      <td>3.741657</td>\n",
              "      <td>0.7</td>\n",
              "      <td>0.6</td>\n",
              "      <td>0.1</td>\n",
              "      <td>1</td>\n",
              "      <td>1</td>\n",
              "      <td>8</td>\n",
              "      <td>1</td>\n",
              "      <td>10</td>\n",
              "      <td>2</td>\n",
              "      <td>5</td>\n",
              "      <td>4</td>\n",
              "      <td>0</td>\n",
              "      <td>4</td>\n",
              "      <td>9</td>\n",
              "      <td>1</td>\n",
              "      <td>0</td>\n",
              "      <td>1</td>\n",
              "      <td>1</td>\n",
              "      <td>0</td>\n",
              "      <td>0</td>\n",
              "    </tr>\n",
              "    <tr>\n",
              "      <th>576894</th>\n",
              "      <td>1</td>\n",
              "      <td>5</td>\n",
              "      <td>2.0</td>\n",
              "      <td>1</td>\n",
              "      <td>0.0</td>\n",
              "      <td>0.0</td>\n",
              "      <td>0</td>\n",
              "      <td>0</td>\n",
              "      <td>0</td>\n",
              "      <td>1</td>\n",
              "      <td>0</td>\n",
              "      <td>0</td>\n",
              "      <td>0</td>\n",
              "      <td>0</td>\n",
              "      <td>0</td>\n",
              "      <td>7</td>\n",
              "      <td>1</td>\n",
              "      <td>0</td>\n",
              "      <td>0</td>\n",
              "      <td>0.6</td>\n",
              "      <td>0.6</td>\n",
              "      <td>0.932068</td>\n",
              "      <td>11.0</td>\n",
              "      <td>1</td>\n",
              "      <td>0</td>\n",
              "      <td>0</td>\n",
              "      <td>1.0</td>\n",
              "      <td>1</td>\n",
              "      <td>0.0</td>\n",
              "      <td>1</td>\n",
              "      <td>88</td>\n",
              "      <td>3.0</td>\n",
              "      <td>0.399875</td>\n",
              "      <td>0.649968</td>\n",
              "      <td>0.328938</td>\n",
              "      <td>2.236068</td>\n",
              "      <td>0.9</td>\n",
              "      <td>0.8</td>\n",
              "      <td>0.5</td>\n",
              "      <td>4</td>\n",
              "      <td>2</td>\n",
              "      <td>7</td>\n",
              "      <td>4</td>\n",
              "      <td>10</td>\n",
              "      <td>2</td>\n",
              "      <td>7</td>\n",
              "      <td>7</td>\n",
              "      <td>1</td>\n",
              "      <td>3</td>\n",
              "      <td>5</td>\n",
              "      <td>0</td>\n",
              "      <td>1</td>\n",
              "      <td>1</td>\n",
              "      <td>0</td>\n",
              "      <td>0</td>\n",
              "      <td>0</td>\n",
              "    </tr>\n",
              "    <tr>\n",
              "      <th>352285</th>\n",
              "      <td>1</td>\n",
              "      <td>0</td>\n",
              "      <td>3.0</td>\n",
              "      <td>6</td>\n",
              "      <td>1.0</td>\n",
              "      <td>0.0</td>\n",
              "      <td>0</td>\n",
              "      <td>0</td>\n",
              "      <td>1</td>\n",
              "      <td>0</td>\n",
              "      <td>0</td>\n",
              "      <td>0</td>\n",
              "      <td>0</td>\n",
              "      <td>0</td>\n",
              "      <td>0</td>\n",
              "      <td>10</td>\n",
              "      <td>0</td>\n",
              "      <td>0</td>\n",
              "      <td>0</td>\n",
              "      <td>0.6</td>\n",
              "      <td>0.9</td>\n",
              "      <td>1.042833</td>\n",
              "      <td>11.0</td>\n",
              "      <td>0</td>\n",
              "      <td>0</td>\n",
              "      <td>7</td>\n",
              "      <td>1.0</td>\n",
              "      <td>0</td>\n",
              "      <td>2.0</td>\n",
              "      <td>1</td>\n",
              "      <td>104</td>\n",
              "      <td>2.0</td>\n",
              "      <td>0.447214</td>\n",
              "      <td>1.219419</td>\n",
              "      <td>0.438406</td>\n",
              "      <td>3.741657</td>\n",
              "      <td>0.5</td>\n",
              "      <td>0.7</td>\n",
              "      <td>0.2</td>\n",
              "      <td>2</td>\n",
              "      <td>1</td>\n",
              "      <td>9</td>\n",
              "      <td>1</td>\n",
              "      <td>10</td>\n",
              "      <td>2</td>\n",
              "      <td>4</td>\n",
              "      <td>10</td>\n",
              "      <td>0</td>\n",
              "      <td>4</td>\n",
              "      <td>7</td>\n",
              "      <td>0</td>\n",
              "      <td>1</td>\n",
              "      <td>0</td>\n",
              "      <td>1</td>\n",
              "      <td>1</td>\n",
              "      <td>1</td>\n",
              "    </tr>\n",
              "    <tr>\n",
              "      <th>475404</th>\n",
              "      <td>1</td>\n",
              "      <td>3</td>\n",
              "      <td>1.0</td>\n",
              "      <td>4</td>\n",
              "      <td>0.0</td>\n",
              "      <td>0.0</td>\n",
              "      <td>1</td>\n",
              "      <td>0</td>\n",
              "      <td>0</td>\n",
              "      <td>0</td>\n",
              "      <td>0</td>\n",
              "      <td>0</td>\n",
              "      <td>0</td>\n",
              "      <td>0</td>\n",
              "      <td>0</td>\n",
              "      <td>8</td>\n",
              "      <td>1</td>\n",
              "      <td>0</td>\n",
              "      <td>0</td>\n",
              "      <td>0.9</td>\n",
              "      <td>0.3</td>\n",
              "      <td>0.741620</td>\n",
              "      <td>7.0</td>\n",
              "      <td>1</td>\n",
              "      <td>1</td>\n",
              "      <td>3</td>\n",
              "      <td>1.0</td>\n",
              "      <td>1</td>\n",
              "      <td>2.0</td>\n",
              "      <td>1</td>\n",
              "      <td>59</td>\n",
              "      <td>3.0</td>\n",
              "      <td>0.316228</td>\n",
              "      <td>0.715949</td>\n",
              "      <td>0.309677</td>\n",
              "      <td>3.464102</td>\n",
              "      <td>0.2</td>\n",
              "      <td>0.1</td>\n",
              "      <td>0.2</td>\n",
              "      <td>1</td>\n",
              "      <td>1</td>\n",
              "      <td>10</td>\n",
              "      <td>4</td>\n",
              "      <td>12</td>\n",
              "      <td>3</td>\n",
              "      <td>11</td>\n",
              "      <td>4</td>\n",
              "      <td>1</td>\n",
              "      <td>4</td>\n",
              "      <td>4</td>\n",
              "      <td>0</td>\n",
              "      <td>1</td>\n",
              "      <td>1</td>\n",
              "      <td>1</td>\n",
              "      <td>1</td>\n",
              "      <td>0</td>\n",
              "    </tr>\n",
              "    <tr>\n",
              "      <th>160883</th>\n",
              "      <td>1</td>\n",
              "      <td>2</td>\n",
              "      <td>1.0</td>\n",
              "      <td>1</td>\n",
              "      <td>1.0</td>\n",
              "      <td>0.0</td>\n",
              "      <td>0</td>\n",
              "      <td>0</td>\n",
              "      <td>0</td>\n",
              "      <td>1</td>\n",
              "      <td>0</td>\n",
              "      <td>0</td>\n",
              "      <td>0</td>\n",
              "      <td>0</td>\n",
              "      <td>0</td>\n",
              "      <td>10</td>\n",
              "      <td>0</td>\n",
              "      <td>0</td>\n",
              "      <td>1</td>\n",
              "      <td>0.9</td>\n",
              "      <td>0.6</td>\n",
              "      <td>1.054158</td>\n",
              "      <td>10.0</td>\n",
              "      <td>1</td>\n",
              "      <td>0</td>\n",
              "      <td>1</td>\n",
              "      <td>1.0</td>\n",
              "      <td>1</td>\n",
              "      <td>0.0</td>\n",
              "      <td>1</td>\n",
              "      <td>74</td>\n",
              "      <td>2.0</td>\n",
              "      <td>0.400000</td>\n",
              "      <td>0.805816</td>\n",
              "      <td>0.378418</td>\n",
              "      <td>3.464102</td>\n",
              "      <td>0.7</td>\n",
              "      <td>0.6</td>\n",
              "      <td>0.6</td>\n",
              "      <td>2</td>\n",
              "      <td>0</td>\n",
              "      <td>6</td>\n",
              "      <td>3</td>\n",
              "      <td>11</td>\n",
              "      <td>1</td>\n",
              "      <td>8</td>\n",
              "      <td>2</td>\n",
              "      <td>0</td>\n",
              "      <td>1</td>\n",
              "      <td>5</td>\n",
              "      <td>0</td>\n",
              "      <td>1</td>\n",
              "      <td>1</td>\n",
              "      <td>0</td>\n",
              "      <td>1</td>\n",
              "      <td>0</td>\n",
              "    </tr>\n",
              "  </tbody>\n",
              "</table>\n",
              "</div>"
            ],
            "text/plain": [
              "        target  ps_ind_01  ...  ps_calc_19_bin  ps_calc_20_bin\n",
              "187756       1          5  ...               0               0\n",
              "576894       1          5  ...               0               0\n",
              "352285       1          0  ...               1               1\n",
              "475404       1          3  ...               1               0\n",
              "160883       1          2  ...               1               0\n",
              "\n",
              "[5 rows x 56 columns]"
            ]
          },
          "metadata": {
            "tags": []
          },
          "execution_count": 30
        }
      ]
    },
    {
      "cell_type": "code",
      "metadata": {
        "colab_type": "code",
        "id": "nQejWKvG1vP7",
        "colab": {}
      },
      "source": [
        "# devide data into X and Y"
      ],
      "execution_count": null,
      "outputs": []
    },
    {
      "cell_type": "code",
      "metadata": {
        "colab_type": "code",
        "id": "J2V4KWEi1vQB",
        "colab": {}
      },
      "source": [
        "x_train = df_train.iloc[:,1:]\n",
        "y_train = df_train.iloc[:,:1]"
      ],
      "execution_count": 58,
      "outputs": []
    },
    {
      "cell_type": "code",
      "metadata": {
        "colab_type": "code",
        "id": "OYwcGz621vQH",
        "colab": {}
      },
      "source": [
        "x_test = df_test.iloc[:,1:]\n",
        "y_test = df_test.iloc[:,:1]"
      ],
      "execution_count": 59,
      "outputs": []
    },
    {
      "cell_type": "markdown",
      "metadata": {
        "colab_type": "text",
        "id": "XlxoCbs9Px1n"
      },
      "source": [
        "#Set 3 -Test Data/Train data(balanced)\n",
        "\n",
        "---\n",
        "1hot/ x_test, x_train, y_test, y_train\n"
      ]
    },
    {
      "cell_type": "code",
      "metadata": {
        "colab_type": "code",
        "id": "7vxIH8K0Px1v",
        "colab": {}
      },
      "source": [
        "# seperate 'o' and '1'"
      ],
      "execution_count": null,
      "outputs": []
    },
    {
      "cell_type": "code",
      "metadata": {
        "colab_type": "code",
        "id": "f8ToJd8ZPx18",
        "colab": {}
      },
      "source": [
        "df_zeros = df_1hot[df_1hot.target == 0] \n",
        "df_ones = df_1hot[df_1hot.target == 1]"
      ],
      "execution_count": 81,
      "outputs": []
    },
    {
      "cell_type": "code",
      "metadata": {
        "colab_type": "code",
        "id": "lpg0VkCaPx2E",
        "colab": {}
      },
      "source": [
        "# df_zeros_test, df_zeros_train\n"
      ],
      "execution_count": null,
      "outputs": []
    },
    {
      "cell_type": "code",
      "metadata": {
        "colab_type": "code",
        "id": "gD-6uok3Px2K",
        "colab": {
          "base_uri": "https://localhost:8080/",
          "height": 34
        },
        "outputId": "7dbc8ae9-7bf4-4597-80ed-5760cf74d331"
      },
      "source": [
        "df_zeros.shape"
      ],
      "execution_count": 82,
      "outputs": [
        {
          "output_type": "execute_result",
          "data": {
            "text/plain": [
              "(573518, 112)"
            ]
          },
          "metadata": {
            "tags": []
          },
          "execution_count": 82
        }
      ]
    },
    {
      "cell_type": "code",
      "metadata": {
        "colab_type": "code",
        "id": "o2qRDyvjPx2P",
        "colab": {}
      },
      "source": [
        "from sklearn.utils import shuffle\n",
        "df_zeros = shuffle(df_zeros)\n",
        "df_zeros_train = df_zeros.iloc[:5500,:]\n",
        "df_zeros_test = df_zeros.iloc[5500:,:]"
      ],
      "execution_count": 83,
      "outputs": []
    },
    {
      "cell_type": "code",
      "metadata": {
        "colab_type": "code",
        "id": "Ms2axBQtPx2S",
        "colab": {
          "base_uri": "https://localhost:8080/",
          "height": 0
        },
        "outputId": "4aba2236-d41a-4c03-f642-a9f144f46787"
      },
      "source": [
        "df_zeros_train.shape"
      ],
      "execution_count": 84,
      "outputs": [
        {
          "output_type": "execute_result",
          "data": {
            "text/plain": [
              "(5500, 112)"
            ]
          },
          "metadata": {
            "tags": []
          },
          "execution_count": 84
        }
      ]
    },
    {
      "cell_type": "code",
      "metadata": {
        "colab_type": "code",
        "id": "kk10RjMdPx2V",
        "colab": {}
      },
      "source": [
        "from sklearn.utils import shuffle\n",
        "df_ones = shuffle(df_ones)\n",
        "df_ones_train = df_ones.iloc[:10847,:]\n",
        "df_ones_test = df_ones.iloc[10847:,:]"
      ],
      "execution_count": 85,
      "outputs": []
    },
    {
      "cell_type": "code",
      "metadata": {
        "colab_type": "code",
        "id": "r3qaD-o_Px2Y",
        "colab": {
          "base_uri": "https://localhost:8080/",
          "height": 0
        },
        "outputId": "eed903a5-b600-41c7-f6de-e21d6185b568"
      },
      "source": [
        "df_ones_test.shape"
      ],
      "execution_count": 86,
      "outputs": [
        {
          "output_type": "execute_result",
          "data": {
            "text/plain": [
              "(10847, 112)"
            ]
          },
          "metadata": {
            "tags": []
          },
          "execution_count": 86
        }
      ]
    },
    {
      "cell_type": "code",
      "metadata": {
        "colab_type": "code",
        "id": "ReHroTwXPx2c",
        "colab": {}
      },
      "source": [
        "\n",
        "df_train = df_ones_train.append(df_zeros_train)\n",
        "df_test = df_ones_test.append(df_zeros_test)"
      ],
      "execution_count": 87,
      "outputs": []
    },
    {
      "cell_type": "code",
      "metadata": {
        "colab_type": "code",
        "id": "vEvkhHcbPx2e",
        "colab": {
          "base_uri": "https://localhost:8080/",
          "height": 0
        },
        "outputId": "4bf3a253-9b8f-42cc-e2a6-bbb005f127be"
      },
      "source": [
        "df_train.head() #ok? -yes"
      ],
      "execution_count": 88,
      "outputs": [
        {
          "output_type": "execute_result",
          "data": {
            "text/html": [
              "<div>\n",
              "<style scoped>\n",
              "    .dataframe tbody tr th:only-of-type {\n",
              "        vertical-align: middle;\n",
              "    }\n",
              "\n",
              "    .dataframe tbody tr th {\n",
              "        vertical-align: top;\n",
              "    }\n",
              "\n",
              "    .dataframe thead th {\n",
              "        text-align: right;\n",
              "    }\n",
              "</style>\n",
              "<table border=\"1\" class=\"dataframe\">\n",
              "  <thead>\n",
              "    <tr style=\"text-align: right;\">\n",
              "      <th></th>\n",
              "      <th>target</th>\n",
              "      <th>ps_ind_01</th>\n",
              "      <th>ps_ind_03</th>\n",
              "      <th>ps_ind_06_bin</th>\n",
              "      <th>ps_ind_07_bin</th>\n",
              "      <th>ps_ind_08_bin</th>\n",
              "      <th>ps_ind_09_bin</th>\n",
              "      <th>ps_ind_10_bin</th>\n",
              "      <th>ps_ind_11_bin</th>\n",
              "      <th>ps_ind_12_bin</th>\n",
              "      <th>ps_ind_13_bin</th>\n",
              "      <th>ps_ind_14</th>\n",
              "      <th>ps_ind_15</th>\n",
              "      <th>ps_ind_16_bin</th>\n",
              "      <th>ps_ind_17_bin</th>\n",
              "      <th>ps_ind_18_bin</th>\n",
              "      <th>ps_reg_01</th>\n",
              "      <th>ps_reg_02</th>\n",
              "      <th>ps_reg_03</th>\n",
              "      <th>ps_car_11_cat</th>\n",
              "      <th>ps_car_11</th>\n",
              "      <th>ps_car_12</th>\n",
              "      <th>ps_car_13</th>\n",
              "      <th>ps_car_14</th>\n",
              "      <th>ps_car_15</th>\n",
              "      <th>ps_calc_01</th>\n",
              "      <th>ps_calc_02</th>\n",
              "      <th>ps_calc_03</th>\n",
              "      <th>ps_calc_04</th>\n",
              "      <th>ps_calc_05</th>\n",
              "      <th>ps_calc_06</th>\n",
              "      <th>ps_calc_07</th>\n",
              "      <th>ps_calc_08</th>\n",
              "      <th>ps_calc_09</th>\n",
              "      <th>ps_calc_10</th>\n",
              "      <th>ps_calc_11</th>\n",
              "      <th>ps_calc_12</th>\n",
              "      <th>ps_calc_13</th>\n",
              "      <th>ps_calc_14</th>\n",
              "      <th>ps_calc_15_bin</th>\n",
              "      <th>...</th>\n",
              "      <th>ps_car_04_cat_0</th>\n",
              "      <th>ps_car_04_cat_1</th>\n",
              "      <th>ps_car_04_cat_2</th>\n",
              "      <th>ps_car_04_cat_3</th>\n",
              "      <th>ps_car_04_cat_4</th>\n",
              "      <th>ps_car_04_cat_5</th>\n",
              "      <th>ps_car_04_cat_6</th>\n",
              "      <th>ps_car_04_cat_7</th>\n",
              "      <th>ps_car_04_cat_8</th>\n",
              "      <th>ps_car_04_cat_9</th>\n",
              "      <th>ps_car_06_cat_0</th>\n",
              "      <th>ps_car_06_cat_1</th>\n",
              "      <th>ps_car_06_cat_2</th>\n",
              "      <th>ps_car_06_cat_3</th>\n",
              "      <th>ps_car_06_cat_4</th>\n",
              "      <th>ps_car_06_cat_5</th>\n",
              "      <th>ps_car_06_cat_6</th>\n",
              "      <th>ps_car_06_cat_7</th>\n",
              "      <th>ps_car_06_cat_8</th>\n",
              "      <th>ps_car_06_cat_9</th>\n",
              "      <th>ps_car_06_cat_10</th>\n",
              "      <th>ps_car_06_cat_11</th>\n",
              "      <th>ps_car_06_cat_12</th>\n",
              "      <th>ps_car_06_cat_13</th>\n",
              "      <th>ps_car_06_cat_14</th>\n",
              "      <th>ps_car_06_cat_15</th>\n",
              "      <th>ps_car_06_cat_16</th>\n",
              "      <th>ps_car_06_cat_17</th>\n",
              "      <th>ps_car_07_cat_0.0</th>\n",
              "      <th>ps_car_07_cat_1.0</th>\n",
              "      <th>ps_car_08_cat_0</th>\n",
              "      <th>ps_car_08_cat_1</th>\n",
              "      <th>ps_car_09_cat_0.0</th>\n",
              "      <th>ps_car_09_cat_1.0</th>\n",
              "      <th>ps_car_09_cat_2.0</th>\n",
              "      <th>ps_car_09_cat_3.0</th>\n",
              "      <th>ps_car_09_cat_4.0</th>\n",
              "      <th>ps_car_10_cat_0</th>\n",
              "      <th>ps_car_10_cat_1</th>\n",
              "      <th>ps_car_10_cat_2</th>\n",
              "    </tr>\n",
              "  </thead>\n",
              "  <tbody>\n",
              "    <tr>\n",
              "      <th>168250</th>\n",
              "      <td>1</td>\n",
              "      <td>4</td>\n",
              "      <td>2</td>\n",
              "      <td>0</td>\n",
              "      <td>1</td>\n",
              "      <td>0</td>\n",
              "      <td>0</td>\n",
              "      <td>0</td>\n",
              "      <td>0</td>\n",
              "      <td>0</td>\n",
              "      <td>0</td>\n",
              "      <td>0</td>\n",
              "      <td>10</td>\n",
              "      <td>1</td>\n",
              "      <td>0</td>\n",
              "      <td>0</td>\n",
              "      <td>0.9</td>\n",
              "      <td>0.8</td>\n",
              "      <td>1.206493</td>\n",
              "      <td>22</td>\n",
              "      <td>1.0</td>\n",
              "      <td>0.316228</td>\n",
              "      <td>0.715646</td>\n",
              "      <td>0.374566</td>\n",
              "      <td>3.162278</td>\n",
              "      <td>0.9</td>\n",
              "      <td>0.3</td>\n",
              "      <td>0.7</td>\n",
              "      <td>1</td>\n",
              "      <td>3</td>\n",
              "      <td>9</td>\n",
              "      <td>2</td>\n",
              "      <td>9</td>\n",
              "      <td>0</td>\n",
              "      <td>10</td>\n",
              "      <td>6</td>\n",
              "      <td>1</td>\n",
              "      <td>3</td>\n",
              "      <td>6</td>\n",
              "      <td>0</td>\n",
              "      <td>...</td>\n",
              "      <td>1</td>\n",
              "      <td>0</td>\n",
              "      <td>0</td>\n",
              "      <td>0</td>\n",
              "      <td>0</td>\n",
              "      <td>0</td>\n",
              "      <td>0</td>\n",
              "      <td>0</td>\n",
              "      <td>0</td>\n",
              "      <td>0</td>\n",
              "      <td>1</td>\n",
              "      <td>0</td>\n",
              "      <td>0</td>\n",
              "      <td>0</td>\n",
              "      <td>0</td>\n",
              "      <td>0</td>\n",
              "      <td>0</td>\n",
              "      <td>0</td>\n",
              "      <td>0</td>\n",
              "      <td>0</td>\n",
              "      <td>0</td>\n",
              "      <td>0</td>\n",
              "      <td>0</td>\n",
              "      <td>0</td>\n",
              "      <td>0</td>\n",
              "      <td>0</td>\n",
              "      <td>0</td>\n",
              "      <td>0</td>\n",
              "      <td>0</td>\n",
              "      <td>1</td>\n",
              "      <td>0</td>\n",
              "      <td>1</td>\n",
              "      <td>1</td>\n",
              "      <td>0</td>\n",
              "      <td>0</td>\n",
              "      <td>0</td>\n",
              "      <td>0</td>\n",
              "      <td>0</td>\n",
              "      <td>1</td>\n",
              "      <td>0</td>\n",
              "    </tr>\n",
              "    <tr>\n",
              "      <th>158346</th>\n",
              "      <td>1</td>\n",
              "      <td>3</td>\n",
              "      <td>4</td>\n",
              "      <td>0</td>\n",
              "      <td>0</td>\n",
              "      <td>1</td>\n",
              "      <td>0</td>\n",
              "      <td>0</td>\n",
              "      <td>0</td>\n",
              "      <td>0</td>\n",
              "      <td>0</td>\n",
              "      <td>0</td>\n",
              "      <td>3</td>\n",
              "      <td>0</td>\n",
              "      <td>0</td>\n",
              "      <td>1</td>\n",
              "      <td>0.9</td>\n",
              "      <td>0.3</td>\n",
              "      <td>0.669421</td>\n",
              "      <td>64</td>\n",
              "      <td>3.0</td>\n",
              "      <td>0.316228</td>\n",
              "      <td>0.609413</td>\n",
              "      <td>0.361939</td>\n",
              "      <td>2.828427</td>\n",
              "      <td>0.1</td>\n",
              "      <td>0.1</td>\n",
              "      <td>0.2</td>\n",
              "      <td>1</td>\n",
              "      <td>3</td>\n",
              "      <td>4</td>\n",
              "      <td>2</td>\n",
              "      <td>7</td>\n",
              "      <td>2</td>\n",
              "      <td>9</td>\n",
              "      <td>3</td>\n",
              "      <td>1</td>\n",
              "      <td>4</td>\n",
              "      <td>7</td>\n",
              "      <td>0</td>\n",
              "      <td>...</td>\n",
              "      <td>1</td>\n",
              "      <td>0</td>\n",
              "      <td>0</td>\n",
              "      <td>0</td>\n",
              "      <td>0</td>\n",
              "      <td>0</td>\n",
              "      <td>0</td>\n",
              "      <td>0</td>\n",
              "      <td>0</td>\n",
              "      <td>0</td>\n",
              "      <td>0</td>\n",
              "      <td>1</td>\n",
              "      <td>0</td>\n",
              "      <td>0</td>\n",
              "      <td>0</td>\n",
              "      <td>0</td>\n",
              "      <td>0</td>\n",
              "      <td>0</td>\n",
              "      <td>0</td>\n",
              "      <td>0</td>\n",
              "      <td>0</td>\n",
              "      <td>0</td>\n",
              "      <td>0</td>\n",
              "      <td>0</td>\n",
              "      <td>0</td>\n",
              "      <td>0</td>\n",
              "      <td>0</td>\n",
              "      <td>0</td>\n",
              "      <td>0</td>\n",
              "      <td>1</td>\n",
              "      <td>0</td>\n",
              "      <td>1</td>\n",
              "      <td>0</td>\n",
              "      <td>1</td>\n",
              "      <td>0</td>\n",
              "      <td>0</td>\n",
              "      <td>0</td>\n",
              "      <td>0</td>\n",
              "      <td>1</td>\n",
              "      <td>0</td>\n",
              "    </tr>\n",
              "    <tr>\n",
              "      <th>45015</th>\n",
              "      <td>1</td>\n",
              "      <td>5</td>\n",
              "      <td>7</td>\n",
              "      <td>1</td>\n",
              "      <td>0</td>\n",
              "      <td>0</td>\n",
              "      <td>0</td>\n",
              "      <td>0</td>\n",
              "      <td>0</td>\n",
              "      <td>0</td>\n",
              "      <td>0</td>\n",
              "      <td>0</td>\n",
              "      <td>6</td>\n",
              "      <td>1</td>\n",
              "      <td>0</td>\n",
              "      <td>0</td>\n",
              "      <td>0.1</td>\n",
              "      <td>0.2</td>\n",
              "      <td>0.890000</td>\n",
              "      <td>100</td>\n",
              "      <td>0.0</td>\n",
              "      <td>0.399750</td>\n",
              "      <td>0.768988</td>\n",
              "      <td>0.319374</td>\n",
              "      <td>3.464102</td>\n",
              "      <td>0.9</td>\n",
              "      <td>0.0</td>\n",
              "      <td>0.6</td>\n",
              "      <td>1</td>\n",
              "      <td>2</td>\n",
              "      <td>8</td>\n",
              "      <td>2</td>\n",
              "      <td>10</td>\n",
              "      <td>3</td>\n",
              "      <td>12</td>\n",
              "      <td>6</td>\n",
              "      <td>1</td>\n",
              "      <td>2</td>\n",
              "      <td>5</td>\n",
              "      <td>0</td>\n",
              "      <td>...</td>\n",
              "      <td>0</td>\n",
              "      <td>0</td>\n",
              "      <td>1</td>\n",
              "      <td>0</td>\n",
              "      <td>0</td>\n",
              "      <td>0</td>\n",
              "      <td>0</td>\n",
              "      <td>0</td>\n",
              "      <td>0</td>\n",
              "      <td>0</td>\n",
              "      <td>1</td>\n",
              "      <td>0</td>\n",
              "      <td>0</td>\n",
              "      <td>0</td>\n",
              "      <td>0</td>\n",
              "      <td>0</td>\n",
              "      <td>0</td>\n",
              "      <td>0</td>\n",
              "      <td>0</td>\n",
              "      <td>0</td>\n",
              "      <td>0</td>\n",
              "      <td>0</td>\n",
              "      <td>0</td>\n",
              "      <td>0</td>\n",
              "      <td>0</td>\n",
              "      <td>0</td>\n",
              "      <td>0</td>\n",
              "      <td>0</td>\n",
              "      <td>1</td>\n",
              "      <td>0</td>\n",
              "      <td>0</td>\n",
              "      <td>1</td>\n",
              "      <td>0</td>\n",
              "      <td>0</td>\n",
              "      <td>1</td>\n",
              "      <td>0</td>\n",
              "      <td>0</td>\n",
              "      <td>0</td>\n",
              "      <td>1</td>\n",
              "      <td>0</td>\n",
              "    </tr>\n",
              "    <tr>\n",
              "      <th>238179</th>\n",
              "      <td>1</td>\n",
              "      <td>1</td>\n",
              "      <td>7</td>\n",
              "      <td>0</td>\n",
              "      <td>1</td>\n",
              "      <td>0</td>\n",
              "      <td>0</td>\n",
              "      <td>0</td>\n",
              "      <td>0</td>\n",
              "      <td>0</td>\n",
              "      <td>0</td>\n",
              "      <td>0</td>\n",
              "      <td>3</td>\n",
              "      <td>1</td>\n",
              "      <td>0</td>\n",
              "      <td>0</td>\n",
              "      <td>0.1</td>\n",
              "      <td>0.2</td>\n",
              "      <td>0.890000</td>\n",
              "      <td>52</td>\n",
              "      <td>3.0</td>\n",
              "      <td>0.374166</td>\n",
              "      <td>0.709266</td>\n",
              "      <td>0.359861</td>\n",
              "      <td>3.464102</td>\n",
              "      <td>0.1</td>\n",
              "      <td>0.5</td>\n",
              "      <td>0.4</td>\n",
              "      <td>2</td>\n",
              "      <td>1</td>\n",
              "      <td>8</td>\n",
              "      <td>5</td>\n",
              "      <td>7</td>\n",
              "      <td>1</td>\n",
              "      <td>11</td>\n",
              "      <td>10</td>\n",
              "      <td>0</td>\n",
              "      <td>3</td>\n",
              "      <td>9</td>\n",
              "      <td>1</td>\n",
              "      <td>...</td>\n",
              "      <td>1</td>\n",
              "      <td>0</td>\n",
              "      <td>0</td>\n",
              "      <td>0</td>\n",
              "      <td>0</td>\n",
              "      <td>0</td>\n",
              "      <td>0</td>\n",
              "      <td>0</td>\n",
              "      <td>0</td>\n",
              "      <td>0</td>\n",
              "      <td>0</td>\n",
              "      <td>1</td>\n",
              "      <td>0</td>\n",
              "      <td>0</td>\n",
              "      <td>0</td>\n",
              "      <td>0</td>\n",
              "      <td>0</td>\n",
              "      <td>0</td>\n",
              "      <td>0</td>\n",
              "      <td>0</td>\n",
              "      <td>0</td>\n",
              "      <td>0</td>\n",
              "      <td>0</td>\n",
              "      <td>0</td>\n",
              "      <td>0</td>\n",
              "      <td>0</td>\n",
              "      <td>0</td>\n",
              "      <td>0</td>\n",
              "      <td>0</td>\n",
              "      <td>1</td>\n",
              "      <td>0</td>\n",
              "      <td>1</td>\n",
              "      <td>0</td>\n",
              "      <td>0</td>\n",
              "      <td>1</td>\n",
              "      <td>0</td>\n",
              "      <td>0</td>\n",
              "      <td>0</td>\n",
              "      <td>1</td>\n",
              "      <td>0</td>\n",
              "    </tr>\n",
              "    <tr>\n",
              "      <th>218482</th>\n",
              "      <td>1</td>\n",
              "      <td>0</td>\n",
              "      <td>1</td>\n",
              "      <td>1</td>\n",
              "      <td>0</td>\n",
              "      <td>0</td>\n",
              "      <td>0</td>\n",
              "      <td>0</td>\n",
              "      <td>0</td>\n",
              "      <td>0</td>\n",
              "      <td>0</td>\n",
              "      <td>0</td>\n",
              "      <td>3</td>\n",
              "      <td>1</td>\n",
              "      <td>0</td>\n",
              "      <td>0</td>\n",
              "      <td>0.6</td>\n",
              "      <td>0.1</td>\n",
              "      <td>0.890000</td>\n",
              "      <td>22</td>\n",
              "      <td>3.0</td>\n",
              "      <td>0.316228</td>\n",
              "      <td>0.766229</td>\n",
              "      <td>0.374566</td>\n",
              "      <td>3.316625</td>\n",
              "      <td>0.4</td>\n",
              "      <td>0.3</td>\n",
              "      <td>0.5</td>\n",
              "      <td>4</td>\n",
              "      <td>1</td>\n",
              "      <td>6</td>\n",
              "      <td>5</td>\n",
              "      <td>11</td>\n",
              "      <td>4</td>\n",
              "      <td>9</td>\n",
              "      <td>5</td>\n",
              "      <td>1</td>\n",
              "      <td>4</td>\n",
              "      <td>7</td>\n",
              "      <td>0</td>\n",
              "      <td>...</td>\n",
              "      <td>1</td>\n",
              "      <td>0</td>\n",
              "      <td>0</td>\n",
              "      <td>0</td>\n",
              "      <td>0</td>\n",
              "      <td>0</td>\n",
              "      <td>0</td>\n",
              "      <td>0</td>\n",
              "      <td>0</td>\n",
              "      <td>0</td>\n",
              "      <td>1</td>\n",
              "      <td>0</td>\n",
              "      <td>0</td>\n",
              "      <td>0</td>\n",
              "      <td>0</td>\n",
              "      <td>0</td>\n",
              "      <td>0</td>\n",
              "      <td>0</td>\n",
              "      <td>0</td>\n",
              "      <td>0</td>\n",
              "      <td>0</td>\n",
              "      <td>0</td>\n",
              "      <td>0</td>\n",
              "      <td>0</td>\n",
              "      <td>0</td>\n",
              "      <td>0</td>\n",
              "      <td>0</td>\n",
              "      <td>0</td>\n",
              "      <td>0</td>\n",
              "      <td>1</td>\n",
              "      <td>0</td>\n",
              "      <td>1</td>\n",
              "      <td>1</td>\n",
              "      <td>0</td>\n",
              "      <td>0</td>\n",
              "      <td>0</td>\n",
              "      <td>0</td>\n",
              "      <td>0</td>\n",
              "      <td>1</td>\n",
              "      <td>0</td>\n",
              "    </tr>\n",
              "  </tbody>\n",
              "</table>\n",
              "<p>5 rows × 112 columns</p>\n",
              "</div>"
            ],
            "text/plain": [
              "        target  ps_ind_01  ...  ps_car_10_cat_1  ps_car_10_cat_2\n",
              "168250       1          4  ...                1                0\n",
              "158346       1          3  ...                1                0\n",
              "45015        1          5  ...                1                0\n",
              "238179       1          1  ...                1                0\n",
              "218482       1          0  ...                1                0\n",
              "\n",
              "[5 rows x 112 columns]"
            ]
          },
          "metadata": {
            "tags": []
          },
          "execution_count": 88
        }
      ]
    },
    {
      "cell_type": "code",
      "metadata": {
        "colab_type": "code",
        "id": "I3th3yT-Px2g",
        "colab": {}
      },
      "source": [
        "# devide data into X and Y"
      ],
      "execution_count": null,
      "outputs": []
    },
    {
      "cell_type": "code",
      "metadata": {
        "colab_type": "code",
        "id": "CgaK6uwQPx2i",
        "colab": {}
      },
      "source": [
        "x_train = df_train.iloc[:,1:]\n",
        "y_train = df_train.iloc[:,:1]"
      ],
      "execution_count": 89,
      "outputs": []
    },
    {
      "cell_type": "code",
      "metadata": {
        "colab_type": "code",
        "id": "pOmOe-F-Px2k",
        "colab": {}
      },
      "source": [
        "x_test = df_test.iloc[:,1:]\n",
        "y_test = df_test.iloc[:,:1]"
      ],
      "execution_count": 90,
      "outputs": []
    },
    {
      "cell_type": "markdown",
      "metadata": {
        "id": "WbuLiRtKzbgl",
        "colab_type": "text"
      },
      "source": [
        "# SMOTE and Upsample Code\n",
        "\n",
        "---\n",
        "for scenario to predict \"1\" better/ x_train_smote, y_train_smote\n"
      ]
    },
    {
      "cell_type": "code",
      "metadata": {
        "id": "wkGCbADSq2K8",
        "colab_type": "code",
        "colab": {
          "base_uri": "https://localhost:8080/",
          "height": 107
        },
        "outputId": "2c7dfef0-ef98-4cb1-b03e-3f4e0f33b1d5"
      },
      "source": [
        "over = SMOTE(sampling_strategy=0.8) \n",
        "x_train_smote , y_train_smote = over.fit_sample(x_train, y_train)"
      ],
      "execution_count": null,
      "outputs": [
        {
          "output_type": "stream",
          "text": [
            "/usr/local/lib/python3.6/dist-packages/sklearn/utils/validation.py:760: DataConversionWarning: A column-vector y was passed when a 1d array was expected. Please change the shape of y to (n_samples, ), for example using ravel().\n",
            "  y = column_or_1d(y, warn=True)\n",
            "/usr/local/lib/python3.6/dist-packages/sklearn/utils/deprecation.py:87: FutureWarning: Function safe_indexing is deprecated; safe_indexing is deprecated in version 0.22 and will be removed in version 0.24.\n",
            "  warnings.warn(msg, category=FutureWarning)\n"
          ],
          "name": "stderr"
        }
      ]
    },
    {
      "cell_type": "code",
      "metadata": {
        "id": "RW2MOUha4_DK",
        "colab_type": "code",
        "colab": {
          "base_uri": "https://localhost:8080/",
          "height": 105
        },
        "outputId": "8a1edf8e-ff80-4e32-85a8-91414f2ee0a6"
      },
      "source": [
        "#over_l = SMOTE(sampling_strategy=0.3) # lets do magic now\n",
        "#x_train_data_smote, y_train_data_smote = over_l.fit_sample(x_train_data, y_train_data)\n",
        "from imblearn.over_sampling import RandomOverSampler\n",
        "ros = RandomOverSampler(random_state=42,sampling_strategy=0.39)\n",
        "x_train_smote, y_train_smote = ros.fit_resample(x_train, y_train)\n",
        "#x_train_data_smote, y_train_data_smote = x_train_data, y_train_data"
      ],
      "execution_count": 66,
      "outputs": [
        {
          "output_type": "stream",
          "text": [
            "/usr/local/lib/python3.6/dist-packages/sklearn/utils/validation.py:760: DataConversionWarning: A column-vector y was passed when a 1d array was expected. Please change the shape of y to (n_samples, ), for example using ravel().\n",
            "  y = column_or_1d(y, warn=True)\n",
            "/usr/local/lib/python3.6/dist-packages/sklearn/utils/deprecation.py:87: FutureWarning: Function safe_indexing is deprecated; safe_indexing is deprecated in version 0.22 and will be removed in version 0.24.\n",
            "  warnings.warn(msg, category=FutureWarning)\n"
          ],
          "name": "stderr"
        }
      ]
    },
    {
      "cell_type": "code",
      "metadata": {
        "id": "8fgmVX92very",
        "colab_type": "code",
        "colab": {}
      },
      "source": [
        "colx = x_train.columns\n",
        "x_train_smote = pd.DataFrame(x_train_smote, columns=colx)"
      ],
      "execution_count": 67,
      "outputs": []
    },
    {
      "cell_type": "code",
      "metadata": {
        "id": "DoiKEtj3yfV5",
        "colab_type": "code",
        "colab": {}
      },
      "source": [
        "y_train_smote = pd.DataFrame(y_train_smote, columns =['target'])"
      ],
      "execution_count": 68,
      "outputs": []
    },
    {
      "cell_type": "code",
      "metadata": {
        "id": "6YggtHGOyqat",
        "colab_type": "code",
        "colab": {}
      },
      "source": [
        "new_data = y_train_smote.join(x_train_smote)"
      ],
      "execution_count": 63,
      "outputs": []
    },
    {
      "cell_type": "code",
      "metadata": {
        "id": "T1cldU4cz1S1",
        "colab_type": "code",
        "colab": {}
      },
      "source": [
        "df_0 = new_data[new_data.target == 0]\n",
        "df_1 = new_data[new_data.target == 1]"
      ],
      "execution_count": 69,
      "outputs": []
    },
    {
      "cell_type": "code",
      "metadata": {
        "id": "TvnTgakOjoBl",
        "colab_type": "code",
        "colab": {
          "base_uri": "https://localhost:8080/",
          "height": 51
        },
        "outputId": "fdc6201f-8721-4356-a62c-1000b6958fce"
      },
      "source": [
        "print(df_0.shape)\n",
        "print(df_1.shape)"
      ],
      "execution_count": 70,
      "outputs": [
        {
          "output_type": "stream",
          "text": [
            "(70000, 56)\n",
            "(26250, 56)\n"
          ],
          "name": "stdout"
        }
      ]
    },
    {
      "cell_type": "code",
      "metadata": {
        "id": "Fs7yMJiFsfns",
        "colab_type": "code",
        "colab": {}
      },
      "source": [
        "x_train = x_train_smote\n",
        "y_train = y_train_smote"
      ],
      "execution_count": 71,
      "outputs": []
    },
    {
      "cell_type": "markdown",
      "metadata": {
        "id": "V5uklT3XbrIU",
        "colab_type": "text"
      },
      "source": [
        "# duplicate more 1s"
      ]
    },
    {
      "cell_type": "code",
      "metadata": {
        "id": "6ftrtadjbuLG",
        "colab_type": "code",
        "colab": {}
      },
      "source": [
        "xtra = x_1_train.iloc[:5000,:55]\n",
        "ytra = y_1_train.iloc[:5000,:]"
      ],
      "execution_count": null,
      "outputs": []
    },
    {
      "cell_type": "code",
      "metadata": {
        "id": "x_OSk-wYcKR3",
        "colab_type": "code",
        "colab": {}
      },
      "source": [
        "x_train = x_train.append(xtra)\n",
        "y_train = y_train.append(ytra)"
      ],
      "execution_count": null,
      "outputs": []
    },
    {
      "cell_type": "code",
      "metadata": {
        "id": "1T2ZanakcmoK",
        "colab_type": "code",
        "colab": {
          "base_uri": "https://localhost:8080/"
        },
        "outputId": "8c59ba91-31f6-4dc7-ca5d-3cb8df0f3675"
      },
      "source": [
        "ytra.head()"
      ],
      "execution_count": null,
      "outputs": [
        {
          "output_type": "execute_result",
          "data": {
            "text/html": [
              "<div>\n",
              "<style scoped>\n",
              "    .dataframe tbody tr th:only-of-type {\n",
              "        vertical-align: middle;\n",
              "    }\n",
              "\n",
              "    .dataframe tbody tr th {\n",
              "        vertical-align: top;\n",
              "    }\n",
              "\n",
              "    .dataframe thead th {\n",
              "        text-align: right;\n",
              "    }\n",
              "</style>\n",
              "<table border=\"1\" class=\"dataframe\">\n",
              "  <thead>\n",
              "    <tr style=\"text-align: right;\">\n",
              "      <th></th>\n",
              "      <th>target</th>\n",
              "    </tr>\n",
              "  </thead>\n",
              "  <tbody>\n",
              "    <tr>\n",
              "      <th>311392</th>\n",
              "      <td>1</td>\n",
              "    </tr>\n",
              "    <tr>\n",
              "      <th>298463</th>\n",
              "      <td>1</td>\n",
              "    </tr>\n",
              "    <tr>\n",
              "      <th>422789</th>\n",
              "      <td>1</td>\n",
              "    </tr>\n",
              "    <tr>\n",
              "      <th>65658</th>\n",
              "      <td>1</td>\n",
              "    </tr>\n",
              "    <tr>\n",
              "      <th>8096</th>\n",
              "      <td>1</td>\n",
              "    </tr>\n",
              "  </tbody>\n",
              "</table>\n",
              "</div>"
            ],
            "text/plain": [
              "        target\n",
              "311392       1\n",
              "298463       1\n",
              "422789       1\n",
              "65658        1\n",
              "8096         1"
            ]
          },
          "metadata": {
            "tags": []
          },
          "execution_count": 246
        }
      ]
    },
    {
      "cell_type": "markdown",
      "metadata": {
        "id": "0zOAbFuFpjEa",
        "colab_type": "text"
      },
      "source": [
        "# PCA - x_train, x_test"
      ]
    },
    {
      "cell_type": "code",
      "metadata": {
        "id": "KIJzxHvPru3g",
        "colab_type": "code",
        "colab": {}
      },
      "source": [
        "pca = PCA(n_components = 30)"
      ],
      "execution_count": null,
      "outputs": []
    },
    {
      "cell_type": "code",
      "metadata": {
        "id": "26FJvyTTsFDQ",
        "colab_type": "code",
        "colab": {}
      },
      "source": [
        "x_train = pca.fit_transform(x_train)"
      ],
      "execution_count": null,
      "outputs": []
    },
    {
      "cell_type": "code",
      "metadata": {
        "id": "lR97YGtYsNSy",
        "colab_type": "code",
        "colab": {}
      },
      "source": [
        "x_test = pca.fit_transform(x_test)"
      ],
      "execution_count": null,
      "outputs": []
    },
    {
      "cell_type": "markdown",
      "metadata": {
        "id": "DM8YQQb939M7",
        "colab_type": "text"
      },
      "source": [
        "# Grid Search for multiplr algorithm!"
      ]
    },
    {
      "cell_type": "code",
      "metadata": {
        "id": "TZtdkZ1V4MsQ",
        "colab_type": "code",
        "colab": {}
      },
      "source": [
        "from xgboost.sklearn import XGBClassifier\n",
        "from sklearn.model_selection import GridSearchCV\n"
      ],
      "execution_count": null,
      "outputs": []
    },
    {
      "cell_type": "code",
      "metadata": {
        "id": "7BUXWKDp7kM8",
        "colab_type": "code",
        "colab": {}
      },
      "source": [
        "n_layer_sizes=(100,100,150),activation= 'relu', max_iter=5000, solver='sgd', verbose=True,  random_state=21,tol=0.001, learning_rate_init=0.03"
      ],
      "execution_count": null,
      "outputs": []
    },
    {
      "cell_type": "code",
      "metadata": {
        "id": "3A7RTvXJ4B2q",
        "colab_type": "code",
        "colab": {
          "base_uri": "https://localhost:8080/",
          "height": 394
        },
        "outputId": "29c3537c-ed8f-452e-c97e-788fb564fb08"
      },
      "source": [
        "weights = np.linspace(0.3, 0.8, 5)\n",
        "gsc = GridSearchCV(\n",
        "    estimator=LinearSVC(dual = False),\n",
        "    param_grid={\n",
        "     \n",
        "      'penalty' :['l2'],\n",
        "      'loss': ['squared_hinge'],\n",
        "      'max_iter' :[200,500,1000]\n",
        "\n",
        "    },\n",
        "    scoring='f1',\n",
        "    cv=3\n",
        ")\n",
        "\n",
        "grid_result = gsc.fit(x_train, y_train)\n",
        "print(\"Best parameters : %s\" % grid_result.best_params_)"
      ],
      "execution_count": null,
      "outputs": [
        {
          "output_type": "stream",
          "text": [
            "/usr/local/lib/python3.6/dist-packages/sklearn/utils/validation.py:760: DataConversionWarning: A column-vector y was passed when a 1d array was expected. Please change the shape of y to (n_samples, ), for example using ravel().\n",
            "  y = column_or_1d(y, warn=True)\n",
            "/usr/local/lib/python3.6/dist-packages/sklearn/utils/validation.py:760: DataConversionWarning: A column-vector y was passed when a 1d array was expected. Please change the shape of y to (n_samples, ), for example using ravel().\n",
            "  y = column_or_1d(y, warn=True)\n",
            "/usr/local/lib/python3.6/dist-packages/sklearn/utils/validation.py:760: DataConversionWarning: A column-vector y was passed when a 1d array was expected. Please change the shape of y to (n_samples, ), for example using ravel().\n",
            "  y = column_or_1d(y, warn=True)\n",
            "/usr/local/lib/python3.6/dist-packages/sklearn/utils/validation.py:760: DataConversionWarning: A column-vector y was passed when a 1d array was expected. Please change the shape of y to (n_samples, ), for example using ravel().\n",
            "  y = column_or_1d(y, warn=True)\n",
            "/usr/local/lib/python3.6/dist-packages/sklearn/utils/validation.py:760: DataConversionWarning: A column-vector y was passed when a 1d array was expected. Please change the shape of y to (n_samples, ), for example using ravel().\n",
            "  y = column_or_1d(y, warn=True)\n",
            "/usr/local/lib/python3.6/dist-packages/sklearn/utils/validation.py:760: DataConversionWarning: A column-vector y was passed when a 1d array was expected. Please change the shape of y to (n_samples, ), for example using ravel().\n",
            "  y = column_or_1d(y, warn=True)\n",
            "/usr/local/lib/python3.6/dist-packages/sklearn/utils/validation.py:760: DataConversionWarning: A column-vector y was passed when a 1d array was expected. Please change the shape of y to (n_samples, ), for example using ravel().\n",
            "  y = column_or_1d(y, warn=True)\n",
            "/usr/local/lib/python3.6/dist-packages/sklearn/utils/validation.py:760: DataConversionWarning: A column-vector y was passed when a 1d array was expected. Please change the shape of y to (n_samples, ), for example using ravel().\n",
            "  y = column_or_1d(y, warn=True)\n",
            "/usr/local/lib/python3.6/dist-packages/sklearn/utils/validation.py:760: DataConversionWarning: A column-vector y was passed when a 1d array was expected. Please change the shape of y to (n_samples, ), for example using ravel().\n",
            "  y = column_or_1d(y, warn=True)\n",
            "/usr/local/lib/python3.6/dist-packages/sklearn/utils/validation.py:760: DataConversionWarning: A column-vector y was passed when a 1d array was expected. Please change the shape of y to (n_samples, ), for example using ravel().\n",
            "  y = column_or_1d(y, warn=True)\n"
          ],
          "name": "stderr"
        },
        {
          "output_type": "stream",
          "text": [
            "Best parameters : {'loss': 'squared_hinge', 'max_iter': 200, 'penalty': 'l2'}\n"
          ],
          "name": "stdout"
        }
      ]
    },
    {
      "cell_type": "markdown",
      "metadata": {
        "id": "J_SxQT0qnSuI",
        "colab_type": "text"
      },
      "source": [
        "# Logistics regression"
      ]
    },
    {
      "cell_type": "code",
      "metadata": {
        "id": "NS8FDAj3nYQR",
        "colab_type": "code",
        "colab": {}
      },
      "source": [
        "lr = LogisticRegression() # use class weight after grid search"
      ],
      "execution_count": 38,
      "outputs": []
    },
    {
      "cell_type": "code",
      "metadata": {
        "id": "eLD5Ssx9oaZ-",
        "colab_type": "code",
        "colab": {
          "base_uri": "https://localhost:8080/",
          "height": 207
        },
        "outputId": "429f9f1b-a247-446b-b38f-e1294fbca6e9"
      },
      "source": [
        "parameters = lr.fit(x_train,y_train) "
      ],
      "execution_count": 60,
      "outputs": [
        {
          "output_type": "stream",
          "text": [
            "/usr/local/lib/python3.6/dist-packages/sklearn/utils/validation.py:760: DataConversionWarning: A column-vector y was passed when a 1d array was expected. Please change the shape of y to (n_samples, ), for example using ravel().\n",
            "  y = column_or_1d(y, warn=True)\n",
            "/usr/local/lib/python3.6/dist-packages/sklearn/linear_model/_logistic.py:940: ConvergenceWarning: lbfgs failed to converge (status=1):\n",
            "STOP: TOTAL NO. of ITERATIONS REACHED LIMIT.\n",
            "\n",
            "Increase the number of iterations (max_iter) or scale the data as shown in:\n",
            "    https://scikit-learn.org/stable/modules/preprocessing.html\n",
            "Please also refer to the documentation for alternative solver options:\n",
            "    https://scikit-learn.org/stable/modules/linear_model.html#logistic-regression\n",
            "  extra_warning_msg=_LOGISTIC_SOLVER_CONVERGENCE_MSG)\n"
          ],
          "name": "stderr"
        }
      ]
    },
    {
      "cell_type": "code",
      "metadata": {
        "id": "NVSnEuZ4oqQo",
        "colab_type": "code",
        "colab": {}
      },
      "source": [
        "y_pred_lr = lr.predict(x_test)"
      ],
      "execution_count": 61,
      "outputs": []
    },
    {
      "cell_type": "code",
      "metadata": {
        "id": "c2x9yTYeoyE1",
        "colab_type": "code",
        "colab": {
          "base_uri": "https://localhost:8080/",
          "height": 111
        },
        "outputId": "ac787eb6-5e77-426d-e42e-d0b6db3e37db"
      },
      "source": [
        "con_metric = pd.DataFrame(metrics.confusion_matrix(y_test,y_pred_lr), index = ['acctual 0', 'actual 1'], columns = ['predicted 0', 'predicted 1'])\n",
        "con_metric"
      ],
      "execution_count": 62,
      "outputs": [
        {
          "output_type": "execute_result",
          "data": {
            "text/html": [
              "<div>\n",
              "<style scoped>\n",
              "    .dataframe tbody tr th:only-of-type {\n",
              "        vertical-align: middle;\n",
              "    }\n",
              "\n",
              "    .dataframe tbody tr th {\n",
              "        vertical-align: top;\n",
              "    }\n",
              "\n",
              "    .dataframe thead th {\n",
              "        text-align: right;\n",
              "    }\n",
              "</style>\n",
              "<table border=\"1\" class=\"dataframe\">\n",
              "  <thead>\n",
              "    <tr style=\"text-align: right;\">\n",
              "      <th></th>\n",
              "      <th>predicted 0</th>\n",
              "      <th>predicted 1</th>\n",
              "    </tr>\n",
              "  </thead>\n",
              "  <tbody>\n",
              "    <tr>\n",
              "      <th>acctual 0</th>\n",
              "      <td>46884</td>\n",
              "      <td>520899</td>\n",
              "    </tr>\n",
              "    <tr>\n",
              "      <th>actual 1</th>\n",
              "      <td>375</td>\n",
              "      <td>10472</td>\n",
              "    </tr>\n",
              "  </tbody>\n",
              "</table>\n",
              "</div>"
            ],
            "text/plain": [
              "           predicted 0  predicted 1\n",
              "acctual 0        46884       520899\n",
              "actual 1           375        10472"
            ]
          },
          "metadata": {
            "tags": []
          },
          "execution_count": 62
        }
      ]
    },
    {
      "cell_type": "code",
      "metadata": {
        "id": "Rj-aCUbqo4FC",
        "colab_type": "code",
        "colab": {
          "base_uri": "https://localhost:8080/",
          "height": 170
        },
        "outputId": "10123c4b-1fd0-4ffd-8f5b-3dccc8a22586"
      },
      "source": [
        "print(metrics.classification_report(y_test,y_pred_lr))"
      ],
      "execution_count": 63,
      "outputs": [
        {
          "output_type": "stream",
          "text": [
            "              precision    recall  f1-score   support\n",
            "\n",
            "           0       0.99      0.08      0.15    567783\n",
            "           1       0.02      0.97      0.04     10847\n",
            "\n",
            "    accuracy                           0.10    578630\n",
            "   macro avg       0.51      0.52      0.10    578630\n",
            "weighted avg       0.97      0.10      0.15    578630\n",
            "\n"
          ],
          "name": "stdout"
        }
      ]
    },
    {
      "cell_type": "code",
      "metadata": {
        "id": "6Z--n6J7a8Mv",
        "colab_type": "code",
        "colab": {}
      },
      "source": [
        "x_values = [np.min(X[:, 1] - 5), np.max(X[:, 2] + 5)]\n",
        "y_values = - (parameters[0] + np.dot(parameters[1], x_values)) / parameters[2]\n",
        "\n",
        "plt.plot(x_values, y_values, label='Decision Boundary')\n",
        "plt.xlabel('Marks in 1st Exam')\n",
        "plt.ylabel('Marks in 2nd Exam')\n",
        "plt.legend()\n",
        "plt.show()"
      ],
      "execution_count": null,
      "outputs": []
    },
    {
      "cell_type": "markdown",
      "metadata": {
        "id": "OAZlY3unHRTg",
        "colab_type": "text"
      },
      "source": [
        "# SVM"
      ]
    },
    {
      "cell_type": "code",
      "metadata": {
        "id": "4BxS3AyqKhBr",
        "colab_type": "code",
        "colab": {}
      },
      "source": [
        "from sklearn.svm import LinearSVC"
      ],
      "execution_count": 20,
      "outputs": []
    },
    {
      "cell_type": "code",
      "metadata": {
        "id": "aZcS_bzHHTJw",
        "colab_type": "code",
        "colab": {}
      },
      "source": [
        "svm = LinearSVC(max_iter=200,dual=True,)"
      ],
      "execution_count": 76,
      "outputs": []
    },
    {
      "cell_type": "code",
      "metadata": {
        "id": "JwDaaUSbK0I_",
        "colab_type": "code",
        "colab": {
          "base_uri": "https://localhost:8080/",
          "height": 173
        },
        "outputId": "3dc50ea8-e28c-4c49-c931-e60449f5da86"
      },
      "source": [
        "svm.fit(x_train,y_train)"
      ],
      "execution_count": 77,
      "outputs": [
        {
          "output_type": "stream",
          "text": [
            "/usr/local/lib/python3.6/dist-packages/sklearn/utils/validation.py:760: DataConversionWarning: A column-vector y was passed when a 1d array was expected. Please change the shape of y to (n_samples, ), for example using ravel().\n",
            "  y = column_or_1d(y, warn=True)\n",
            "/usr/local/lib/python3.6/dist-packages/sklearn/svm/_base.py:947: ConvergenceWarning: Liblinear failed to converge, increase the number of iterations.\n",
            "  \"the number of iterations.\", ConvergenceWarning)\n"
          ],
          "name": "stderr"
        },
        {
          "output_type": "execute_result",
          "data": {
            "text/plain": [
              "LinearSVC(C=1.0, class_weight=None, dual=True, fit_intercept=True,\n",
              "          intercept_scaling=1, loss='squared_hinge', max_iter=200,\n",
              "          multi_class='ovr', penalty='l2', random_state=None, tol=0.0001,\n",
              "          verbose=0)"
            ]
          },
          "metadata": {
            "tags": []
          },
          "execution_count": 77
        }
      ]
    },
    {
      "cell_type": "code",
      "metadata": {
        "id": "lUWQuWkpLENb",
        "colab_type": "code",
        "colab": {}
      },
      "source": [
        "y_pred_svm = svm.predict(x_test)"
      ],
      "execution_count": 78,
      "outputs": []
    },
    {
      "cell_type": "code",
      "metadata": {
        "colab_type": "code",
        "id": "5_HB6gLJLiYQ",
        "colab": {
          "base_uri": "https://localhost:8080/",
          "height": 170
        },
        "outputId": "76e7b4bb-d362-4f47-c75a-fc7617a0518d"
      },
      "source": [
        "print(metrics.classification_report(y_test,y_pred_svm))"
      ],
      "execution_count": 79,
      "outputs": [
        {
          "output_type": "stream",
          "text": [
            "              precision    recall  f1-score   support\n",
            "\n",
            "           0       0.98      0.97      0.98    503518\n",
            "           1       0.04      0.06      0.05     10847\n",
            "\n",
            "    accuracy                           0.95    514365\n",
            "   macro avg       0.51      0.52      0.51    514365\n",
            "weighted avg       0.96      0.95      0.96    514365\n",
            "\n"
          ],
          "name": "stdout"
        }
      ]
    },
    {
      "cell_type": "code",
      "metadata": {
        "colab_type": "code",
        "id": "5AqdxiqRLiYV",
        "colab": {
          "base_uri": "https://localhost:8080/",
          "height": 111
        },
        "outputId": "d9db0cf6-2a9a-42f1-c182-c2a469fe545e"
      },
      "source": [
        "con_metric = pd.DataFrame(metrics.confusion_matrix(y_test,y_pred_svm), index = ['acctual 0', 'actual 1'], columns = ['predicted 0', 'predicted 1'])\n",
        "con_metric"
      ],
      "execution_count": 80,
      "outputs": [
        {
          "output_type": "execute_result",
          "data": {
            "text/html": [
              "<div>\n",
              "<style scoped>\n",
              "    .dataframe tbody tr th:only-of-type {\n",
              "        vertical-align: middle;\n",
              "    }\n",
              "\n",
              "    .dataframe tbody tr th {\n",
              "        vertical-align: top;\n",
              "    }\n",
              "\n",
              "    .dataframe thead th {\n",
              "        text-align: right;\n",
              "    }\n",
              "</style>\n",
              "<table border=\"1\" class=\"dataframe\">\n",
              "  <thead>\n",
              "    <tr style=\"text-align: right;\">\n",
              "      <th></th>\n",
              "      <th>predicted 0</th>\n",
              "      <th>predicted 1</th>\n",
              "    </tr>\n",
              "  </thead>\n",
              "  <tbody>\n",
              "    <tr>\n",
              "      <th>acctual 0</th>\n",
              "      <td>489646</td>\n",
              "      <td>13872</td>\n",
              "    </tr>\n",
              "    <tr>\n",
              "      <th>actual 1</th>\n",
              "      <td>10210</td>\n",
              "      <td>637</td>\n",
              "    </tr>\n",
              "  </tbody>\n",
              "</table>\n",
              "</div>"
            ],
            "text/plain": [
              "           predicted 0  predicted 1\n",
              "acctual 0       489646        13872\n",
              "actual 1         10210          637"
            ]
          },
          "metadata": {
            "tags": []
          },
          "execution_count": 80
        }
      ]
    },
    {
      "cell_type": "markdown",
      "metadata": {
        "id": "WDzPHAL8mQBW",
        "colab_type": "text"
      },
      "source": [
        "# **XG Boost**\n"
      ]
    },
    {
      "cell_type": "code",
      "metadata": {
        "id": "ACoAak_WewNT",
        "colab_type": "code",
        "colab": {}
      },
      "source": [
        "from xgboost.sklearn import XGBClassifier #class_weight= {0: 0.3, 1: 0.7},"
      ],
      "execution_count": 64,
      "outputs": []
    },
    {
      "cell_type": "code",
      "metadata": {
        "id": "DgolhdiKgJ0d",
        "colab_type": "code",
        "colab": {
          "base_uri": "https://localhost:8080/",
          "height": 224
        },
        "outputId": "6b5f3bef-1042-458a-c922-c01d7fe120f4"
      },
      "source": [
        "XG  = XGBClassifier( n_estimators = 100, scale_pos_weight= 1,class_weight= {0: 0.3, 1: 0.7})\n",
        "XG.fit(x_train, y_train)"
      ],
      "execution_count": 91,
      "outputs": [
        {
          "output_type": "stream",
          "text": [
            "/usr/local/lib/python3.6/dist-packages/sklearn/preprocessing/_label.py:235: DataConversionWarning: A column-vector y was passed when a 1d array was expected. Please change the shape of y to (n_samples, ), for example using ravel().\n",
            "  y = column_or_1d(y, warn=True)\n",
            "/usr/local/lib/python3.6/dist-packages/sklearn/preprocessing/_label.py:268: DataConversionWarning: A column-vector y was passed when a 1d array was expected. Please change the shape of y to (n_samples, ), for example using ravel().\n",
            "  y = column_or_1d(y, warn=True)\n"
          ],
          "name": "stderr"
        },
        {
          "output_type": "execute_result",
          "data": {
            "text/plain": [
              "XGBClassifier(base_score=0.5, booster='gbtree', class_weight={0: 0.3, 1: 0.7},\n",
              "              colsample_bylevel=1, colsample_bynode=1, colsample_bytree=1,\n",
              "              gamma=0, learning_rate=0.1, max_delta_step=0, max_depth=3,\n",
              "              min_child_weight=1, missing=None, n_estimators=100, n_jobs=1,\n",
              "              nthread=None, objective='binary:logistic', random_state=0,\n",
              "              reg_alpha=0, reg_lambda=1, scale_pos_weight=1, seed=None,\n",
              "              silent=None, subsample=1, verbosity=1)"
            ]
          },
          "metadata": {
            "tags": []
          },
          "execution_count": 91
        }
      ]
    },
    {
      "cell_type": "code",
      "metadata": {
        "id": "cXHfSAwhglrm",
        "colab_type": "code",
        "colab": {}
      },
      "source": [
        "y_pred_XG =XG.predict(x_test)"
      ],
      "execution_count": 92,
      "outputs": []
    },
    {
      "cell_type": "code",
      "metadata": {
        "id": "Jie9GL-7gwHc",
        "colab_type": "code",
        "colab": {
          "base_uri": "https://localhost:8080/",
          "height": 0
        },
        "outputId": "bbdf0e2a-c2b6-4a91-81b1-4596119dfcbe"
      },
      "source": [
        "print(metrics.classification_report(y_test,y_pred_XG))"
      ],
      "execution_count": 94,
      "outputs": [
        {
          "output_type": "stream",
          "text": [
            "              precision    recall  f1-score   support\n",
            "\n",
            "           0       0.99      0.10      0.18    568018\n",
            "           1       0.02      0.96      0.04     10847\n",
            "\n",
            "    accuracy                           0.11    578865\n",
            "   macro avg       0.51      0.53      0.11    578865\n",
            "weighted avg       0.97      0.11      0.18    578865\n",
            "\n"
          ],
          "name": "stdout"
        }
      ]
    },
    {
      "cell_type": "code",
      "metadata": {
        "id": "TZqdK2a61jro",
        "colab_type": "code",
        "colab": {
          "base_uri": "https://localhost:8080/",
          "height": 0
        },
        "outputId": "bca5a470-dd11-4aa4-f8c7-31640b93a51a"
      },
      "source": [
        "con_metric = pd.DataFrame(metrics.confusion_matrix(y_test,y_pred_XG), index = ['acctual 0', 'actual 1'], columns = ['predicted 0', 'predicted 1'])\n",
        "con_metric"
      ],
      "execution_count": 69,
      "outputs": [
        {
          "output_type": "execute_result",
          "data": {
            "text/html": [
              "<div>\n",
              "<style scoped>\n",
              "    .dataframe tbody tr th:only-of-type {\n",
              "        vertical-align: middle;\n",
              "    }\n",
              "\n",
              "    .dataframe tbody tr th {\n",
              "        vertical-align: top;\n",
              "    }\n",
              "\n",
              "    .dataframe thead th {\n",
              "        text-align: right;\n",
              "    }\n",
              "</style>\n",
              "<table border=\"1\" class=\"dataframe\">\n",
              "  <thead>\n",
              "    <tr style=\"text-align: right;\">\n",
              "      <th></th>\n",
              "      <th>predicted 0</th>\n",
              "      <th>predicted 1</th>\n",
              "    </tr>\n",
              "  </thead>\n",
              "  <tbody>\n",
              "    <tr>\n",
              "      <th>acctual 0</th>\n",
              "      <td>67328</td>\n",
              "      <td>500455</td>\n",
              "    </tr>\n",
              "    <tr>\n",
              "      <th>actual 1</th>\n",
              "      <td>583</td>\n",
              "      <td>10264</td>\n",
              "    </tr>\n",
              "  </tbody>\n",
              "</table>\n",
              "</div>"
            ],
            "text/plain": [
              "           predicted 0  predicted 1\n",
              "acctual 0        67328       500455\n",
              "actual 1           583        10264"
            ]
          },
          "metadata": {
            "tags": []
          },
          "execution_count": 69
        }
      ]
    },
    {
      "cell_type": "code",
      "metadata": {
        "id": "TY2sz8mu-slx",
        "colab_type": "code",
        "colab": {}
      },
      "source": [
        "proba = XG.predict_proba(x_test)\n",
        "proba = proba[:,0]"
      ],
      "execution_count": 128,
      "outputs": []
    },
    {
      "cell_type": "code",
      "metadata": {
        "id": "Y9CfuYXB-zWH",
        "colab_type": "code",
        "colab": {}
      },
      "source": [
        "y_proba = np.where((proba <= 0.50),1,0)"
      ],
      "execution_count": 135,
      "outputs": []
    },
    {
      "cell_type": "code",
      "metadata": {
        "id": "J7NCdH7T--pN",
        "colab_type": "code",
        "colab": {
          "base_uri": "https://localhost:8080/",
          "height": 0
        },
        "outputId": "75ee99aa-bcc2-4e78-960b-87314ce150f5"
      },
      "source": [
        "con_metric = pd.DataFrame(metrics.confusion_matrix(y_test,y_proba), index = ['acctual 0', 'actual 1'], columns = ['predicted 0', 'predicted 1'])\n",
        "con_metric"
      ],
      "execution_count": 136,
      "outputs": [
        {
          "output_type": "execute_result",
          "data": {
            "text/html": [
              "<div>\n",
              "<style scoped>\n",
              "    .dataframe tbody tr th:only-of-type {\n",
              "        vertical-align: middle;\n",
              "    }\n",
              "\n",
              "    .dataframe tbody tr th {\n",
              "        vertical-align: top;\n",
              "    }\n",
              "\n",
              "    .dataframe thead th {\n",
              "        text-align: right;\n",
              "    }\n",
              "</style>\n",
              "<table border=\"1\" class=\"dataframe\">\n",
              "  <thead>\n",
              "    <tr style=\"text-align: right;\">\n",
              "      <th></th>\n",
              "      <th>predicted 0</th>\n",
              "      <th>predicted 1</th>\n",
              "    </tr>\n",
              "  </thead>\n",
              "  <tbody>\n",
              "    <tr>\n",
              "      <th>acctual 0</th>\n",
              "      <td>371654</td>\n",
              "      <td>190394</td>\n",
              "    </tr>\n",
              "    <tr>\n",
              "      <th>actual 1</th>\n",
              "      <td>5281</td>\n",
              "      <td>5566</td>\n",
              "    </tr>\n",
              "  </tbody>\n",
              "</table>\n",
              "</div>"
            ],
            "text/plain": [
              "           predicted 0  predicted 1\n",
              "acctual 0       371654       190394\n",
              "actual 1          5281         5566"
            ]
          },
          "metadata": {
            "tags": []
          },
          "execution_count": 136
        }
      ]
    },
    {
      "cell_type": "markdown",
      "metadata": {
        "id": "2UCyt1VGz_lY",
        "colab_type": "text"
      },
      "source": [
        "# **Ada boost**"
      ]
    },
    {
      "cell_type": "code",
      "metadata": {
        "id": "GCB91VvG1OFm",
        "colab_type": "code",
        "colab": {}
      },
      "source": [
        "from sklearn.ensemble import AdaBoostClassifier"
      ],
      "execution_count": 70,
      "outputs": []
    },
    {
      "cell_type": "code",
      "metadata": {
        "id": "zKhl3ojQ1bPc",
        "colab_type": "code",
        "colab": {}
      },
      "source": [
        "clf = AdaBoostClassifier(n_estimators=300, random_state=42)"
      ],
      "execution_count": 71,
      "outputs": []
    },
    {
      "cell_type": "code",
      "metadata": {
        "id": "frwu6ugi1mTS",
        "colab_type": "code",
        "colab": {
          "base_uri": "https://localhost:8080/",
          "height": 105
        },
        "outputId": "dc2e208c-5a6e-4a74-bcd5-6fafa32c561a"
      },
      "source": [
        "clf.fit(x_train, y_train)"
      ],
      "execution_count": 72,
      "outputs": [
        {
          "output_type": "stream",
          "text": [
            "/usr/local/lib/python3.6/dist-packages/sklearn/utils/validation.py:760: DataConversionWarning: A column-vector y was passed when a 1d array was expected. Please change the shape of y to (n_samples, ), for example using ravel().\n",
            "  y = column_or_1d(y, warn=True)\n"
          ],
          "name": "stderr"
        },
        {
          "output_type": "execute_result",
          "data": {
            "text/plain": [
              "AdaBoostClassifier(algorithm='SAMME.R', base_estimator=None, learning_rate=1.0,\n",
              "                   n_estimators=300, random_state=42)"
            ]
          },
          "metadata": {
            "tags": []
          },
          "execution_count": 72
        }
      ]
    },
    {
      "cell_type": "code",
      "metadata": {
        "id": "q8WmpRdd44JM",
        "colab_type": "code",
        "colab": {}
      },
      "source": [
        "y_pred = clf.predict(x_test)"
      ],
      "execution_count": 73,
      "outputs": []
    },
    {
      "cell_type": "code",
      "metadata": {
        "id": "8F2DAKlKR3Ox",
        "colab_type": "code",
        "colab": {
          "base_uri": "https://localhost:8080/",
          "height": 111
        },
        "outputId": "fbf689c8-ee9d-4738-abcb-2d539ee22c4a"
      },
      "source": [
        "con_metric = pd.DataFrame(metrics.confusion_matrix(y_test,y_pred), index = ['acctual 0', 'actual 1'], columns = ['predicted 0', 'predicted 1'])\n",
        "con_metric"
      ],
      "execution_count": 74,
      "outputs": [
        {
          "output_type": "execute_result",
          "data": {
            "text/html": [
              "<div>\n",
              "<style scoped>\n",
              "    .dataframe tbody tr th:only-of-type {\n",
              "        vertical-align: middle;\n",
              "    }\n",
              "\n",
              "    .dataframe tbody tr th {\n",
              "        vertical-align: top;\n",
              "    }\n",
              "\n",
              "    .dataframe thead th {\n",
              "        text-align: right;\n",
              "    }\n",
              "</style>\n",
              "<table border=\"1\" class=\"dataframe\">\n",
              "  <thead>\n",
              "    <tr style=\"text-align: right;\">\n",
              "      <th></th>\n",
              "      <th>predicted 0</th>\n",
              "      <th>predicted 1</th>\n",
              "    </tr>\n",
              "  </thead>\n",
              "  <tbody>\n",
              "    <tr>\n",
              "      <th>acctual 0</th>\n",
              "      <td>97194</td>\n",
              "      <td>470589</td>\n",
              "    </tr>\n",
              "    <tr>\n",
              "      <th>actual 1</th>\n",
              "      <td>931</td>\n",
              "      <td>9916</td>\n",
              "    </tr>\n",
              "  </tbody>\n",
              "</table>\n",
              "</div>"
            ],
            "text/plain": [
              "           predicted 0  predicted 1\n",
              "acctual 0        97194       470589\n",
              "actual 1           931         9916"
            ]
          },
          "metadata": {
            "tags": []
          },
          "execution_count": 74
        }
      ]
    },
    {
      "cell_type": "code",
      "metadata": {
        "id": "D-0fuwXh6FSd",
        "colab_type": "code",
        "colab": {
          "base_uri": "https://localhost:8080/",
          "height": 0
        },
        "outputId": "51cc48fe-997f-4765-d0a8-85ee80012ee3"
      },
      "source": [
        "print(metrics.classification_report(y_test,y_pred.round()))"
      ],
      "execution_count": 75,
      "outputs": [
        {
          "output_type": "stream",
          "text": [
            "              precision    recall  f1-score   support\n",
            "\n",
            "           0       0.99      0.17      0.29    567783\n",
            "           1       0.02      0.91      0.04     10847\n",
            "\n",
            "    accuracy                           0.19    578630\n",
            "   macro avg       0.51      0.54      0.17    578630\n",
            "weighted avg       0.97      0.19      0.29    578630\n",
            "\n"
          ],
          "name": "stdout"
        }
      ]
    },
    {
      "cell_type": "code",
      "metadata": {
        "id": "Aty_Vp3A9MnW",
        "colab_type": "code",
        "colab": {}
      },
      "source": [
        "prob = clf.predict_proba(x_test)\n",
        "y_prob = prob[:,1]"
      ],
      "execution_count": null,
      "outputs": []
    },
    {
      "cell_type": "code",
      "metadata": {
        "id": "TPM3W9ru9Xkp",
        "colab_type": "code",
        "colab": {}
      },
      "source": [
        "y_prob = np.where((y_prob <= 0.5),1,0)"
      ],
      "execution_count": null,
      "outputs": []
    },
    {
      "cell_type": "code",
      "metadata": {
        "id": "vW_idshN-gn1",
        "colab_type": "code",
        "colab": {
          "base_uri": "https://localhost:8080/",
          "height": 107
        },
        "outputId": "d72e1aba-421c-4625-a770-9682545747c7"
      },
      "source": [
        "con_metric = pd.DataFrame(metrics.confusion_matrix(y_test,y_proba), index = ['acctual 0', 'actual 1'], columns = ['predicted 0', 'predicted 1'])\n",
        "con_metric"
      ],
      "execution_count": null,
      "outputs": [
        {
          "output_type": "execute_result",
          "data": {
            "text/html": [
              "<div>\n",
              "<style scoped>\n",
              "    .dataframe tbody tr th:only-of-type {\n",
              "        vertical-align: middle;\n",
              "    }\n",
              "\n",
              "    .dataframe tbody tr th {\n",
              "        vertical-align: top;\n",
              "    }\n",
              "\n",
              "    .dataframe thead th {\n",
              "        text-align: right;\n",
              "    }\n",
              "</style>\n",
              "<table border=\"1\" class=\"dataframe\">\n",
              "  <thead>\n",
              "    <tr style=\"text-align: right;\">\n",
              "      <th></th>\n",
              "      <th>predicted 0</th>\n",
              "      <th>predicted 1</th>\n",
              "    </tr>\n",
              "  </thead>\n",
              "  <tbody>\n",
              "    <tr>\n",
              "      <th>acctual 0</th>\n",
              "      <td>284502</td>\n",
              "      <td>2257</td>\n",
              "    </tr>\n",
              "    <tr>\n",
              "      <th>actual 1</th>\n",
              "      <td>10632</td>\n",
              "      <td>215</td>\n",
              "    </tr>\n",
              "  </tbody>\n",
              "</table>\n",
              "</div>"
            ],
            "text/plain": [
              "           predicted 0  predicted 1\n",
              "acctual 0       284502         2257\n",
              "actual 1         10632          215"
            ]
          },
          "metadata": {
            "tags": []
          },
          "execution_count": 195
        }
      ]
    },
    {
      "cell_type": "markdown",
      "metadata": {
        "id": "zaFJb30j0E83",
        "colab_type": "text"
      },
      "source": [
        "# **Random Forest**"
      ]
    },
    {
      "cell_type": "code",
      "metadata": {
        "id": "sI-04_126ao7",
        "colab_type": "code",
        "colab": {}
      },
      "source": [
        "from sklearn.ensemble import RandomForestClassifier\n",
        "\n",
        "#Create a Gaussian Classifier\n",
        "clfRF=RandomForestClassifier(n_estimators=100,  )#class_weight= {0: 0.3, 1: 0.7}"
      ],
      "execution_count": 146,
      "outputs": []
    },
    {
      "cell_type": "code",
      "metadata": {
        "id": "Waii5gb9y9tV",
        "colab_type": "code",
        "colab": {}
      },
      "source": [
        "#con_metric = pd.DataFrame(metrics.confusion_matrix(y_test_m,y_pred_RF), index = ['acctual 0', 'actual 1'], columns = ['predicted 0', 'predicted 1'])"
      ],
      "execution_count": null,
      "outputs": []
    },
    {
      "cell_type": "code",
      "metadata": {
        "id": "mifdIuxwv5qm",
        "colab_type": "code",
        "colab": {
          "base_uri": "https://localhost:8080/",
          "height": 207
        },
        "outputId": "86abd82d-5d2e-4e70-cc3a-46b32f6cd38c"
      },
      "source": [
        "clfRF.fit(x_train,y_train)"
      ],
      "execution_count": 147,
      "outputs": [
        {
          "output_type": "stream",
          "text": [
            "/usr/local/lib/python3.6/dist-packages/ipykernel_launcher.py:1: DataConversionWarning: A column-vector y was passed when a 1d array was expected. Please change the shape of y to (n_samples,), for example using ravel().\n",
            "  \"\"\"Entry point for launching an IPython kernel.\n"
          ],
          "name": "stderr"
        },
        {
          "output_type": "execute_result",
          "data": {
            "text/plain": [
              "RandomForestClassifier(bootstrap=True, ccp_alpha=0.0, class_weight=None,\n",
              "                       criterion='gini', max_depth=None, max_features='auto',\n",
              "                       max_leaf_nodes=None, max_samples=None,\n",
              "                       min_impurity_decrease=0.0, min_impurity_split=None,\n",
              "                       min_samples_leaf=1, min_samples_split=2,\n",
              "                       min_weight_fraction_leaf=0.0, n_estimators=100,\n",
              "                       n_jobs=None, oob_score=False, random_state=None,\n",
              "                       verbose=0, warm_start=False)"
            ]
          },
          "metadata": {
            "tags": []
          },
          "execution_count": 147
        }
      ]
    },
    {
      "cell_type": "code",
      "metadata": {
        "id": "OdyKYQm16o3q",
        "colab_type": "code",
        "colab": {}
      },
      "source": [
        "y_pred_RF=clfRF.predict(x_test) # zFP- ac= 1 pred- 0"
      ],
      "execution_count": 148,
      "outputs": []
    },
    {
      "cell_type": "code",
      "metadata": {
        "id": "vp2O085w2WMi",
        "colab_type": "code",
        "colab": {
          "base_uri": "https://localhost:8080/",
          "height": 0
        },
        "outputId": "ab397321-d802-487b-a2e2-4133c79502f7"
      },
      "source": [
        "con_metric = pd.DataFrame(metrics.confusion_matrix(y_test,y_pred_RF), index = ['acctual 0', 'actual 1'], columns = ['predicted 0', 'predicted 1'])\n",
        "con_metric"
      ],
      "execution_count": 149,
      "outputs": [
        {
          "output_type": "execute_result",
          "data": {
            "text/html": [
              "<div>\n",
              "<style scoped>\n",
              "    .dataframe tbody tr th:only-of-type {\n",
              "        vertical-align: middle;\n",
              "    }\n",
              "\n",
              "    .dataframe tbody tr th {\n",
              "        vertical-align: top;\n",
              "    }\n",
              "\n",
              "    .dataframe thead th {\n",
              "        text-align: right;\n",
              "    }\n",
              "</style>\n",
              "<table border=\"1\" class=\"dataframe\">\n",
              "  <thead>\n",
              "    <tr style=\"text-align: right;\">\n",
              "      <th></th>\n",
              "      <th>predicted 0</th>\n",
              "      <th>predicted 1</th>\n",
              "    </tr>\n",
              "  </thead>\n",
              "  <tbody>\n",
              "    <tr>\n",
              "      <th>acctual 0</th>\n",
              "      <td>362604</td>\n",
              "      <td>199444</td>\n",
              "    </tr>\n",
              "    <tr>\n",
              "      <th>actual 1</th>\n",
              "      <td>5310</td>\n",
              "      <td>5537</td>\n",
              "    </tr>\n",
              "  </tbody>\n",
              "</table>\n",
              "</div>"
            ],
            "text/plain": [
              "           predicted 0  predicted 1\n",
              "acctual 0       362604       199444\n",
              "actual 1          5310         5537"
            ]
          },
          "metadata": {
            "tags": []
          },
          "execution_count": 149
        }
      ]
    },
    {
      "cell_type": "code",
      "metadata": {
        "id": "WMjbocnn6xBe",
        "colab_type": "code",
        "colab": {
          "base_uri": "https://localhost:8080/",
          "height": 170
        },
        "outputId": "eae193b6-06d0-478a-cbf5-32afa0a0101e"
      },
      "source": [
        "print(metrics.classification_report(y_test,y_pred_RF.round()))"
      ],
      "execution_count": 150,
      "outputs": [
        {
          "output_type": "stream",
          "text": [
            "              precision    recall  f1-score   support\n",
            "\n",
            "           0       0.99      0.65      0.78    562048\n",
            "           1       0.03      0.51      0.05     10847\n",
            "\n",
            "    accuracy                           0.64    572895\n",
            "   macro avg       0.51      0.58      0.42    572895\n",
            "weighted avg       0.97      0.64      0.77    572895\n",
            "\n"
          ],
          "name": "stdout"
        }
      ]
    },
    {
      "cell_type": "markdown",
      "metadata": {
        "id": "hlf2dIfFroj7",
        "colab_type": "text"
      },
      "source": [
        "# Keras"
      ]
    },
    {
      "cell_type": "code",
      "metadata": {
        "id": "-YcWVyRvKkIr",
        "colab_type": "code",
        "colab": {
          "base_uri": "https://localhost:8080/",
          "height": 34
        },
        "outputId": "bf7aef87-4672-4fca-8dce-02367f593865"
      },
      "source": [
        "import keras"
      ],
      "execution_count": 151,
      "outputs": [
        {
          "output_type": "stream",
          "text": [
            "Using TensorFlow backend.\n"
          ],
          "name": "stderr"
        }
      ]
    },
    {
      "cell_type": "code",
      "metadata": {
        "id": "-XgCijrDDzF9",
        "colab_type": "code",
        "colab": {
          "base_uri": "https://localhost:8080/",
          "height": 34
        },
        "outputId": "d76a5f50-3676-4070-ecaa-f9206bbf124d"
      },
      "source": [
        "# find input dimentions - number of features in x\n",
        "\n",
        "x_train_smote.shape[1]"
      ],
      "execution_count": 30,
      "outputs": [
        {
          "output_type": "execute_result",
          "data": {
            "text/plain": [
              "55"
            ]
          },
          "metadata": {
            "tags": []
          },
          "execution_count": 30
        }
      ]
    },
    {
      "cell_type": "code",
      "metadata": {
        "id": "35KIpgwt_jQu",
        "colab_type": "code",
        "colab": {}
      },
      "source": [
        "from keras.models import Sequential\n",
        "from keras.layers import Dense, Dropout, Activation, Flatten"
      ],
      "execution_count": 152,
      "outputs": []
    },
    {
      "cell_type": "code",
      "metadata": {
        "id": "HJBUiisiA9CS",
        "colab_type": "code",
        "colab": {}
      },
      "source": [
        "import tensorflow as tf\n",
        "from tensorflow import keras\n",
        "from tensorflow.keras import layers"
      ],
      "execution_count": 153,
      "outputs": []
    },
    {
      "cell_type": "code",
      "metadata": {
        "id": "ARywu2p0BGJf",
        "colab_type": "code",
        "colab": {}
      },
      "source": [
        "# define the keras model\n",
        "model = Sequential()\n",
        "model.add(Dense(224, input_dim=x_train.shape[1], activation='relu'))\n",
        "model.add(Dense(448, activation='relu'))\n",
        "#model.add(Dropout(0.3))\n",
        "model.add(Dense(800, activation='relu'))\n",
        "model.add(Dropout(0.2))\n",
        "model.add(Dense(1, activation='sigmoid'))\n"
      ],
      "execution_count": 154,
      "outputs": []
    },
    {
      "cell_type": "code",
      "metadata": {
        "id": "tFnqbQ_XCIZ3",
        "colab_type": "code",
        "colab": {}
      },
      "source": [
        "model.compile(loss='binary_crossentropy', optimizer='adam', metrics=['accuracy'])"
      ],
      "execution_count": 155,
      "outputs": []
    },
    {
      "cell_type": "code",
      "metadata": {
        "id": "B8h4Vb0qANp8",
        "colab_type": "code",
        "colab": {
          "base_uri": "https://localhost:8080/",
          "height": 0
        },
        "outputId": "7e1aab13-6ad3-4834-a689-4c2d1fa45fdc"
      },
      "source": [
        "model.fit(x_train,y_train, epochs=50, batch_size=500)"
      ],
      "execution_count": 156,
      "outputs": [
        {
          "output_type": "stream",
          "text": [
            "Epoch 1/50\n",
            "22317/22317 [==============================] - 2s 97us/step - loss: 0.9427 - accuracy: 0.5115\n",
            "Epoch 2/50\n",
            "22317/22317 [==============================] - 2s 77us/step - loss: 0.6858 - accuracy: 0.5584\n",
            "Epoch 3/50\n",
            "22317/22317 [==============================] - 2s 77us/step - loss: 0.6785 - accuracy: 0.5738\n",
            "Epoch 4/50\n",
            "22317/22317 [==============================] - 2s 77us/step - loss: 0.6733 - accuracy: 0.5847\n",
            "Epoch 5/50\n",
            "22317/22317 [==============================] - 2s 77us/step - loss: 0.6710 - accuracy: 0.5860\n",
            "Epoch 6/50\n",
            "22317/22317 [==============================] - 2s 80us/step - loss: 0.6705 - accuracy: 0.5885\n",
            "Epoch 7/50\n",
            "22317/22317 [==============================] - 2s 80us/step - loss: 0.6671 - accuracy: 0.5895\n",
            "Epoch 8/50\n",
            "22317/22317 [==============================] - 2s 81us/step - loss: 0.6651 - accuracy: 0.5959\n",
            "Epoch 9/50\n",
            "22317/22317 [==============================] - 2s 81us/step - loss: 0.6646 - accuracy: 0.5945\n",
            "Epoch 10/50\n",
            "22317/22317 [==============================] - 2s 81us/step - loss: 0.6611 - accuracy: 0.6027\n",
            "Epoch 11/50\n",
            "22317/22317 [==============================] - 2s 81us/step - loss: 0.6585 - accuracy: 0.6022\n",
            "Epoch 12/50\n",
            "22317/22317 [==============================] - 2s 79us/step - loss: 0.6565 - accuracy: 0.6038\n",
            "Epoch 13/50\n",
            "22317/22317 [==============================] - 2s 80us/step - loss: 0.6547 - accuracy: 0.6038\n",
            "Epoch 14/50\n",
            "22317/22317 [==============================] - 2s 79us/step - loss: 0.6498 - accuracy: 0.6102\n",
            "Epoch 15/50\n",
            "22317/22317 [==============================] - 2s 80us/step - loss: 0.6463 - accuracy: 0.6133\n",
            "Epoch 16/50\n",
            "22317/22317 [==============================] - 2s 79us/step - loss: 0.6439 - accuracy: 0.6174\n",
            "Epoch 17/50\n",
            "22317/22317 [==============================] - 2s 79us/step - loss: 0.6422 - accuracy: 0.6191\n",
            "Epoch 18/50\n",
            "22317/22317 [==============================] - 2s 80us/step - loss: 0.6370 - accuracy: 0.6220\n",
            "Epoch 19/50\n",
            "22317/22317 [==============================] - 2s 77us/step - loss: 0.6341 - accuracy: 0.6254\n",
            "Epoch 20/50\n",
            "22317/22317 [==============================] - 2s 77us/step - loss: 0.6285 - accuracy: 0.6291\n",
            "Epoch 21/50\n",
            "22317/22317 [==============================] - 2s 79us/step - loss: 0.6286 - accuracy: 0.6295\n",
            "Epoch 22/50\n",
            "22317/22317 [==============================] - 2s 78us/step - loss: 0.6216 - accuracy: 0.6335\n",
            "Epoch 23/50\n",
            "22317/22317 [==============================] - 2s 77us/step - loss: 0.6172 - accuracy: 0.6362\n",
            "Epoch 24/50\n",
            "22317/22317 [==============================] - 2s 78us/step - loss: 0.6123 - accuracy: 0.6381\n",
            "Epoch 25/50\n",
            "22317/22317 [==============================] - 2s 79us/step - loss: 0.6065 - accuracy: 0.6428\n",
            "Epoch 26/50\n",
            "22317/22317 [==============================] - 2s 78us/step - loss: 0.6037 - accuracy: 0.6457\n",
            "Epoch 27/50\n",
            "22317/22317 [==============================] - 2s 79us/step - loss: 0.5988 - accuracy: 0.6477\n",
            "Epoch 28/50\n",
            "22317/22317 [==============================] - 2s 77us/step - loss: 0.5949 - accuracy: 0.6500\n",
            "Epoch 29/50\n",
            "22317/22317 [==============================] - 2s 78us/step - loss: 0.5882 - accuracy: 0.6564\n",
            "Epoch 30/50\n",
            "22317/22317 [==============================] - 2s 78us/step - loss: 0.5855 - accuracy: 0.6563\n",
            "Epoch 31/50\n",
            "22317/22317 [==============================] - 2s 78us/step - loss: 0.5788 - accuracy: 0.6594\n",
            "Epoch 32/50\n",
            "22317/22317 [==============================] - 2s 77us/step - loss: 0.5755 - accuracy: 0.6636\n",
            "Epoch 33/50\n",
            "22317/22317 [==============================] - 2s 78us/step - loss: 0.5719 - accuracy: 0.6641\n",
            "Epoch 34/50\n",
            "22317/22317 [==============================] - 2s 79us/step - loss: 0.5656 - accuracy: 0.6661\n",
            "Epoch 35/50\n",
            "22317/22317 [==============================] - 2s 79us/step - loss: 0.5614 - accuracy: 0.6719\n",
            "Epoch 36/50\n",
            "22317/22317 [==============================] - 2s 80us/step - loss: 0.5629 - accuracy: 0.6709\n",
            "Epoch 37/50\n",
            "22317/22317 [==============================] - 2s 79us/step - loss: 0.5552 - accuracy: 0.6748\n",
            "Epoch 38/50\n",
            "22317/22317 [==============================] - 2s 79us/step - loss: 0.5519 - accuracy: 0.6759\n",
            "Epoch 39/50\n",
            "22317/22317 [==============================] - 2s 78us/step - loss: 0.5487 - accuracy: 0.6802\n",
            "Epoch 40/50\n",
            "22317/22317 [==============================] - 2s 78us/step - loss: 0.5444 - accuracy: 0.6803\n",
            "Epoch 41/50\n",
            "22317/22317 [==============================] - 2s 78us/step - loss: 0.5421 - accuracy: 0.6819\n",
            "Epoch 42/50\n",
            "22317/22317 [==============================] - 2s 80us/step - loss: 0.5418 - accuracy: 0.6815\n",
            "Epoch 43/50\n",
            "22317/22317 [==============================] - 2s 78us/step - loss: 0.5338 - accuracy: 0.6886\n",
            "Epoch 44/50\n",
            "22317/22317 [==============================] - 2s 79us/step - loss: 0.5344 - accuracy: 0.6902\n",
            "Epoch 45/50\n",
            "22317/22317 [==============================] - 2s 77us/step - loss: 0.5314 - accuracy: 0.6892\n",
            "Epoch 46/50\n",
            "22317/22317 [==============================] - 2s 78us/step - loss: 0.5256 - accuracy: 0.6932\n",
            "Epoch 47/50\n",
            "22317/22317 [==============================] - 2s 78us/step - loss: 0.5197 - accuracy: 0.7004\n",
            "Epoch 48/50\n",
            "22317/22317 [==============================] - 2s 78us/step - loss: 0.5182 - accuracy: 0.6992\n",
            "Epoch 49/50\n",
            "22317/22317 [==============================] - 2s 78us/step - loss: 0.5130 - accuracy: 0.7000\n",
            "Epoch 50/50\n",
            "22317/22317 [==============================] - 2s 78us/step - loss: 0.5066 - accuracy: 0.7078\n"
          ],
          "name": "stdout"
        },
        {
          "output_type": "execute_result",
          "data": {
            "text/plain": [
              "<keras.callbacks.callbacks.History at 0x7f2ead914d30>"
            ]
          },
          "metadata": {
            "tags": []
          },
          "execution_count": 156
        }
      ]
    },
    {
      "cell_type": "code",
      "metadata": {
        "id": "DLAC13WXB5hE",
        "colab_type": "code",
        "colab": {}
      },
      "source": [
        "y_pred_keras = model.predict_classes(x_test)"
      ],
      "execution_count": 157,
      "outputs": []
    },
    {
      "cell_type": "code",
      "metadata": {
        "id": "q0FzRkIqBxpK",
        "colab_type": "code",
        "colab": {
          "base_uri": "https://localhost:8080/",
          "height": 0
        },
        "outputId": "a63a1744-c3dc-400d-c867-88038b1f0f86"
      },
      "source": [
        "con_metric = pd.DataFrame(metrics.confusion_matrix(y_test,y_pred_keras), index = ['acctual 0', 'actual 1'], columns = ['predicted 0', 'predicted 1'])\n",
        "con_metric"
      ],
      "execution_count": 158,
      "outputs": [
        {
          "output_type": "execute_result",
          "data": {
            "text/html": [
              "<div>\n",
              "<style scoped>\n",
              "    .dataframe tbody tr th:only-of-type {\n",
              "        vertical-align: middle;\n",
              "    }\n",
              "\n",
              "    .dataframe tbody tr th {\n",
              "        vertical-align: top;\n",
              "    }\n",
              "\n",
              "    .dataframe thead th {\n",
              "        text-align: right;\n",
              "    }\n",
              "</style>\n",
              "<table border=\"1\" class=\"dataframe\">\n",
              "  <thead>\n",
              "    <tr style=\"text-align: right;\">\n",
              "      <th></th>\n",
              "      <th>predicted 0</th>\n",
              "      <th>predicted 1</th>\n",
              "    </tr>\n",
              "  </thead>\n",
              "  <tbody>\n",
              "    <tr>\n",
              "      <th>acctual 0</th>\n",
              "      <td>388788</td>\n",
              "      <td>173260</td>\n",
              "    </tr>\n",
              "    <tr>\n",
              "      <th>actual 1</th>\n",
              "      <td>6257</td>\n",
              "      <td>4590</td>\n",
              "    </tr>\n",
              "  </tbody>\n",
              "</table>\n",
              "</div>"
            ],
            "text/plain": [
              "           predicted 0  predicted 1\n",
              "acctual 0       388788       173260\n",
              "actual 1          6257         4590"
            ]
          },
          "metadata": {
            "tags": []
          },
          "execution_count": 158
        }
      ]
    },
    {
      "cell_type": "code",
      "metadata": {
        "id": "hk4pEctCZst9",
        "colab_type": "code",
        "colab": {
          "base_uri": "https://localhost:8080/",
          "height": 0
        },
        "outputId": "b4409fc3-19d2-481e-9b05-029be8d809f5"
      },
      "source": [
        "print(metrics.classification_report(y_test,y_pred_keras.round()))"
      ],
      "execution_count": 132,
      "outputs": [
        {
          "output_type": "stream",
          "text": [
            "              precision    recall  f1-score   support\n",
            "\n",
            "           0       0.98      0.55      0.70    562048\n",
            "           1       0.02      0.53      0.04     10847\n",
            "\n",
            "    accuracy                           0.55    572895\n",
            "   macro avg       0.50      0.54      0.37    572895\n",
            "weighted avg       0.97      0.55      0.69    572895\n",
            "\n"
          ],
          "name": "stdout"
        }
      ]
    },
    {
      "cell_type": "markdown",
      "metadata": {
        "colab_type": "text",
        "id": "4mkETxtJVKQi"
      },
      "source": [
        "# **Artificial** **Neural** **Network**"
      ]
    },
    {
      "cell_type": "code",
      "metadata": {
        "id": "KjJ0DPgDruJw",
        "colab_type": "code",
        "colab": {}
      },
      "source": [
        "from sklearn.neural_network import MLPClassifier"
      ],
      "execution_count": 159,
      "outputs": []
    },
    {
      "cell_type": "code",
      "metadata": {
        "id": "xe2tsnkZN-hS",
        "colab_type": "code",
        "colab": {}
      },
      "source": [
        "#'alpha': 0.05, 'hidden_layer_sizes': (50, 100, 150), 'learning_rate': 'adaptive', 'solver': 'sgd'}"
      ],
      "execution_count": null,
      "outputs": []
    },
    {
      "cell_type": "code",
      "metadata": {
        "id": "2iyiafqzsPRb",
        "colab_type": "code",
        "colab": {}
      },
      "source": [
        "NN = MLPClassifier(hidden_layer_sizes=(50,100,150),activation= 'relu', max_iter=5000, alpha=0.05,solver='sgd', verbose=True,  random_state=21,tol=0.001, learning_rate='adaptive')"
      ],
      "execution_count": 161,
      "outputs": []
    },
    {
      "cell_type": "code",
      "metadata": {
        "id": "wzaQmiSjsayl",
        "colab_type": "code",
        "colab": {
          "base_uri": "https://localhost:8080/",
          "height": 1000
        },
        "outputId": "d22528f9-28c9-428e-f40c-2b3d7db19627"
      },
      "source": [
        "NN.fit(x_train,y_train)\n"
      ],
      "execution_count": 162,
      "outputs": [
        {
          "output_type": "stream",
          "text": [
            "/usr/local/lib/python3.6/dist-packages/sklearn/neural_network/_multilayer_perceptron.py:934: DataConversionWarning: A column-vector y was passed when a 1d array was expected. Please change the shape of y to (n_samples, ), for example using ravel().\n",
            "  y = column_or_1d(y, warn=True)\n"
          ],
          "name": "stderr"
        },
        {
          "output_type": "stream",
          "text": [
            "Iteration 1, loss = 0.73888848\n",
            "Iteration 2, loss = 0.72248190\n",
            "Iteration 3, loss = 0.71795852\n",
            "Iteration 4, loss = 0.71515573\n",
            "Iteration 5, loss = 0.71358078\n",
            "Iteration 6, loss = 0.71170186\n",
            "Iteration 7, loss = 0.70963291\n",
            "Iteration 8, loss = 0.70942654\n",
            "Iteration 9, loss = 0.70719452\n",
            "Iteration 10, loss = 0.70771591\n",
            "Iteration 11, loss = 0.70791635\n",
            "Iteration 12, loss = 0.70605080\n",
            "Iteration 13, loss = 0.70569312\n",
            "Iteration 14, loss = 0.70607486\n",
            "Iteration 15, loss = 0.70448594\n",
            "Iteration 16, loss = 0.70571788\n",
            "Iteration 17, loss = 0.70356282\n",
            "Iteration 18, loss = 0.70284388\n",
            "Iteration 19, loss = 0.70324248\n",
            "Iteration 20, loss = 0.70292225\n",
            "Iteration 21, loss = 0.70262231\n",
            "Iteration 22, loss = 0.70214038\n",
            "Iteration 23, loss = 0.70259666\n",
            "Iteration 24, loss = 0.70265119\n",
            "Iteration 25, loss = 0.70153972\n",
            "Iteration 26, loss = 0.70209609\n",
            "Training loss did not improve more than tol=0.001000 for 10 consecutive epochs. Setting learning rate to 0.000200\n",
            "Iteration 27, loss = 0.69909626\n",
            "Iteration 28, loss = 0.69894348\n",
            "Iteration 29, loss = 0.69929436\n",
            "Iteration 30, loss = 0.69898504\n",
            "Iteration 31, loss = 0.69909137\n",
            "Iteration 32, loss = 0.69878668\n",
            "Iteration 33, loss = 0.69882209\n",
            "Iteration 34, loss = 0.69833287\n",
            "Iteration 35, loss = 0.69840582\n",
            "Iteration 36, loss = 0.69899053\n",
            "Iteration 37, loss = 0.69821717\n",
            "Iteration 38, loss = 0.69852678\n",
            "Training loss did not improve more than tol=0.001000 for 10 consecutive epochs. Setting learning rate to 0.000040\n",
            "Iteration 39, loss = 0.69793705\n",
            "Iteration 40, loss = 0.69795906\n",
            "Iteration 41, loss = 0.69800165\n",
            "Iteration 42, loss = 0.69814327\n",
            "Iteration 43, loss = 0.69754337\n",
            "Iteration 44, loss = 0.69773756\n",
            "Iteration 45, loss = 0.69793100\n",
            "Iteration 46, loss = 0.69778424\n",
            "Iteration 47, loss = 0.69791046\n",
            "Iteration 48, loss = 0.69781485\n",
            "Iteration 49, loss = 0.69803770\n",
            "Training loss did not improve more than tol=0.001000 for 10 consecutive epochs. Setting learning rate to 0.000008\n",
            "Iteration 50, loss = 0.69769763\n",
            "Iteration 51, loss = 0.69771456\n",
            "Iteration 52, loss = 0.69767900\n",
            "Iteration 53, loss = 0.69763940\n",
            "Iteration 54, loss = 0.69771202\n",
            "Iteration 55, loss = 0.69764507\n",
            "Iteration 56, loss = 0.69763842\n",
            "Iteration 57, loss = 0.69763317\n",
            "Iteration 58, loss = 0.69770395\n",
            "Iteration 59, loss = 0.69759090\n",
            "Iteration 60, loss = 0.69772444\n",
            "Training loss did not improve more than tol=0.001000 for 10 consecutive epochs. Setting learning rate to 0.000002\n",
            "Iteration 61, loss = 0.69760497\n",
            "Iteration 62, loss = 0.69760935\n",
            "Iteration 63, loss = 0.69760447\n",
            "Iteration 64, loss = 0.69760071\n",
            "Iteration 65, loss = 0.69759711\n",
            "Iteration 66, loss = 0.69759516\n",
            "Iteration 67, loss = 0.69760184\n",
            "Iteration 68, loss = 0.69760148\n",
            "Iteration 69, loss = 0.69761303\n",
            "Iteration 70, loss = 0.69760191\n",
            "Iteration 71, loss = 0.69759543\n",
            "Training loss did not improve more than tol=0.001000 for 10 consecutive epochs. Setting learning rate to 0.000000\n",
            "Iteration 72, loss = 0.69758827\n",
            "Iteration 73, loss = 0.69758709\n",
            "Iteration 74, loss = 0.69758770\n",
            "Iteration 75, loss = 0.69758724\n",
            "Iteration 76, loss = 0.69758728\n",
            "Iteration 77, loss = 0.69758647\n",
            "Iteration 78, loss = 0.69758606\n",
            "Iteration 79, loss = 0.69758769\n",
            "Iteration 80, loss = 0.69758747\n",
            "Iteration 81, loss = 0.69758572\n",
            "Iteration 82, loss = 0.69759240\n",
            "Training loss did not improve more than tol=0.001000 for 10 consecutive epochs. Learning rate too small. Stopping.\n"
          ],
          "name": "stdout"
        },
        {
          "output_type": "execute_result",
          "data": {
            "text/plain": [
              "MLPClassifier(activation='relu', alpha=0.05, batch_size='auto', beta_1=0.9,\n",
              "              beta_2=0.999, early_stopping=False, epsilon=1e-08,\n",
              "              hidden_layer_sizes=(50, 100, 150), learning_rate='adaptive',\n",
              "              learning_rate_init=0.001, max_fun=15000, max_iter=5000,\n",
              "              momentum=0.9, n_iter_no_change=10, nesterovs_momentum=True,\n",
              "              power_t=0.5, random_state=21, shuffle=True, solver='sgd',\n",
              "              tol=0.001, validation_fraction=0.1, verbose=True,\n",
              "              warm_start=False)"
            ]
          },
          "metadata": {
            "tags": []
          },
          "execution_count": 162
        }
      ]
    },
    {
      "cell_type": "code",
      "metadata": {
        "id": "ExK5Qlbjsv0Y",
        "colab_type": "code",
        "colab": {}
      },
      "source": [
        "y_pred_NN = NN.predict(x_test)"
      ],
      "execution_count": 163,
      "outputs": []
    },
    {
      "cell_type": "code",
      "metadata": {
        "id": "XjoT8HKes3q_",
        "colab_type": "code",
        "colab": {
          "base_uri": "https://localhost:8080/",
          "height": 0
        },
        "outputId": "58329352-490f-4041-936a-7ff3ccdf72b8"
      },
      "source": [
        "con_metric = pd.DataFrame(metrics.confusion_matrix(y_test,y_pred_NN), index = ['acctual 0', 'actual 1'], columns = ['predicted 0', 'predicted 1'])\n",
        "con_metric"
      ],
      "execution_count": 164,
      "outputs": [
        {
          "output_type": "execute_result",
          "data": {
            "text/html": [
              "<div>\n",
              "<style scoped>\n",
              "    .dataframe tbody tr th:only-of-type {\n",
              "        vertical-align: middle;\n",
              "    }\n",
              "\n",
              "    .dataframe tbody tr th {\n",
              "        vertical-align: top;\n",
              "    }\n",
              "\n",
              "    .dataframe thead th {\n",
              "        text-align: right;\n",
              "    }\n",
              "</style>\n",
              "<table border=\"1\" class=\"dataframe\">\n",
              "  <thead>\n",
              "    <tr style=\"text-align: right;\">\n",
              "      <th></th>\n",
              "      <th>predicted 0</th>\n",
              "      <th>predicted 1</th>\n",
              "    </tr>\n",
              "  </thead>\n",
              "  <tbody>\n",
              "    <tr>\n",
              "      <th>acctual 0</th>\n",
              "      <td>376582</td>\n",
              "      <td>185466</td>\n",
              "    </tr>\n",
              "    <tr>\n",
              "      <th>actual 1</th>\n",
              "      <td>5620</td>\n",
              "      <td>5227</td>\n",
              "    </tr>\n",
              "  </tbody>\n",
              "</table>\n",
              "</div>"
            ],
            "text/plain": [
              "           predicted 0  predicted 1\n",
              "acctual 0       376582       185466\n",
              "actual 1          5620         5227"
            ]
          },
          "metadata": {
            "tags": []
          },
          "execution_count": 164
        }
      ]
    },
    {
      "cell_type": "code",
      "metadata": {
        "id": "kUcA_xeStMy1",
        "colab_type": "code",
        "colab": {
          "base_uri": "https://localhost:8080/",
          "height": 0
        },
        "outputId": "a0c107f3-3e43-4835-b3c6-e6b0e232a437"
      },
      "source": [
        "print(metrics.classification_report(y_test,y_pred_NN.round()))"
      ],
      "execution_count": 172,
      "outputs": [
        {
          "output_type": "stream",
          "text": [
            "              precision    recall  f1-score   support\n",
            "\n",
            "           0       0.99      0.04      0.08    567783\n",
            "           1       0.02      0.98      0.04     10847\n",
            "\n",
            "    accuracy                           0.06    578630\n",
            "   macro avg       0.50      0.51      0.06    578630\n",
            "weighted avg       0.97      0.06      0.08    578630\n",
            "\n"
          ],
          "name": "stdout"
        }
      ]
    },
    {
      "cell_type": "code",
      "metadata": {
        "id": "X0zZyv9VrJCo",
        "colab_type": "code",
        "colab": {}
      },
      "source": [
        ""
      ],
      "execution_count": null,
      "outputs": []
    },
    {
      "cell_type": "markdown",
      "metadata": {
        "id": "gRkCuqNIAvuv",
        "colab_type": "text"
      },
      "source": [
        "# LightGBM"
      ]
    },
    {
      "cell_type": "code",
      "metadata": {
        "id": "DYbPmL1zAybC",
        "colab_type": "code",
        "colab": {}
      },
      "source": [
        "from lightgbm import LGBMClassifier, plot_importance\n",
        "import xgboost as xgb"
      ],
      "execution_count": 203,
      "outputs": []
    },
    {
      "cell_type": "code",
      "metadata": {
        "id": "509FsjPeA0cE",
        "colab_type": "code",
        "colab": {
          "base_uri": "https://localhost:8080/",
          "height": 0
        },
        "outputId": "9e94e4f6-9518-4a52-ba8f-8d6a44372cbc"
      },
      "source": [
        "#class_weight_lgb={0: 0.5, 1: 0.7}\n",
        "lgb = LGBMClassifier(n_estimators=100,max_depth=7,learning_rate=0.01,random_state=42)\n",
        "lgb.fit(x_train,y_train)\n",
        "y_pred_light = lgb.predict(x_test)\n",
        "print(metrics.classification_report(y_test,y_pred_light))"
      ],
      "execution_count": 243,
      "outputs": [
        {
          "output_type": "stream",
          "text": [
            "/usr/local/lib/python3.6/dist-packages/sklearn/preprocessing/_label.py:235: DataConversionWarning: A column-vector y was passed when a 1d array was expected. Please change the shape of y to (n_samples, ), for example using ravel().\n",
            "  y = column_or_1d(y, warn=True)\n",
            "/usr/local/lib/python3.6/dist-packages/sklearn/preprocessing/_label.py:268: DataConversionWarning: A column-vector y was passed when a 1d array was expected. Please change the shape of y to (n_samples, ), for example using ravel().\n",
            "  y = column_or_1d(y, warn=True)\n"
          ],
          "name": "stderr"
        },
        {
          "output_type": "stream",
          "text": [
            "              precision    recall  f1-score   support\n",
            "\n",
            "           0       0.99      0.69      0.81    562048\n",
            "           1       0.03      0.48      0.05     10847\n",
            "\n",
            "    accuracy                           0.68    572895\n",
            "   macro avg       0.51      0.58      0.43    572895\n",
            "weighted avg       0.97      0.68      0.79    572895\n",
            "\n"
          ],
          "name": "stdout"
        }
      ]
    },
    {
      "cell_type": "code",
      "metadata": {
        "id": "Cz6v3LPwZSpd",
        "colab_type": "code",
        "colab": {
          "base_uri": "https://localhost:8080/",
          "height": 0
        },
        "outputId": "fee121c8-0c9a-4d2b-e894-bb5c51861824"
      },
      "source": [
        "con_metric = pd.DataFrame(metrics.confusion_matrix(y_test,y_pred_light), index = ['acctual 0', 'actual 1'], columns = ['predicted 0', 'predicted 1'])\n",
        "con_metric"
      ],
      "execution_count": 244,
      "outputs": [
        {
          "output_type": "execute_result",
          "data": {
            "text/html": [
              "<div>\n",
              "<style scoped>\n",
              "    .dataframe tbody tr th:only-of-type {\n",
              "        vertical-align: middle;\n",
              "    }\n",
              "\n",
              "    .dataframe tbody tr th {\n",
              "        vertical-align: top;\n",
              "    }\n",
              "\n",
              "    .dataframe thead th {\n",
              "        text-align: right;\n",
              "    }\n",
              "</style>\n",
              "<table border=\"1\" class=\"dataframe\">\n",
              "  <thead>\n",
              "    <tr style=\"text-align: right;\">\n",
              "      <th></th>\n",
              "      <th>predicted 0</th>\n",
              "      <th>predicted 1</th>\n",
              "    </tr>\n",
              "  </thead>\n",
              "  <tbody>\n",
              "    <tr>\n",
              "      <th>acctual 0</th>\n",
              "      <td>385353</td>\n",
              "      <td>176695</td>\n",
              "    </tr>\n",
              "    <tr>\n",
              "      <th>actual 1</th>\n",
              "      <td>5688</td>\n",
              "      <td>5159</td>\n",
              "    </tr>\n",
              "  </tbody>\n",
              "</table>\n",
              "</div>"
            ],
            "text/plain": [
              "           predicted 0  predicted 1\n",
              "acctual 0       385353       176695\n",
              "actual 1          5688         5159"
            ]
          },
          "metadata": {
            "tags": []
          },
          "execution_count": 244
        }
      ]
    },
    {
      "cell_type": "code",
      "metadata": {
        "id": "D2TTY7crBdcC",
        "colab_type": "code",
        "colab": {
          "base_uri": "https://localhost:8080/",
          "height": 0
        },
        "outputId": "d3fc9a74-3b29-49e6-aca4-7191df2a4d1b"
      },
      "source": [
        "xgb.plot_importance(XG)\n",
        "plt.rcParams['figure.figsize'] = [30, 30]\n",
        "plt.show()"
      ],
      "execution_count": 54,
      "outputs": [
        {
          "output_type": "display_data",
          "data": {
            "image/png": "[encoded data removed]",
            "text/plain": [
              "<Figure size 1800x2160 with 1 Axes>"
            ]
          },
          "metadata": {
            "tags": [],
            "needs_background": "light"
          }
        }
      ]
    },
    {
      "cell_type": "code",
      "metadata": {
        "id": "E1nHDNgfiGIj",
        "colab_type": "code",
        "colab": {}
      },
      "source": [
        "df.ps_calc_19_bin, df.ps_calc_15_bin,df.ps_ind_08_bin,df.ps_calc_17_bin,df.ps_calc_12, df.ps_ind_18_bin,df.ps_calc_09,df.ps_calc_18_bin, df.ps_ind_02_cat,df.ps_ind_04_cat, df.ps_calc_02,df.ps_calc_07,df.ps_ind_07_bin, df.ps_calc_13,"
      ],
      "execution_count": null,
      "outputs": []
    },
    {
      "cell_type": "markdown",
      "metadata": {
        "id": "gv7XTMraBose",
        "colab_type": "text"
      },
      "source": [
        "# catboost"
      ]
    },
    {
      "cell_type": "code",
      "metadata": {
        "id": "OXRIFhhXafHm",
        "colab_type": "code",
        "colab": {}
      },
      "source": [
        "#pip install catboost"
      ],
      "execution_count": 107,
      "outputs": []
    },
    {
      "cell_type": "code",
      "metadata": {
        "id": "5oS3yvNgaT0v",
        "colab_type": "code",
        "colab": {}
      },
      "source": [
        "from catboost import CatBoostClassifier"
      ],
      "execution_count": 108,
      "outputs": []
    },
    {
      "cell_type": "code",
      "metadata": {
        "id": "iwcFIUKZBroI",
        "colab_type": "code",
        "colab": {
          "base_uri": "https://localhost:8080/",
          "height": 1000
        },
        "outputId": "9da44791-8907-42dc-c4db-6dddaffa72bc"
      },
      "source": [
        "#class_weight_cb=[0.5, 0.6]\n",
        "cb = CatBoostClassifier(iterations=100,learning_rate=0.001,  depth=5,eval_metric='F1')\n",
        "# Fit model\n",
        "cb.fit(x_train,y_train)\n",
        "y_pred_cat = cb.predict(x_test)\n",
        "print(metrics.classification_report(y_test,y_pred_cat))"
      ],
      "execution_count": 111,
      "outputs": [
        {
          "output_type": "stream",
          "text": [
            "0:\tlearn: 0.4848974\ttotal: 13.7ms\tremaining: 1.36s\n",
            "1:\tlearn: 0.5254982\ttotal: 28.3ms\tremaining: 1.39s\n",
            "2:\tlearn: 0.5216226\ttotal: 41.6ms\tremaining: 1.34s\n",
            "3:\tlearn: 0.5258101\ttotal: 55.5ms\tremaining: 1.33s\n",
            "4:\tlearn: 0.5243177\ttotal: 69.7ms\tremaining: 1.32s\n",
            "5:\tlearn: 0.5313593\ttotal: 83.6ms\tremaining: 1.31s\n",
            "6:\tlearn: 0.5405432\ttotal: 96.8ms\tremaining: 1.29s\n",
            "7:\tlearn: 0.5433872\ttotal: 111ms\tremaining: 1.27s\n",
            "8:\tlearn: 0.5424016\ttotal: 124ms\tremaining: 1.25s\n",
            "9:\tlearn: 0.5421957\ttotal: 138ms\tremaining: 1.25s\n",
            "10:\tlearn: 0.5457147\ttotal: 152ms\tremaining: 1.23s\n",
            "11:\tlearn: 0.5445535\ttotal: 165ms\tremaining: 1.21s\n",
            "12:\tlearn: 0.5414210\ttotal: 179ms\tremaining: 1.19s\n",
            "13:\tlearn: 0.5413444\ttotal: 192ms\tremaining: 1.18s\n",
            "14:\tlearn: 0.5430022\ttotal: 204ms\tremaining: 1.16s\n",
            "15:\tlearn: 0.5404166\ttotal: 222ms\tremaining: 1.16s\n",
            "16:\tlearn: 0.5440621\ttotal: 235ms\tremaining: 1.15s\n",
            "17:\tlearn: 0.5443975\ttotal: 249ms\tremaining: 1.13s\n",
            "18:\tlearn: 0.5437838\ttotal: 262ms\tremaining: 1.11s\n",
            "19:\tlearn: 0.5418077\ttotal: 276ms\tremaining: 1.1s\n",
            "20:\tlearn: 0.5438936\ttotal: 289ms\tremaining: 1.09s\n",
            "21:\tlearn: 0.5445814\ttotal: 308ms\tremaining: 1.09s\n",
            "22:\tlearn: 0.5464319\ttotal: 323ms\tremaining: 1.08s\n",
            "23:\tlearn: 0.5474327\ttotal: 337ms\tremaining: 1.07s\n",
            "24:\tlearn: 0.5473632\ttotal: 351ms\tremaining: 1.05s\n",
            "25:\tlearn: 0.5476613\ttotal: 374ms\tremaining: 1.06s\n",
            "26:\tlearn: 0.5482774\ttotal: 388ms\tremaining: 1.05s\n",
            "27:\tlearn: 0.5479154\ttotal: 401ms\tremaining: 1.03s\n",
            "28:\tlearn: 0.5472706\ttotal: 414ms\tremaining: 1.01s\n",
            "29:\tlearn: 0.5479777\ttotal: 431ms\tremaining: 1.01s\n",
            "30:\tlearn: 0.5473393\ttotal: 445ms\tremaining: 990ms\n",
            "31:\tlearn: 0.5479992\ttotal: 458ms\tremaining: 973ms\n",
            "32:\tlearn: 0.5490929\ttotal: 471ms\tremaining: 957ms\n",
            "33:\tlearn: 0.5496904\ttotal: 485ms\tremaining: 941ms\n",
            "34:\tlearn: 0.5493381\ttotal: 498ms\tremaining: 925ms\n",
            "35:\tlearn: 0.5484396\ttotal: 510ms\tremaining: 906ms\n",
            "36:\tlearn: 0.5477927\ttotal: 523ms\tremaining: 891ms\n",
            "37:\tlearn: 0.5481372\ttotal: 537ms\tremaining: 875ms\n",
            "38:\tlearn: 0.5473819\ttotal: 551ms\tremaining: 861ms\n",
            "39:\tlearn: 0.5488303\ttotal: 567ms\tremaining: 851ms\n",
            "40:\tlearn: 0.5490621\ttotal: 582ms\tremaining: 837ms\n",
            "41:\tlearn: 0.5484841\ttotal: 595ms\tremaining: 821ms\n",
            "42:\tlearn: 0.5485095\ttotal: 608ms\tremaining: 807ms\n",
            "43:\tlearn: 0.5489133\ttotal: 622ms\tremaining: 792ms\n",
            "44:\tlearn: 0.5499138\ttotal: 640ms\tremaining: 783ms\n",
            "45:\tlearn: 0.5487450\ttotal: 654ms\tremaining: 768ms\n",
            "46:\tlearn: 0.5485861\ttotal: 672ms\tremaining: 758ms\n",
            "47:\tlearn: 0.5477908\ttotal: 686ms\tremaining: 743ms\n",
            "48:\tlearn: 0.5477392\ttotal: 699ms\tremaining: 728ms\n",
            "49:\tlearn: 0.5472277\ttotal: 711ms\tremaining: 711ms\n",
            "50:\tlearn: 0.5466799\ttotal: 726ms\tremaining: 697ms\n",
            "51:\tlearn: 0.5467783\ttotal: 738ms\tremaining: 681ms\n",
            "52:\tlearn: 0.5461748\ttotal: 751ms\tremaining: 666ms\n",
            "53:\tlearn: 0.5471007\ttotal: 765ms\tremaining: 651ms\n",
            "54:\tlearn: 0.5465709\ttotal: 778ms\tremaining: 637ms\n",
            "55:\tlearn: 0.5466607\ttotal: 791ms\tremaining: 622ms\n",
            "56:\tlearn: 0.5465076\ttotal: 805ms\tremaining: 607ms\n",
            "57:\tlearn: 0.5469121\ttotal: 818ms\tremaining: 593ms\n",
            "58:\tlearn: 0.5467155\ttotal: 832ms\tremaining: 578ms\n",
            "59:\tlearn: 0.5472642\ttotal: 850ms\tremaining: 566ms\n",
            "60:\tlearn: 0.5476167\ttotal: 864ms\tremaining: 552ms\n",
            "61:\tlearn: 0.5475790\ttotal: 877ms\tremaining: 538ms\n",
            "62:\tlearn: 0.5473549\ttotal: 890ms\tremaining: 523ms\n",
            "63:\tlearn: 0.5470585\ttotal: 904ms\tremaining: 508ms\n",
            "64:\tlearn: 0.5466257\ttotal: 917ms\tremaining: 494ms\n",
            "65:\tlearn: 0.5469764\ttotal: 930ms\tremaining: 479ms\n",
            "66:\tlearn: 0.5472119\ttotal: 944ms\tremaining: 465ms\n",
            "67:\tlearn: 0.5474612\ttotal: 957ms\tremaining: 451ms\n",
            "68:\tlearn: 0.5470577\ttotal: 969ms\tremaining: 435ms\n",
            "69:\tlearn: 0.5470670\ttotal: 987ms\tremaining: 423ms\n",
            "70:\tlearn: 0.5478747\ttotal: 1s\tremaining: 409ms\n",
            "71:\tlearn: 0.5471296\ttotal: 1.01s\tremaining: 395ms\n",
            "72:\tlearn: 0.5469044\ttotal: 1.03s\tremaining: 380ms\n",
            "73:\tlearn: 0.5470128\ttotal: 1.04s\tremaining: 365ms\n",
            "74:\tlearn: 0.5462747\ttotal: 1.05s\tremaining: 352ms\n",
            "75:\tlearn: 0.5463739\ttotal: 1.07s\tremaining: 338ms\n",
            "76:\tlearn: 0.5468154\ttotal: 1.08s\tremaining: 323ms\n",
            "77:\tlearn: 0.5467262\ttotal: 1.1s\tremaining: 309ms\n",
            "78:\tlearn: 0.5466812\ttotal: 1.11s\tremaining: 295ms\n",
            "79:\tlearn: 0.5461496\ttotal: 1.12s\tremaining: 281ms\n",
            "80:\tlearn: 0.5460321\ttotal: 1.14s\tremaining: 267ms\n",
            "81:\tlearn: 0.5464204\ttotal: 1.15s\tremaining: 253ms\n",
            "82:\tlearn: 0.5461676\ttotal: 1.16s\tremaining: 238ms\n",
            "83:\tlearn: 0.5467804\ttotal: 1.18s\tremaining: 224ms\n",
            "84:\tlearn: 0.5470781\ttotal: 1.19s\tremaining: 210ms\n",
            "85:\tlearn: 0.5469246\ttotal: 1.2s\tremaining: 196ms\n",
            "86:\tlearn: 0.5471679\ttotal: 1.22s\tremaining: 182ms\n",
            "87:\tlearn: 0.5468161\ttotal: 1.23s\tremaining: 168ms\n",
            "88:\tlearn: 0.5466720\ttotal: 1.24s\tremaining: 154ms\n",
            "89:\tlearn: 0.5472203\ttotal: 1.26s\tremaining: 140ms\n",
            "90:\tlearn: 0.5475270\ttotal: 1.28s\tremaining: 126ms\n",
            "91:\tlearn: 0.5479954\ttotal: 1.29s\tremaining: 112ms\n",
            "92:\tlearn: 0.5472849\ttotal: 1.31s\tremaining: 98.3ms\n",
            "93:\tlearn: 0.5473496\ttotal: 1.32s\tremaining: 84.2ms\n",
            "94:\tlearn: 0.5469984\ttotal: 1.33s\tremaining: 70.1ms\n",
            "95:\tlearn: 0.5470790\ttotal: 1.34s\tremaining: 56ms\n",
            "96:\tlearn: 0.5470714\ttotal: 1.37s\tremaining: 42.3ms\n",
            "97:\tlearn: 0.5464752\ttotal: 1.38s\tremaining: 28.2ms\n",
            "98:\tlearn: 0.5469627\ttotal: 1.4s\tremaining: 14.1ms\n",
            "99:\tlearn: 0.5473506\ttotal: 1.41s\tremaining: 0us\n",
            "              precision    recall  f1-score   support\n",
            "\n",
            "           0       0.99      0.66      0.79    562048\n",
            "           1       0.03      0.49      0.05     10847\n",
            "\n",
            "    accuracy                           0.66    572895\n",
            "   macro avg       0.51      0.58      0.42    572895\n",
            "weighted avg       0.97      0.66      0.78    572895\n",
            "\n"
          ],
          "name": "stdout"
        }
      ]
    },
    {
      "cell_type": "code",
      "metadata": {
        "colab_type": "code",
        "id": "Ddh6d4BKaSD0",
        "colab": {
          "base_uri": "https://localhost:8080/",
          "height": 0
        },
        "outputId": "0ebe2759-8e7c-49fc-9177-ba9e60d93768"
      },
      "source": [
        "con_metric = pd.DataFrame(metrics.confusion_matrix(y_test,y_pred_cat), index = ['acctual 0', 'actual 1'], columns = ['predicted 0', 'predicted 1'])\n",
        "con_metric"
      ],
      "execution_count": 112,
      "outputs": [
        {
          "output_type": "execute_result",
          "data": {
            "text/html": [
              "<div>\n",
              "<style scoped>\n",
              "    .dataframe tbody tr th:only-of-type {\n",
              "        vertical-align: middle;\n",
              "    }\n",
              "\n",
              "    .dataframe tbody tr th {\n",
              "        vertical-align: top;\n",
              "    }\n",
              "\n",
              "    .dataframe thead th {\n",
              "        text-align: right;\n",
              "    }\n",
              "</style>\n",
              "<table border=\"1\" class=\"dataframe\">\n",
              "  <thead>\n",
              "    <tr style=\"text-align: right;\">\n",
              "      <th></th>\n",
              "      <th>predicted 0</th>\n",
              "      <th>predicted 1</th>\n",
              "    </tr>\n",
              "  </thead>\n",
              "  <tbody>\n",
              "    <tr>\n",
              "      <th>acctual 0</th>\n",
              "      <td>370696</td>\n",
              "      <td>191352</td>\n",
              "    </tr>\n",
              "    <tr>\n",
              "      <th>actual 1</th>\n",
              "      <td>5500</td>\n",
              "      <td>5347</td>\n",
              "    </tr>\n",
              "  </tbody>\n",
              "</table>\n",
              "</div>"
            ],
            "text/plain": [
              "           predicted 0  predicted 1\n",
              "acctual 0       370696       191352\n",
              "actual 1          5500         5347"
            ]
          },
          "metadata": {
            "tags": []
          },
          "execution_count": 112
        }
      ]
    }
  ]
}